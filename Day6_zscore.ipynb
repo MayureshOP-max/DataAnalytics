{
  "nbformat": 4,
  "nbformat_minor": 0,
  "metadata": {
    "colab": {
      "provenance": [],
      "authorship_tag": "ABX9TyOP2UfoAxlJqGn5ejPGhV0c",
      "include_colab_link": true
    },
    "kernelspec": {
      "name": "python3",
      "display_name": "Python 3"
    },
    "language_info": {
      "name": "python"
    }
  },
  "cells": [
    {
      "cell_type": "markdown",
      "metadata": {
        "id": "view-in-github",
        "colab_type": "text"
      },
      "source": [
        "<a href=\"https://colab.research.google.com/github/MayureshOP-max/DataAnalytics/blob/main/Day6_zscore.ipynb\" target=\"_parent\"><img src=\"https://colab.research.google.com/assets/colab-badge.svg\" alt=\"Open In Colab\"/></a>"
      ]
    },
    {
      "cell_type": "code",
      "execution_count": null,
      "metadata": {
        "id": "NL6YoETOQFqS"
      },
      "outputs": [],
      "source": [
        "import pandas as pd\n",
        "import numpy as np\n",
        "import scipy.stats as stats\n",
        "from scipy.stats import zscore\n",
        "import matplotlib.pyplot as plt\n",
        "import seaborn as sns\n",
        "import os"
      ]
    },
    {
      "cell_type": "code",
      "source": [
        "df = pd.read_csv(\"/content/diabetes.csv\")"
      ],
      "metadata": {
        "id": "WYzeX-U8D1xP"
      },
      "execution_count": null,
      "outputs": []
    },
    {
      "cell_type": "code",
      "source": [
        "#Calculate mean and std of Glucose\n",
        "glucose_mean = df['Glucose'].mean()\n",
        "glucose_std = df['Glucose'].std()"
      ],
      "metadata": {
        "id": "7L-W-jdZD1ue"
      },
      "execution_count": null,
      "outputs": []
    },
    {
      "cell_type": "code",
      "source": [
        "print(f\"Mean of Glucose: {glucose_mean}\")\n",
        "print(f\"Standard Deviation of Glucose: {glucose_std}\")"
      ],
      "metadata": {
        "colab": {
          "base_uri": "https://localhost:8080/"
        },
        "id": "MJ1CgzYwD1rm",
        "outputId": "eb56510c-6911-4440-9d42-dee4cc4852da"
      },
      "execution_count": null,
      "outputs": [
        {
          "output_type": "stream",
          "name": "stdout",
          "text": [
            "Mean of Glucose: 120.89453125\n",
            "Standard Deviation of Glucose: 31.97261819513622\n"
          ]
        }
      ]
    },
    {
      "cell_type": "code",
      "source": [
        "#Calculate zscore for glucose level of 168 using manula method\n",
        "\n",
        "glucose_value = 168\n",
        "z_score_168_manual = (glucose_value - glucose_mean) / glucose_std\n",
        "print(f\"Z-score for Glucose level 168 (Manual): {z_score_168_manual}\")"
      ],
      "metadata": {
        "colab": {
          "base_uri": "https://localhost:8080/"
        },
        "id": "8HpowPoRD1ok",
        "outputId": "123d0efb-a253-4637-a9a5-3421c52355dd"
      },
      "execution_count": null,
      "outputs": [
        {
          "output_type": "stream",
          "name": "stdout",
          "text": [
            "Z-score for Glucose level 168 (Manual): 1.4733065794769926\n"
          ]
        }
      ]
    },
    {
      "cell_type": "code",
      "source": [
        "#this will add a column for the z-score of glucose for each record\n",
        "\n",
        "df['Glucose_ZScore'] = zscore(df['Glucose'])\n",
        "print(df)"
      ],
      "metadata": {
        "colab": {
          "base_uri": "https://localhost:8080/"
        },
        "id": "gowfV9phD1l0",
        "outputId": "1f7e1130-da03-499a-c7df-a03c912bb56c"
      },
      "execution_count": null,
      "outputs": [
        {
          "output_type": "stream",
          "name": "stdout",
          "text": [
            "     Pregnancies  Glucose  BloodPressure  SkinThickness  Insulin   BMI  \\\n",
            "0              6      148             72             35        0  33.6   \n",
            "1              1       85             66             29        0  26.6   \n",
            "2              8      183             64              0        0  23.3   \n",
            "3              1       89             66             23       94  28.1   \n",
            "4              0      137             40             35      168  43.1   \n",
            "..           ...      ...            ...            ...      ...   ...   \n",
            "763           10      101             76             48      180  32.9   \n",
            "764            2      122             70             27        0  36.8   \n",
            "765            5      121             72             23      112  26.2   \n",
            "766            1      126             60              0        0  30.1   \n",
            "767            1       93             70             31        0  30.4   \n",
            "\n",
            "     DiabetesPedigreeFunction  Age  Outcome  Glucose_ZScore  \n",
            "0                       0.627   50        1        0.848324  \n",
            "1                       0.351   31        0       -1.123396  \n",
            "2                       0.672   32        1        1.943724  \n",
            "3                       0.167   21        0       -0.998208  \n",
            "4                       2.288   33        1        0.504055  \n",
            "..                        ...  ...      ...             ...  \n",
            "763                     0.171   63        0       -0.622642  \n",
            "764                     0.340   27        0        0.034598  \n",
            "765                     0.245   30        0        0.003301  \n",
            "766                     0.349   47        1        0.159787  \n",
            "767                     0.315   23        0       -0.873019  \n",
            "\n",
            "[768 rows x 10 columns]\n"
          ]
        }
      ]
    },
    {
      "cell_type": "code",
      "source": [
        "#Find th row index where glucose = 168\n",
        "\n",
        "# df['Glucose'] == glucose_value = Returns 'True' where Glucose = 168\n",
        "# df[ now gets the actual record for 168\n",
        "   # . index returns the indices of rowsmatching this condition]0\n",
        "\n",
        "row_index = df[df['Glucose'] == glucose_value].index\n"
      ],
      "metadata": {
        "id": "3NTq4n6cD1jN"
      },
      "execution_count": null,
      "outputs": []
    },
    {
      "cell_type": "code",
      "source": [
        "#Now we extratc the first row from Glucose_zscore DF where Glucose = 168\n",
        "#Hence row index[0]... Remember, we may have multiple rows matching 168\n",
        "z_score_168_using_function = df['Glucose_ZScore'].iloc[row_index[0]]\n",
        "print(f\"Z-score for Glucose level 168 (Using Function): {z_score_168_using_function}\")"
      ],
      "metadata": {
        "colab": {
          "base_uri": "https://localhost:8080/"
        },
        "id": "F9AuVwy1D1gE",
        "outputId": "5df56828-b0a8-4f28-bb06-8d40525c4ba0"
      },
      "execution_count": null,
      "outputs": [
        {
          "output_type": "stream",
          "name": "stdout",
          "text": [
            "Z-score for Glucose level 168 (Using Function): 1.4742667011686503\n"
          ]
        }
      ]
    },
    {
      "cell_type": "code",
      "source": [
        "\n",
        "#Calclate the pecentile for zscore\n",
        "percentile_168 = stats.norm.cdf(z_score_168_manual)*100\n",
        "print(f\"Percentile for Glucose level 168: {percentile_168}%\")"
      ],
      "metadata": {
        "colab": {
          "base_uri": "https://localhost:8080/"
        },
        "id": "l_f3cv5hD1dV",
        "outputId": "e358255b-40f9-4494-fb0a-8ac322c922dd"
      },
      "execution_count": null,
      "outputs": [
        {
          "output_type": "stream",
          "name": "stdout",
          "text": [
            "Percentile for Glucose level 168: 92.96658063066623%\n"
          ]
        }
      ]
    },
    {
      "cell_type": "code",
      "source": [
        "#Find the z-score at the 30th percentile\n",
        "z_score_30 = stats.norm.ppf(0.30)\n",
        "print(f\"Z-score at the 30th percentile: {z_score_30}\")"
      ],
      "metadata": {
        "colab": {
          "base_uri": "https://localhost:8080/"
        },
        "id": "imNad4ClD1ak",
        "outputId": "38f3cfd1-b2c2-4d2f-ff8b-9e4068ff20ad"
      },
      "execution_count": null,
      "outputs": [
        {
          "output_type": "stream",
          "name": "stdout",
          "text": [
            "Z-score at the 30th percentile: -0.5244005127080409\n"
          ]
        }
      ]
    },
    {
      "cell_type": "code",
      "source": [
        "#Calculate the corresponding Glucose value for the zscore of the 30th percenile\n",
        "glucose_value_30 = glucose_mean + z_score_30 * glucose_std\n",
        "print(f\"Glucose value corresponding to the 30th percentile: {glucose_value_30}\")"
      ],
      "metadata": {
        "colab": {
          "base_uri": "https://localhost:8080/"
        },
        "id": "fJW0e8eJD1X0",
        "outputId": "2a6de780-7a27-434b-a065-3394318cd4ca"
      },
      "execution_count": null,
      "outputs": [
        {
          "output_type": "stream",
          "name": "stdout",
          "text": [
            "Glucose value corresponding to the 30th percentile: 104.12807387585212\n"
          ]
        }
      ]
    },
    {
      "cell_type": "code",
      "source": [
        "#Given z-score of 2.8 calculate the corresponding Glucose level\n",
        "z_score_given = 2.8\n",
        "glucose_value_given = glucose_mean + z_score_given * glucose_std\n",
        "print(f\"Glucose value corresponding to the given z-score: {glucose_value_given}\")"
      ],
      "metadata": {
        "colab": {
          "base_uri": "https://localhost:8080/"
        },
        "id": "9B1RR7oyD1VP",
        "outputId": "8974ec32-f4cd-4fa0-eb94-15ed169ce99d"
      },
      "execution_count": null,
      "outputs": [
        {
          "output_type": "stream",
          "name": "stdout",
          "text": [
            "Glucose value corresponding to the given z-score: 210.4178621963814\n"
          ]
        }
      ]
    },
    {
      "cell_type": "code",
      "source": [
        "#calculate percentile for the z-score of 2.8\n",
        "percentile_given = stats.norm.cdf(z_score_given)*100\n",
        "print(f\"Percentile for the given z-score: {percentile_given}%\")"
      ],
      "metadata": {
        "colab": {
          "base_uri": "https://localhost:8080/"
        },
        "id": "MWs9UnjED1Sk",
        "outputId": "836273be-f084-482c-ca57-5ab6907da211"
      },
      "execution_count": null,
      "outputs": [
        {
          "output_type": "stream",
          "name": "stdout",
          "text": [
            "Percentile for the given z-score: 99.7444869669572%\n"
          ]
        }
      ]
    },
    {
      "cell_type": "markdown",
      "source": [
        "# **TIPS DATASET**"
      ],
      "metadata": {
        "id": "-7V4vr_NbOs4"
      }
    },
    {
      "cell_type": "code",
      "source": [
        "data = pd.read_csv(\"/content/tips.csv\")"
      ],
      "metadata": {
        "id": "stu7_yCdD1QF"
      },
      "execution_count": null,
      "outputs": []
    },
    {
      "cell_type": "code",
      "source": [
        "#extract the bill series\n",
        "bill_series = data['total_bill']\n",
        "total_bill_series = data['total_bill']\n",
        "total_bill_series"
      ],
      "metadata": {
        "colab": {
          "base_uri": "https://localhost:8080/",
          "height": 458
        },
        "id": "-BmreowbD1NV",
        "outputId": "2fa66807-f556-4676-8924-cbd9a0792469"
      },
      "execution_count": null,
      "outputs": [
        {
          "output_type": "execute_result",
          "data": {
            "text/plain": [
              "0      16.99\n",
              "1      10.34\n",
              "2      21.01\n",
              "3      23.68\n",
              "4      24.59\n",
              "       ...  \n",
              "239    29.03\n",
              "240    27.18\n",
              "241    22.67\n",
              "242    17.82\n",
              "243    18.78\n",
              "Name: total_bill, Length: 244, dtype: float64"
            ],
            "text/html": [
              "<div>\n",
              "<style scoped>\n",
              "    .dataframe tbody tr th:only-of-type {\n",
              "        vertical-align: middle;\n",
              "    }\n",
              "\n",
              "    .dataframe tbody tr th {\n",
              "        vertical-align: top;\n",
              "    }\n",
              "\n",
              "    .dataframe thead th {\n",
              "        text-align: right;\n",
              "    }\n",
              "</style>\n",
              "<table border=\"1\" class=\"dataframe\">\n",
              "  <thead>\n",
              "    <tr style=\"text-align: right;\">\n",
              "      <th></th>\n",
              "      <th>total_bill</th>\n",
              "    </tr>\n",
              "  </thead>\n",
              "  <tbody>\n",
              "    <tr>\n",
              "      <th>0</th>\n",
              "      <td>16.99</td>\n",
              "    </tr>\n",
              "    <tr>\n",
              "      <th>1</th>\n",
              "      <td>10.34</td>\n",
              "    </tr>\n",
              "    <tr>\n",
              "      <th>2</th>\n",
              "      <td>21.01</td>\n",
              "    </tr>\n",
              "    <tr>\n",
              "      <th>3</th>\n",
              "      <td>23.68</td>\n",
              "    </tr>\n",
              "    <tr>\n",
              "      <th>4</th>\n",
              "      <td>24.59</td>\n",
              "    </tr>\n",
              "    <tr>\n",
              "      <th>...</th>\n",
              "      <td>...</td>\n",
              "    </tr>\n",
              "    <tr>\n",
              "      <th>239</th>\n",
              "      <td>29.03</td>\n",
              "    </tr>\n",
              "    <tr>\n",
              "      <th>240</th>\n",
              "      <td>27.18</td>\n",
              "    </tr>\n",
              "    <tr>\n",
              "      <th>241</th>\n",
              "      <td>22.67</td>\n",
              "    </tr>\n",
              "    <tr>\n",
              "      <th>242</th>\n",
              "      <td>17.82</td>\n",
              "    </tr>\n",
              "    <tr>\n",
              "      <th>243</th>\n",
              "      <td>18.78</td>\n",
              "    </tr>\n",
              "  </tbody>\n",
              "</table>\n",
              "<p>244 rows × 1 columns</p>\n",
              "</div><br><label><b>dtype:</b> float64</label>"
            ]
          },
          "metadata": {},
          "execution_count": 21
        }
      ]
    },
    {
      "cell_type": "code",
      "source": [
        "#calc mean and std\n",
        "mu, std = total_bill_series.mean(), total_bill_series.std()"
      ],
      "metadata": {
        "id": "qLUCm7ptD1Kl"
      },
      "execution_count": null,
      "outputs": []
    },
    {
      "cell_type": "code",
      "source": [
        "z_scores = (total_bill_series - mu) / std"
      ],
      "metadata": {
        "id": "HcUOEJVfD1Ht"
      },
      "execution_count": null,
      "outputs": []
    },
    {
      "cell_type": "code",
      "source": [],
      "metadata": {
        "id": "ohCsik3YD1FN"
      },
      "execution_count": null,
      "outputs": []
    },
    {
      "cell_type": "code",
      "source": [
        "#Histogram\n",
        "plt.subplot(1,2,1)\n",
        "plt.hist(total_bill_series, bins = 20,density =True, alpha = 0.6, color = 'b', edgecolor= 'black')\n",
        "#fit a normal distributuon to the dat\n",
        "x = np.linspace(total_bill_series.min(), total_bill_series.max(), 100)\n",
        "p = stats.norm.pdf(x, mu, std)\n",
        "plt.plot(x, p, 'r', linewidth = 2)\n",
        "plt.xlabel('Title')\n",
        "plt.ylabel('Density')\n",
        "plt.grid(True)\n",
        "plt.title('Histogram of Total Bill')"
      ],
      "metadata": {
        "colab": {
          "base_uri": "https://localhost:8080/",
          "height": 489
        },
        "id": "RXQ_E9MnD1Cs",
        "outputId": "a0cfa7a0-8b73-4c89-b55c-0f8819ff2375"
      },
      "execution_count": null,
      "outputs": [
        {
          "output_type": "execute_result",
          "data": {
            "text/plain": [
              "Text(0.5, 1.0, 'Histogram of Total Bill')"
            ]
          },
          "metadata": {},
          "execution_count": 31
        },
        {
          "output_type": "display_data",
          "data": {
            "text/plain": [
              "<Figure size 640x480 with 1 Axes>"
            ],
            "image/png": "[encoded data removed]"
          },
          "metadata": {}
        }
      ]
    },
    {
      "cell_type": "code",
      "source": [
        "#QQ plot\n",
        "plt.subplot(1,2,2)\n",
        "stats.probplot(total_bill_series, dist = 'norm', plot = plt)\n",
        "plt.title('QQ Plot of Total Bill')\n",
        "plt.show()"
      ],
      "metadata": {
        "colab": {
          "base_uri": "https://localhost:8080/",
          "height": 472
        },
        "id": "xDr-bcbeD1AH",
        "outputId": "4dc6d3e0-77db-4b77-aef4-973abe4fac60"
      },
      "execution_count": null,
      "outputs": [
        {
          "output_type": "display_data",
          "data": {
            "text/plain": [
              "<Figure size 640x480 with 1 Axes>"
            ],
            "image/png": "[encoded data removed]"
          },
          "metadata": {}
        }
      ]
    },
    {
      "cell_type": "code",
      "source": [
        "#Plot graph showing mean +-3 SD\n",
        "plt.figure(figsize =(10,6))\n",
        "plt.hist(total_bill_series, bins = 20, density = True, alpha = 0.6, color = 'b', edgecolor = 'black')"
      ],
      "metadata": {
        "colab": {
          "base_uri": "https://localhost:8080/",
          "height": 661
        },
        "id": "xrWWhkYQD09m",
        "outputId": "8cf76313-ff98-451b-e2fc-3defadcab614"
      },
      "execution_count": null,
      "outputs": [
        {
          "output_type": "execute_result",
          "data": {
            "text/plain": [
              "(array([0.00171695, 0.0103017 , 0.02232036, 0.04979156, 0.05322546,\n",
              "        0.06352717, 0.04807461, 0.03948986, 0.03090511, 0.02232036,\n",
              "        0.0171695 , 0.01545255, 0.00858475, 0.01201865, 0.00515085,\n",
              "        0.0068678 , 0.00171695, 0.0034339 , 0.00515085, 0.00171695]),\n",
              " array([ 3.07 ,  5.457,  7.844, 10.231, 12.618, 15.005, 17.392, 19.779,\n",
              "        22.166, 24.553, 26.94 , 29.327, 31.714, 34.101, 36.488, 38.875,\n",
              "        41.262, 43.649, 46.036, 48.423, 50.81 ]),\n",
              " <BarContainer object of 20 artists>)"
            ]
          },
          "metadata": {},
          "execution_count": 32
        },
        {
          "output_type": "display_data",
          "data": {
            "text/plain": [
              "<Figure size 1000x600 with 1 Axes>"
            ],
            "image/png": "[encoded data removed]"
          },
          "metadata": {}
        }
      ]
    },
    {
      "cell_type": "code",
      "source": [
        "#Fit a normal ditribution to the data\n",
        "x = np.linspace(total_bill_series.min(), total_bill_series.max(), 1000)\n",
        "p = stats.norm.pdf(x, mu, std)\n",
        "plt.plot(x, p, 'k', linewidth = 2)\n",
        "title = \"Fit results: mu = %.2f, std = %.2f\" % (mu, std)\n",
        "plt.title(title)\n",
        "plt.xlabel('Total Bill')\n",
        "plt.ylabel('Density')\n",
        "plt.grid(True)"
      ],
      "metadata": {
        "colab": {
          "base_uri": "https://localhost:8080/",
          "height": 472
        },
        "id": "lECMP7HyeEVF",
        "outputId": "1f32dc32-85c0-4cab-cce7-8ab73d17f59c"
      },
      "execution_count": null,
      "outputs": [
        {
          "output_type": "display_data",
          "data": {
            "text/plain": [
              "<Figure size 640x480 with 1 Axes>"
            ],
            "image/png": "[encoded data removed]"
          },
          "metadata": {}
        }
      ]
    },
    {
      "cell_type": "code",
      "source": [
        "#PLot mean +-3 SD\n",
        "for i in range(1,4):\n",
        "  plt.axvline(mu + std * i, color = 'r', linestyle = '--', linewidth = 2, label = f\"Mean - {i} SD\")\n",
        "  plt.axvline(mu - std * i, color = 'r', linestyle = ':', linewidth = 2)\n",
        "plt.legend()\n",
        "plt.show()"
      ],
      "metadata": {
        "colab": {
          "base_uri": "https://localhost:8080/",
          "height": 435
        },
        "id": "cVwAw390eESu",
        "outputId": "aedc4fd4-f035-43ac-c096-28657e068e5d"
      },
      "execution_count": null,
      "outputs": [
        {
          "output_type": "display_data",
          "data": {
            "text/plain": [
              "<Figure size 640x480 with 1 Axes>"
            ],
            "image/png": "[encoded data removed]"
          },
          "metadata": {}
        }
      ]
    },
    {
      "cell_type": "code",
      "source": [
        "#check if mean +- 1 sd, mean=linewidth +-2 SD and mean+-3 SD satisfy the empirical rule\n",
        "within_1sd = (z_scores >= -1) & (z_scores <= 1)\n",
        "within_2sd = (z_scores >= -2) & (z_scores <= 2)\n",
        "within_3sd = (z_scores >= -3) & (z_scores <= 3)\n",
        "\n",
        "percentage_within_1sd = (within_1sd.sum() / len(z_scores)) * 100\n",
        "percentage_within_2sd = (within_2sd.sum() / len(z_scores)) * 100\n",
        "percentage_within_3sd = (within_3sd.sum() / len(z_scores)) * 100\n",
        "\n",
        "print(f\"Percentage of values within 1 SD: {percentage_within_1sd:.2f}%\")\n",
        "print(f\"Percentage of values within 2 SD: {percentage_within_2sd:.2f}%\")\n",
        "print(f\"Percentage of values within 3 SD: {percentage_within_3sd:.2f}%\")"
      ],
      "metadata": {
        "colab": {
          "base_uri": "https://localhost:8080/"
        },
        "id": "jTXT1FCDeEQc",
        "outputId": "60b2bd30-1592-4e11-e6c8-5d2da8a36944"
      },
      "execution_count": null,
      "outputs": [
        {
          "output_type": "stream",
          "name": "stdout",
          "text": [
            "Percentage of values within 1 SD: 72.13%\n",
            "Percentage of values within 2 SD: 94.26%\n",
            "Percentage of values within 3 SD: 98.36%\n"
          ]
        }
      ]
    },
    {
      "cell_type": "code",
      "source": [
        "#Create a df to store\n",
        "result_df = pd.DataFrame({\n",
        "    'total_bill':total_bill_series,\n",
        "    'z_scores':z_scores,\n",
        "    'within_1sd':within_1sd,\n",
        "    'within_2sd':within_2sd,\n",
        "    'within_3sd':within_3sd\n",
        "})\n",
        "\n",
        "print(result_df.head())"
      ],
      "metadata": {
        "colab": {
          "base_uri": "https://localhost:8080/"
        },
        "id": "zYZOF_LReEN9",
        "outputId": "adf80efe-1931-4ee6-97d1-63e42745a601"
      },
      "execution_count": null,
      "outputs": [
        {
          "output_type": "stream",
          "name": "stdout",
          "text": [
            "   total_bill  z_scores  within_1sd  within_2sd  within_3sd\n",
            "0       16.99 -0.314066        True        True        True\n",
            "1       10.34 -1.061054       False        True        True\n",
            "2       21.01  0.137497        True        True        True\n",
            "3       23.68  0.437416        True        True        True\n",
            "4       24.59  0.539635        True        True        True\n"
          ]
        }
      ]
    },
    {
      "cell_type": "code",
      "source": [
        "if os.path.exists('deletethis-2.csv'):\n",
        "  os.remove('deletethis-2.csv')\n",
        "result_df.to_csv('deletethis-2.csv', index = False)\n"
      ],
      "metadata": {
        "id": "HTbvE6lGeELr"
      },
      "execution_count": null,
      "outputs": []
    },
    {
      "cell_type": "code",
      "source": [
        "#Filter outliers\n",
        "outliers = result_df[(result_df['z_scores']< -3) | result_df['z_scores']> -3]\n",
        "#Outlier z-score box plot"
      ],
      "metadata": {
        "id": "Nw6bDs_FeEJd"
      },
      "execution_count": null,
      "outputs": []
    },
    {
      "cell_type": "code",
      "source": [
        "plt.figure(figsize = (8,6))\n",
        "vert = False\n",
        "# marker = '*': Sets the marker style for the outliers to a star ('*').\n",
        "\n",
        "plt.boxplot(result_df['z_scores'])\n",
        "plt.ylabel('Z-Score')\n",
        "plt.title('Outlier Z-Score Box Plot')\n",
        "plt.show()"
      ],
      "metadata": {
        "colab": {
          "base_uri": "https://localhost:8080/",
          "height": 545
        },
        "id": "icp1W1K4eEHW",
        "outputId": "6d33abf0-f338-44b1-ae0d-48960624d802"
      },
      "execution_count": null,
      "outputs": [
        {
          "output_type": "display_data",
          "data": {
            "text/plain": [
              "<Figure size 800x600 with 1 Axes>"
            ],
            "image/png": "[encoded data removed]"
          },
          "metadata": {}
        }
      ]
    },
    {
      "cell_type": "code",
      "source": [],
      "metadata": {
        "id": "-5rhLbQ0eEE1"
      },
      "execution_count": null,
      "outputs": []
    },
    {
      "cell_type": "code",
      "source": [],
      "metadata": {
        "id": "-GfbIFMBeECF"
      },
      "execution_count": null,
      "outputs": []
    },
    {
      "cell_type": "code",
      "source": [],
      "metadata": {
        "id": "h-kXYUm0eD_r"
      },
      "execution_count": null,
      "outputs": []
    },
    {
      "cell_type": "code",
      "source": [],
      "metadata": {
        "id": "m4N2qBMReD9Z"
      },
      "execution_count": null,
      "outputs": []
    },
    {
      "cell_type": "code",
      "source": [],
      "metadata": {
        "id": "qGaKUqbxeD6l"
      },
      "execution_count": null,
      "outputs": []
    },
    {
      "cell_type": "code",
      "source": [],
      "metadata": {
        "id": "FLOX9-P3eD3w"
      },
      "execution_count": null,
      "outputs": []
    },
    {
      "cell_type": "code",
      "source": [],
      "metadata": {
        "id": "35ljkasZeD1M"
      },
      "execution_count": null,
      "outputs": []
    }
  ]
}