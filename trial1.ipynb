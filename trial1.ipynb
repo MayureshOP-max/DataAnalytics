{
  "nbformat": 4,
  "nbformat_minor": 0,
  "metadata": {
    "colab": {
      "provenance": [],
      "authorship_tag": "ABX9TyO0mz9TZVwcL7MwwFeHtios",
      "include_colab_link": true
    },
    "kernelspec": {
      "name": "python3",
      "display_name": "Python 3"
    },
    "language_info": {
      "name": "python"
    }
  },
  "cells": [
    {
      "cell_type": "markdown",
      "metadata": {
        "id": "view-in-github",
        "colab_type": "text"
      },
      "source": [
        "<a href=\"https://colab.research.google.com/github/MayureshOP-max/DataAnalytics/blob/main/trial1.ipynb\" target=\"_parent\"><img src=\"https://colab.research.google.com/assets/colab-badge.svg\" alt=\"Open In Colab\"/></a>"
      ]
    },
    {
      "cell_type": "code",
      "execution_count": 1,
      "metadata": {
        "colab": {
          "base_uri": "https://localhost:8080/"
        },
        "id": "OmAilMG7LgX-",
        "outputId": "0d500da4-d7cc-4a1c-f873-22058e9e89fa"
      },
      "outputs": [
        {
          "output_type": "stream",
          "name": "stdout",
          "text": [
            "[2, 1, 6, 8, 9]\n"
          ]
        }
      ],
      "source": [
        "# prompt: create  a 4 by 4 matrix\n",
        "\n",
        "import numpy as np\n",
        "\n",
        "matrix = np.zeros((4, 4))\n",
        "print(matrix)\n"
      ]
    },
    {
      "cell_type": "code",
      "source": [
        "# prompt: create a dataframe with 2 columns and 10 rows\n",
        "\n",
        "import pandas as pd\n",
        "\n",
        "# Create a DataFrame with 2 columns and 10 rows\n",
        "df = pd.DataFrame({'Column1': range(10), 'Column2': range(10, 20)})\n",
        "\n",
        "print(df)\n"
      ],
      "metadata": {
        "colab": {
          "base_uri": "https://localhost:8080/"
        },
        "id": "tQujgrH6Lxex",
        "outputId": "d2f85665-24dc-4c6c-b5a5-8d52de596d8a"
      },
      "execution_count": 2,
      "outputs": [
        {
          "output_type": "stream",
          "name": "stdout",
          "text": [
            "   Column1  Column2\n",
            "0        0       10\n",
            "1        1       11\n",
            "2        2       12\n",
            "3        3       13\n",
            "4        4       14\n",
            "5        5       15\n",
            "6        6       16\n",
            "7        7       17\n",
            "8        8       18\n",
            "9        9       19\n"
          ]
        }
      ]
    }
  ]
}