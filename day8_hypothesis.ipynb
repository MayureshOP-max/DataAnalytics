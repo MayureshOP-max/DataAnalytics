{
  "nbformat": 4,
  "nbformat_minor": 0,
  "metadata": {
    "colab": {
      "provenance": [],
      "authorship_tag": "ABX9TyMROxJmKPZD/ShWt9XVBRXo",
      "include_colab_link": true
    },
    "kernelspec": {
      "name": "python3",
      "display_name": "Python 3"
    },
    "language_info": {
      "name": "python"
    }
  },
  "cells": [
    {
      "cell_type": "markdown",
      "metadata": {
        "id": "view-in-github",
        "colab_type": "text"
      },
      "source": [
        "<a href=\"https://colab.research.google.com/github/MayureshOP-max/DataAnalytics/blob/main/day8_hypothesis.ipynb\" target=\"_parent\"><img src=\"https://colab.research.google.com/assets/colab-badge.svg\" alt=\"Open In Colab\"/></a>"
      ]
    },
    {
      "cell_type": "code",
      "execution_count": null,
      "metadata": {
        "id": "AZT1HgkcsEPC"
      },
      "outputs": [],
      "source": [
        "import pandas as pd\n",
        "from scipy import stats"
      ]
    },
    {
      "cell_type": "code",
      "source": [
        "data = pd.read_csv('/content/Mall_Customers.csv')\n",
        "age_data = data['Age']"
      ],
      "metadata": {
        "id": "oshPuXYasvcJ"
      },
      "execution_count": null,
      "outputs": []
    },
    {
      "cell_type": "code",
      "source": [
        "pop_avg_age = 40"
      ],
      "metadata": {
        "id": "ilKFGg3vs9wE"
      },
      "execution_count": null,
      "outputs": []
    },
    {
      "cell_type": "code",
      "source": [
        "t_statistics, p_value = stats.ttest_1samp(age_data, pop_avg_age)\n",
        "degrees_of_freedom = len(age_data) - 1"
      ],
      "metadata": {
        "id": "80PJXFYitChi"
      },
      "execution_count": null,
      "outputs": []
    },
    {
      "cell_type": "code",
      "source": [
        "print(f\"T-Statistics: {t_statistics}\")\n",
        "print(f\"P-Value: {p_value}\")\n",
        "print(f\"Degrees of Freedom: {degrees_of_freedom}\")"
      ],
      "metadata": {
        "colab": {
          "base_uri": "https://localhost:8080/"
        },
        "id": "mz19P7P8tKAk",
        "outputId": "40396ddb-a237-474b-a0db-8aeb13914c61"
      },
      "execution_count": null,
      "outputs": [
        {
          "output_type": "stream",
          "name": "stdout",
          "text": [
            "T-Statistics: -1.1642528048895828\n",
            "P-Value: 0.24571546680949305\n",
            "Degrees of Freedom: 199\n"
          ]
        }
      ]
    },
    {
      "cell_type": "code",
      "source": [
        "#Interpretation\n",
        "alpha = 0.025\n",
        "if p_value < alpha:\n",
        "  print(\"Reject the null hypothesis\")\n",
        "else:\n",
        "  print(\"Fail to reject the null hypothesis\")"
      ],
      "metadata": {
        "colab": {
          "base_uri": "https://localhost:8080/"
        },
        "id": "OKy0U7TJtMuP",
        "outputId": "01a46e6f-b28f-4c72-ab27-b5c4e9792b0d"
      },
      "execution_count": null,
      "outputs": [
        {
          "output_type": "stream",
          "name": "stdout",
          "text": [
            "Fail to reject the null hypothesis\n"
          ]
        }
      ]
    },
    {
      "cell_type": "code",
      "source": [
        "critical_value = stats.t.ppf(1 - alpha, degrees_of_freedom)\n",
        "print(f\"Critical Value: {critical_value}\")"
      ],
      "metadata": {
        "colab": {
          "base_uri": "https://localhost:8080/"
        },
        "id": "H2gPqkJrtTwk",
        "outputId": "0f68e59a-1d11-4626-d77f-b6a2789d9063"
      },
      "execution_count": null,
      "outputs": [
        {
          "output_type": "stream",
          "name": "stdout",
          "text": [
            "Critical Value: 1.971956544249395\n"
          ]
        }
      ]
    },
    {
      "cell_type": "code",
      "source": [
        "#Two tailed t-test\n",
        "if abs(t_statistics) > critical_value:\n",
        "  print(\"The null hypotesis (mean age = 40) cannot be rejected\")\n",
        "else:\n",
        "  print(\"The null hypotesis (mean age = 40) is rejected\")"
      ],
      "metadata": {
        "colab": {
          "base_uri": "https://localhost:8080/"
        },
        "id": "33d0ZTeftk-3",
        "outputId": "c657955f-43ee-496a-c823-d1861888dad8"
      },
      "execution_count": null,
      "outputs": [
        {
          "output_type": "stream",
          "name": "stdout",
          "text": [
            "The null hypotesis (mean age = 40) is rejected\n"
          ]
        }
      ]
    },
    {
      "cell_type": "code",
      "source": [
        "#separate data by genre\n",
        "male_data = data[data['Genre'] == 'Male']['Spending Score (1-100)']\n",
        "female_data = data[data['Genre'] == 'Female']['Spending Score (1-100)']\n"
      ],
      "metadata": {
        "id": "lvhpFlPiumEq"
      },
      "execution_count": null,
      "outputs": []
    },
    {
      "cell_type": "code",
      "source": [
        "t_statistics, p_value = stats.ttest_ind(male_data, female_data)"
      ],
      "metadata": {
        "id": "lF8pkTHmxps9"
      },
      "execution_count": null,
      "outputs": []
    },
    {
      "cell_type": "code",
      "source": [
        "n_male = len(male_data)\n",
        "n_female = len(female_data)\n",
        "degrees_of_freedom = n_male + n_female - 2\n",
        "alpha = 0.025"
      ],
      "metadata": {
        "id": "hyOvziO2xyCI"
      },
      "execution_count": null,
      "outputs": []
    },
    {
      "cell_type": "code",
      "source": [
        "critical_value = stats.t.ppf(1 - alpha / 2, degrees_of_freedom)"
      ],
      "metadata": {
        "id": "EKJXzBKJx6Zl"
      },
      "execution_count": null,
      "outputs": []
    },
    {
      "cell_type": "code",
      "source": [
        "print(f\"T-Statistics: {t_statistics}\")\n",
        "print(f\"P-Value: {p_value}\")\n",
        "print(f\"Degrees of Freedom: {degrees_of_freedom}\")\n",
        "print(f\"Critical Value: {critical_value}\")\n",
        "#"
      ],
      "metadata": {
        "id": "lHI_VfQAx9wj",
        "outputId": "c95e81d2-b74b-434d-9d87-07105d5cfaac",
        "colab": {
          "base_uri": "https://localhost:8080/"
        }
      },
      "execution_count": null,
      "outputs": [
        {
          "output_type": "stream",
          "name": "stdout",
          "text": [
            "T-Statistics: -0.8190464150660334\n",
            "P-Value: 0.4137446589852174\n",
            "Degrees of Freedom: 198\n",
            "Critical Value: 2.2585761678547374\n"
          ]
        }
      ]
    },
    {
      "cell_type": "code",
      "source": [],
      "metadata": {
        "id": "4QF6hKXlyAPJ"
      },
      "execution_count": null,
      "outputs": []
    }
  ]
}