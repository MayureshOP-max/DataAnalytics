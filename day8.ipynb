{
  "nbformat": 4,
  "nbformat_minor": 0,
  "metadata": {
    "colab": {
      "provenance": [],
      "authorship_tag": "ABX9TyPpSNwhS/trjnMZBRGyhUWY",
      "include_colab_link": true
    },
    "kernelspec": {
      "name": "python3",
      "display_name": "Python 3"
    },
    "language_info": {
      "name": "python"
    }
  },
  "cells": [
    {
      "cell_type": "markdown",
      "metadata": {
        "id": "view-in-github",
        "colab_type": "text"
      },
      "source": [
        "<a href=\"https://colab.research.google.com/github/MayureshOP-max/DataAnalytics/blob/main/day8.ipynb\" target=\"_parent\"><img src=\"https://colab.research.google.com/assets/colab-badge.svg\" alt=\"Open In Colab\"/></a>"
      ]
    },
    {
      "cell_type": "code",
      "execution_count": 1,
      "metadata": {
        "id": "McOGDwEJirG2"
      },
      "outputs": [],
      "source": [
        "import numpy as np\n",
        "import pandas as pd\n",
        "import matplotlib.pyplot as plt\n",
        "import seaborn as sns\n",
        "import warnings\n",
        "warnings.filterwarnings(\"ignore\")\n"
      ]
    },
    {
      "cell_type": "code",
      "source": [
        "data = pd.read_csv(\"/content/Student_Performance.csv\")"
      ],
      "metadata": {
        "id": "DZddVqL8ixAK"
      },
      "execution_count": 2,
      "outputs": []
    },
    {
      "cell_type": "code",
      "source": [
        "print(data.head())\n",
        "print(data.info())\n",
        "print(data.isnull().sum())\n",
        "print(data.shape)\n",
        "print(data.duplicated().sum())"
      ],
      "metadata": {
        "colab": {
          "base_uri": "https://localhost:8080/"
        },
        "id": "IqyBhm-jiw9w",
        "outputId": "c80fe91b-8bfd-4a51-939e-a56ee33a2bcb"
      },
      "execution_count": 5,
      "outputs": [
        {
          "output_type": "stream",
          "name": "stdout",
          "text": [
            "   Hours Studied  Previous Scores Extracurricular Activities  Sleep Hours  \\\n",
            "0              7               99                        Yes            9   \n",
            "1              4               82                         No            4   \n",
            "2              8               51                        Yes            7   \n",
            "3              5               52                        Yes            5   \n",
            "4              7               75                         No            8   \n",
            "\n",
            "   Sample Question Papers Practiced  Performance Index  \n",
            "0                                 1               91.0  \n",
            "1                                 2               65.0  \n",
            "2                                 2               45.0  \n",
            "3                                 2               36.0  \n",
            "4                                 5               66.0  \n",
            "<class 'pandas.core.frame.DataFrame'>\n",
            "RangeIndex: 10000 entries, 0 to 9999\n",
            "Data columns (total 6 columns):\n",
            " #   Column                            Non-Null Count  Dtype  \n",
            "---  ------                            --------------  -----  \n",
            " 0   Hours Studied                     10000 non-null  int64  \n",
            " 1   Previous Scores                   10000 non-null  int64  \n",
            " 2   Extracurricular Activities        10000 non-null  object \n",
            " 3   Sleep Hours                       10000 non-null  int64  \n",
            " 4   Sample Question Papers Practiced  10000 non-null  int64  \n",
            " 5   Performance Index                 10000 non-null  float64\n",
            "dtypes: float64(1), int64(4), object(1)\n",
            "memory usage: 468.9+ KB\n",
            "None\n",
            "Hours Studied                       0\n",
            "Previous Scores                     0\n",
            "Extracurricular Activities          0\n",
            "Sleep Hours                         0\n",
            "Sample Question Papers Practiced    0\n",
            "Performance Index                   0\n",
            "dtype: int64\n",
            "(10000, 6)\n",
            "127\n"
          ]
        }
      ]
    },
    {
      "cell_type": "code",
      "source": [
        "data.drop_duplicates(inplace=True)\n",
        "print(data.describe().T)"
      ],
      "metadata": {
        "colab": {
          "base_uri": "https://localhost:8080/"
        },
        "id": "kfbosUr7iw7A",
        "outputId": "0729a8ba-61b0-4450-ff7f-3902d0775cdd"
      },
      "execution_count": 7,
      "outputs": [
        {
          "output_type": "stream",
          "name": "stdout",
          "text": [
            "                                   count       mean        std   min   25%  \\\n",
            "Hours Studied                     9873.0   4.992100   2.589081   1.0   3.0   \n",
            "Previous Scores                   9873.0  69.441102  17.325601  40.0  54.0   \n",
            "Sleep Hours                       9873.0   6.531652   1.697683   4.0   5.0   \n",
            "Sample Question Papers Practiced  9873.0   4.583004   2.867202   0.0   2.0   \n",
            "Performance Index                 9873.0  55.216651  19.208570  10.0  40.0   \n",
            "\n",
            "                                   50%   75%    max  \n",
            "Hours Studied                      5.0   7.0    9.0  \n",
            "Previous Scores                   69.0  85.0   99.0  \n",
            "Sleep Hours                        7.0   8.0    9.0  \n",
            "Sample Question Papers Practiced   5.0   7.0    9.0  \n",
            "Performance Index                 55.0  70.0  100.0  \n"
          ]
        }
      ]
    },
    {
      "cell_type": "code",
      "source": [
        "sns.heatmap(data = data.select_dtypes(exclude = \"object\").corr(), annot = True, cmap = \"viridis\")\n",
        "plt.show()"
      ],
      "metadata": {
        "colab": {
          "base_uri": "https://localhost:8080/",
          "height": 660
        },
        "id": "BVcWHys2iw4W",
        "outputId": "a925a26a-b61d-4e6c-b49c-7a480f69a0b9"
      },
      "execution_count": 13,
      "outputs": [
        {
          "output_type": "display_data",
          "data": {
            "text/plain": [
              "<Figure size 640x480 with 2 Axes>"
            ],
            "image/png": "[encoded data removed]"
          },
          "metadata": {}
        }
      ]
    },
    {
      "cell_type": "code",
      "source": [
        "x = data.iloc[:,:-1].values\n",
        "y = data.iloc[:,-1].values\n",
        "\n",
        "print(x)\n",
        "print(y)"
      ],
      "metadata": {
        "colab": {
          "base_uri": "https://localhost:8080/"
        },
        "id": "K5Y9KiHIiw13",
        "outputId": "4b7dd20a-74d6-4645-ac01-2bcaefdc7c70"
      },
      "execution_count": 11,
      "outputs": [
        {
          "output_type": "stream",
          "name": "stdout",
          "text": [
            "[[7 99 'Yes' 9 1]\n",
            " [4 82 'No' 4 2]\n",
            " [8 51 'Yes' 7 2]\n",
            " ...\n",
            " [6 83 'Yes' 8 5]\n",
            " [9 97 'Yes' 7 0]\n",
            " [7 74 'No' 8 1]]\n",
            "[91. 65. 45. ... 74. 95. 64.]\n"
          ]
        }
      ]
    },
    {
      "cell_type": "markdown",
      "source": [
        "# ***Risk Analysis***"
      ],
      "metadata": {
        "id": "md77oF57NWDS"
      }
    },
    {
      "cell_type": "code",
      "source": [
        "#Part 1\n",
        "def roll_dice():\n",
        "    return np.sum(np.random.randint(1,7,2))"
      ],
      "metadata": {
        "id": "hbZEegxDiwzO"
      },
      "execution_count": 14,
      "outputs": []
    },
    {
      "cell_type": "code",
      "source": [
        "print(roll_dice())\n",
        "print(roll_dice())\n",
        "print(roll_dice())"
      ],
      "metadata": {
        "colab": {
          "base_uri": "https://localhost:8080/"
        },
        "id": "KHE_aJvniwwX",
        "outputId": "91b771bf-31d1-4f00-d322-cf2eb28577b6"
      },
      "execution_count": 15,
      "outputs": [
        {
          "output_type": "stream",
          "name": "stdout",
          "text": [
            "10\n",
            "9\n",
            "3\n"
          ]
        }
      ]
    },
    {
      "cell_type": "code",
      "source": [
        "#part2\n",
        "#someone approaches us saying I will give you 5 dollars if yuo get 7\n",
        "#and take 1 dollar if you get any number other than 7\n",
        "#How do we know what will happen?\n",
        "#Our own monte carlo like function\n",
        "\n",
        "def monte_carlo_simulation(runs = 1000):\n",
        "  results = np.zeros(2)  #an array, results[1] initialized to twi zeroes\n",
        "\n",
        "  for _ in range(runs):\n",
        "    if roll_dice() == 7:\n",
        "      results[0] += 5\n",
        "    else:\n",
        "      results[1] += 1\n",
        "  return results\n",
        "\n",
        "#test 2-3 time and claculate how much yuo will win\n",
        "print(monte_carlo_simulation())\n",
        "print(monte_carlo_simulation())\n",
        "print(monte_carlo_simulation())"
      ],
      "metadata": {
        "colab": {
          "base_uri": "https://localhost:8080/"
        },
        "id": "8ql6rvA3iwt-",
        "outputId": "a2568741-147b-4db6-80c7-cad0cbd81a06"
      },
      "execution_count": 17,
      "outputs": [
        {
          "output_type": "stream",
          "name": "stdout",
          "text": [
            "[770. 846.]\n",
            "[825. 835.]\n",
            "[850. 830.]\n"
          ]
        }
      ]
    },
    {
      "cell_type": "code",
      "source": [
        "#Part 3: Now do it thousand times: Take some time\n",
        "results = np.zeros((1000,2))\n",
        "\n",
        "for i in range(1000):\n",
        "  results[i] = monte_carlo_simulation()[0]\n",
        "\n",
        "print(results)\n"
      ],
      "metadata": {
        "colab": {
          "base_uri": "https://localhost:8080/"
        },
        "id": "RHFewj8Ciwq4",
        "outputId": "620b5919-8ba0-4900-adda-56d13577033e"
      },
      "execution_count": 18,
      "outputs": [
        {
          "output_type": "stream",
          "name": "stdout",
          "text": [
            "[[755. 755.]\n",
            " [800. 800.]\n",
            " [740. 740.]\n",
            " ...\n",
            " [860. 860.]\n",
            " [755. 755.]\n",
            " [745. 745.]]\n"
          ]
        }
      ]
    },
    {
      "cell_type": "code",
      "source": [
        "#Lets plot it\n",
        "\n",
        "fig, ax = plt.subplots()\n",
        "ax.hist(results, bins = 15)\n",
        "plt.show()"
      ],
      "metadata": {
        "colab": {
          "base_uri": "https://localhost:8080/",
          "height": 430
        },
        "id": "oqwuPqkHiwoH",
        "outputId": "eeb9cf27-d6ef-4bcc-f56e-41818be1965d"
      },
      "execution_count": 19,
      "outputs": [
        {
          "output_type": "display_data",
          "data": {
            "text/plain": [
              "<Figure size 640x480 with 1 Axes>"
            ],
            "image/png": "[encoded data removed]"
          },
          "metadata": {}
        }
      ]
    },
    {
      "cell_type": "code",
      "source": [
        "#Our win/loss\n",
        "\n",
        "print(results.mean())  #Genreal mean\n",
        "print(results.mean()*5)  #What we will get as mean on average\n",
        "print(results.mean()*4.75)   #Just a marginal change in win reward - see the impact\n",
        "print(1000-results.mean())    #what we will pay on an average\n",
        "print(results.mean() / 1000)    #Probability of the 'we will win' result\n"
      ],
      "metadata": {
        "colab": {
          "base_uri": "https://localhost:8080/"
        },
        "id": "LnT1K7GLiwli",
        "outputId": "01679de5-91d4-4f23-b5d5-3c98b7ec8d01"
      },
      "execution_count": 20,
      "outputs": [
        {
          "output_type": "stream",
          "name": "stdout",
          "text": [
            "832.025\n",
            "4160.125\n",
            "3952.11875\n",
            "167.97500000000002\n",
            "0.832025\n"
          ]
        }
      ]
    },
    {
      "cell_type": "code",
      "source": [
        "# The last probability should be close to the theorotical probabilty of getting a 7\n",
        "#   when we throe two dice(why? 1+6, 2+5,3+4, 4+3, 5+2, 6+1 - 6 put pf 36 states)\n",
        "\n"
      ],
      "metadata": {
        "id": "woMSKbomiwiv"
      },
      "execution_count": null,
      "outputs": []
    },
    {
      "cell_type": "code",
      "source": [],
      "metadata": {
        "id": "UJhk9wSyiwgG"
      },
      "execution_count": null,
      "outputs": []
    },
    {
      "cell_type": "code",
      "source": [],
      "metadata": {
        "id": "q0q_oVqziwdn"
      },
      "execution_count": null,
      "outputs": []
    },
    {
      "cell_type": "code",
      "source": [],
      "metadata": {
        "id": "vmm4U5c6iwbQ"
      },
      "execution_count": null,
      "outputs": []
    },
    {
      "cell_type": "code",
      "source": [],
      "metadata": {
        "id": "c-cf8tF5iwY_"
      },
      "execution_count": null,
      "outputs": []
    },
    {
      "cell_type": "code",
      "source": [],
      "metadata": {
        "id": "uFgfUlKUiwWX"
      },
      "execution_count": null,
      "outputs": []
    },
    {
      "cell_type": "code",
      "source": [],
      "metadata": {
        "id": "LJYUHhxViwT-"
      },
      "execution_count": null,
      "outputs": []
    },
    {
      "cell_type": "code",
      "source": [],
      "metadata": {
        "id": "aJ2qimAoiwRf"
      },
      "execution_count": null,
      "outputs": []
    },
    {
      "cell_type": "code",
      "source": [],
      "metadata": {
        "id": "pMHiWJrDiwO_"
      },
      "execution_count": null,
      "outputs": []
    },
    {
      "cell_type": "code",
      "source": [],
      "metadata": {
        "id": "FkngjPVtiwMP"
      },
      "execution_count": null,
      "outputs": []
    },
    {
      "cell_type": "code",
      "source": [],
      "metadata": {
        "id": "W2d4RClDiwJw"
      },
      "execution_count": null,
      "outputs": []
    },
    {
      "cell_type": "code",
      "source": [],
      "metadata": {
        "id": "OW9-QfOQiwGv"
      },
      "execution_count": null,
      "outputs": []
    },
    {
      "cell_type": "code",
      "source": [],
      "metadata": {
        "id": "cjLxk6raiwEP"
      },
      "execution_count": null,
      "outputs": []
    },
    {
      "cell_type": "code",
      "source": [],
      "metadata": {
        "id": "j2qQzXmKiwBY"
      },
      "execution_count": null,
      "outputs": []
    },
    {
      "cell_type": "code",
      "source": [],
      "metadata": {
        "id": "xIjG4FAliv-3"
      },
      "execution_count": null,
      "outputs": []
    },
    {
      "cell_type": "code",
      "source": [],
      "metadata": {
        "id": "1iRBP3bUiv8r"
      },
      "execution_count": null,
      "outputs": []
    },
    {
      "cell_type": "code",
      "source": [],
      "metadata": {
        "id": "CBBIqvbNiv6K"
      },
      "execution_count": null,
      "outputs": []
    },
    {
      "cell_type": "code",
      "source": [],
      "metadata": {
        "id": "DvVm591Div3v"
      },
      "execution_count": null,
      "outputs": []
    },
    {
      "cell_type": "code",
      "source": [],
      "metadata": {
        "id": "JsZQ2KYEiv1Y"
      },
      "execution_count": null,
      "outputs": []
    }
  ]
}