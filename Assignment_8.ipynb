{
  "nbformat": 4,
  "nbformat_minor": 0,
  "metadata": {
    "colab": {
      "provenance": [],
      "authorship_tag": "ABX9TyPigwkW7rmLniUGb0Nsxm+C",
      "include_colab_link": true
    },
    "kernelspec": {
      "name": "python3",
      "display_name": "Python 3"
    },
    "language_info": {
      "name": "python"
    }
  },
  "cells": [
    {
      "cell_type": "markdown",
      "metadata": {
        "id": "view-in-github",
        "colab_type": "text"
      },
      "source": [
        "<a href=\"https://colab.research.google.com/github/MayureshOP-max/DataAnalytics/blob/main/Assignment_8.ipynb\" target=\"_parent\"><img src=\"https://colab.research.google.com/assets/colab-badge.svg\" alt=\"Open In Colab\"/></a>"
      ]
    },
    {
      "cell_type": "code",
      "source": [
        "import pandas as pd\n",
        "import numpy as np\n",
        "import datetime\n",
        "from datetime import datetime, date, time, timedelta"
      ],
      "metadata": {
        "id": "-DiBd9NP1VFJ"
      },
      "execution_count": 87,
      "outputs": []
    },
    {
      "cell_type": "code",
      "execution_count": 88,
      "metadata": {
        "colab": {
          "base_uri": "https://localhost:8080/"
        },
        "id": "P4MTjvJv045x",
        "outputId": "c2e81a64-40c5-4936-f0d5-c355680096ac"
      },
      "outputs": [
        {
          "output_type": "stream",
          "name": "stdout",
          "text": [
            "2012-01-15 00:00:00\n",
            "2012-01-15 21:20:00\n",
            "2024-10-23 11:37:24.469400\n",
            "2012-01-15\n",
            "2024-10-23\n",
            "21:20:00\n",
            "2024-10-23 11:37:24.472725\n"
          ]
        }
      ],
      "source": [
        "# 1. Write a Pandas program to create\n",
        "# a) Datetime object for Jan 15 2012.\n",
        "# b) Specific date and time of 9:20 pm.\n",
        "# c) Local date and time.\n",
        "# d) A date without time.\n",
        "# e) Current date.\n",
        "# f) Time from a datetime.\n",
        "# g) Current local time.\n",
        "\n",
        "datetime_obj = datetime(2012, 1,15)\n",
        "print(datetime_obj)\n",
        "\n",
        "spec_dt_time = datetime(2012,1,15,21,20)\n",
        "print(spec_dt_time)\n",
        "\n",
        "loc_date_time = datetime.now()\n",
        "print(loc_date_time)\n",
        "\n",
        "date_obj = date(2012, 1,15)\n",
        "print(date_obj)\n",
        "\n",
        "date_today = date.today()\n",
        "print(date_today)\n",
        "\n",
        "time_from = spec_dt_time.time()\n",
        "print(time_from)\n",
        "\n",
        "time_now = datetime.now()\n",
        "print(time_now)"
      ]
    },
    {
      "cell_type": "code",
      "source": [
        "# 2. Write a Pandas program to create\n",
        "# a) a specific date using timestamp.\n",
        "# b) date and time using timestamp.\n",
        "# c) a time adds in the current local date using timestamp.\n",
        "# d) current date and time using timestamp.\n",
        "\n",
        "tsd = pd.Timestamp(\"2022-10-12\")\n",
        "print(tsd)\n",
        "\n",
        "tst = pd.Timestamp(\"2022-10-12 11:58:12\")\n",
        "print(tst)\n",
        "\n",
        "tslocal = pd.Timestamp.now()\n",
        "print(tslocal)\n",
        "tslocal = pd.Timestamp('11:30')\n",
        "print(tslocal)\n",
        "\n",
        "tsnow = pd.Timestamp(\"now\")\n",
        "print(tsnow)"
      ],
      "metadata": {
        "colab": {
          "base_uri": "https://localhost:8080/"
        },
        "id": "82enSiAW0-A9",
        "outputId": "408edb83-ecfb-4b60-970d-9da67cf184d3"
      },
      "execution_count": 89,
      "outputs": [
        {
          "output_type": "stream",
          "name": "stdout",
          "text": [
            "2022-10-12 00:00:00\n",
            "2022-10-12 11:58:12\n",
            "2024-10-23 11:37:24.483979\n",
            "2024-10-23 11:30:00\n",
            "2024-10-23 11:37:24.486518\n"
          ]
        }
      ]
    },
    {
      "cell_type": "code",
      "source": [
        "# 3. Write a Pandas program to create a date from a given year, month, day and\n",
        "# another date from a given string formats.\n",
        "\n",
        "year = 2020\n",
        "month = 5\n",
        "day = 23\n",
        "date = '2021-4-23'\n",
        "date1 =pd.to_datetime(f\"{year}-{month}-{day}\")\n",
        "print(date1)\n",
        "\n",
        "df = pd.DataFrame({'date_str': ['2023-01-01']})\n",
        "print(pd.to_datetime(df['date_str'], format='%Y-%m-%d'))"
      ],
      "metadata": {
        "colab": {
          "base_uri": "https://localhost:8080/"
        },
        "id": "3RXnqs7t09-m",
        "outputId": "633b3bc1-ca69-4567-d4c9-936fbe0234e7"
      },
      "execution_count": 90,
      "outputs": [
        {
          "output_type": "stream",
          "name": "stdout",
          "text": [
            "2020-05-23 00:00:00\n",
            "0   2023-01-01\n",
            "Name: date_str, dtype: datetime64[ns]\n"
          ]
        }
      ]
    },
    {
      "cell_type": "code",
      "source": [
        "# 4. Write a Pandas program to print the day after and before a specified date. Also\n",
        "# print the days between two given dates.\n",
        "\n",
        "dt = datetime(2012, 1,15)\n",
        "print(dt)\n",
        "\n",
        "date_before = dt - timedelta(1)\n",
        "print(date_before)\n",
        "date_after = dt + timedelta(1)\n",
        "print(date_after)"
      ],
      "metadata": {
        "colab": {
          "base_uri": "https://localhost:8080/"
        },
        "id": "6xK3N439098M",
        "outputId": "10f62c1f-b64c-4da7-f270-de8045462922"
      },
      "execution_count": 91,
      "outputs": [
        {
          "output_type": "stream",
          "name": "stdout",
          "text": [
            "2012-01-15 00:00:00\n",
            "2012-01-14 00:00:00\n",
            "2012-01-16 00:00:00\n"
          ]
        }
      ]
    },
    {
      "cell_type": "code",
      "source": [
        "# 5. Write a Pandas program to create a time-series with two index labels and\n",
        "# random values. Also print the type of the index.\n",
        "\n",
        "dates = [datetime(2020, 12,3), datetime(2012,2,4)]\n",
        "timeseries = pd.Series(np.random.randn(2), dates)\n",
        "\n",
        "print(timeseries)"
      ],
      "metadata": {
        "colab": {
          "base_uri": "https://localhost:8080/"
        },
        "id": "vrgqOiDa0950",
        "outputId": "dec472a2-0311-4015-f2cd-59389741aa45"
      },
      "execution_count": 92,
      "outputs": [
        {
          "output_type": "stream",
          "name": "stdout",
          "text": [
            "2020-12-03   -0.923570\n",
            "2012-02-04    1.652079\n",
            "dtype: float64\n"
          ]
        }
      ]
    },
    {
      "cell_type": "code",
      "source": [
        "# 6. Write a Pandas program to create a time-series from a given list of dates as\n",
        "# strings.\n",
        "\n",
        "dates = ['2020-1-23', '2023-1-30', '2013-2-5', '2345-2-4']\n",
        "timeseries = pd.Series(np.random.randn(4),dates)\n",
        "timeseries\n"
      ],
      "metadata": {
        "colab": {
          "base_uri": "https://localhost:8080/",
          "height": 209
        },
        "id": "TQC9gXqc093g",
        "outputId": "ace7c750-2be6-4b18-fb73-13b780ac6296"
      },
      "execution_count": 93,
      "outputs": [
        {
          "output_type": "execute_result",
          "data": {
            "text/plain": [
              "2020-1-23   -0.524978\n",
              "2023-1-30   -2.038978\n",
              "2013-2-5     0.045567\n",
              "2345-2-4     0.942378\n",
              "dtype: float64"
            ],
            "text/html": [
              "<div>\n",
              "<style scoped>\n",
              "    .dataframe tbody tr th:only-of-type {\n",
              "        vertical-align: middle;\n",
              "    }\n",
              "\n",
              "    .dataframe tbody tr th {\n",
              "        vertical-align: top;\n",
              "    }\n",
              "\n",
              "    .dataframe thead th {\n",
              "        text-align: right;\n",
              "    }\n",
              "</style>\n",
              "<table border=\"1\" class=\"dataframe\">\n",
              "  <thead>\n",
              "    <tr style=\"text-align: right;\">\n",
              "      <th></th>\n",
              "      <th>0</th>\n",
              "    </tr>\n",
              "  </thead>\n",
              "  <tbody>\n",
              "    <tr>\n",
              "      <th>2020-1-23</th>\n",
              "      <td>-0.524978</td>\n",
              "    </tr>\n",
              "    <tr>\n",
              "      <th>2023-1-30</th>\n",
              "      <td>-2.038978</td>\n",
              "    </tr>\n",
              "    <tr>\n",
              "      <th>2013-2-5</th>\n",
              "      <td>0.045567</td>\n",
              "    </tr>\n",
              "    <tr>\n",
              "      <th>2345-2-4</th>\n",
              "      <td>0.942378</td>\n",
              "    </tr>\n",
              "  </tbody>\n",
              "</table>\n",
              "</div><br><label><b>dtype:</b> float64</label>"
            ]
          },
          "metadata": {},
          "execution_count": 93
        }
      ]
    },
    {
      "cell_type": "code",
      "source": [
        "# 7. Write a Pandas program to create a time series object that has time indexed\n",
        "# data. Also select the dates of same year and select the dates between certain\n",
        "# dates.\n",
        "\n",
        "index = pd.DatetimeIndex(['2011-09-02', '2012-08-04',\n",
        "                          '2015-09-03', '2010-08-04',\n",
        "                          '2015-03-03', '2011-08-04',\n",
        "                          '2015-04-03', '2012-08-04'])\n",
        "aindex = pd.Series([0,1,2,3,4,5,6,7],index = index)\n",
        "print(aindex)\n",
        "print(aindex['2012'])\n",
        "print(aindex.loc[pd.Timestamp('2010-08-04'):pd.Timestamp('2015-04-03')])"
      ],
      "metadata": {
        "colab": {
          "base_uri": "https://localhost:8080/"
        },
        "id": "PwdMZiH7091L",
        "outputId": "d3192a36-b072-431e-df7e-5de61028e8a3"
      },
      "execution_count": 94,
      "outputs": [
        {
          "output_type": "stream",
          "name": "stdout",
          "text": [
            "2011-09-02    0\n",
            "2012-08-04    1\n",
            "2015-09-03    2\n",
            "2010-08-04    3\n",
            "2015-03-03    4\n",
            "2011-08-04    5\n",
            "2015-04-03    6\n",
            "2012-08-04    7\n",
            "dtype: int64\n",
            "2012-08-04    1\n",
            "2012-08-04    7\n",
            "dtype: int64\n",
            "2010-08-04    3\n",
            "2015-03-03    4\n",
            "2011-08-04    5\n",
            "2015-04-03    6\n",
            "dtype: int64\n"
          ]
        }
      ]
    },
    {
      "cell_type": "code",
      "source": [
        "# 8. Write a Pandas program to create a date range using a startpoint date and a\n",
        "# number of periods.\n",
        "\n",
        "start_date = '2010-01-01'\n",
        "interval = 10\n",
        "print(\"range in days\")\n",
        "series = pd.date_range(start = start_date, periods = interval)\n",
        "print(series)\n",
        "print(\"range in months\")\n",
        "series = pd.date_range(start = start_date, periods = interval, freq = 'ME')\n",
        "print(series)\n"
      ],
      "metadata": {
        "colab": {
          "base_uri": "https://localhost:8080/"
        },
        "id": "zQ_4xedB09y2",
        "outputId": "c852b145-be73-4c2d-8977-e1514e5d223b"
      },
      "execution_count": 95,
      "outputs": [
        {
          "output_type": "stream",
          "name": "stdout",
          "text": [
            "range in days\n",
            "DatetimeIndex(['2010-01-01', '2010-01-02', '2010-01-03', '2010-01-04',\n",
            "               '2010-01-05', '2010-01-06', '2010-01-07', '2010-01-08',\n",
            "               '2010-01-09', '2010-01-10'],\n",
            "              dtype='datetime64[ns]', freq='D')\n",
            "range in months\n",
            "DatetimeIndex(['2010-01-31', '2010-02-28', '2010-03-31', '2010-04-30',\n",
            "               '2010-05-31', '2010-06-30', '2010-07-31', '2010-08-31',\n",
            "               '2010-09-30', '2010-10-31'],\n",
            "              dtype='datetime64[ns]', freq='ME')\n"
          ]
        }
      ]
    },
    {
      "cell_type": "code",
      "source": [
        "# 9. Write a Pandas program to create a whole month of dates in daily frequencies.\n",
        "# Also find the maximum, minimum timestamp and indexs.\n",
        "\n",
        "start_date = '2000-01-01'\n",
        "interval = 31\n",
        "\n",
        "print(\"month range in days\")\n",
        "series = pd.date_range(start = start_date, periods = interval)\n",
        "print(series)\n",
        "\n",
        "print(series.max())\n",
        "print(series.min())\n"
      ],
      "metadata": {
        "colab": {
          "base_uri": "https://localhost:8080/"
        },
        "id": "4skaN5Yh09wa",
        "outputId": "15b75cdc-67d4-480f-8d99-035f62b2f97f"
      },
      "execution_count": 96,
      "outputs": [
        {
          "output_type": "stream",
          "name": "stdout",
          "text": [
            "month range in days\n",
            "DatetimeIndex(['2000-01-01', '2000-01-02', '2000-01-03', '2000-01-04',\n",
            "               '2000-01-05', '2000-01-06', '2000-01-07', '2000-01-08',\n",
            "               '2000-01-09', '2000-01-10', '2000-01-11', '2000-01-12',\n",
            "               '2000-01-13', '2000-01-14', '2000-01-15', '2000-01-16',\n",
            "               '2000-01-17', '2000-01-18', '2000-01-19', '2000-01-20',\n",
            "               '2000-01-21', '2000-01-22', '2000-01-23', '2000-01-24',\n",
            "               '2000-01-25', '2000-01-26', '2000-01-27', '2000-01-28',\n",
            "               '2000-01-29', '2000-01-30', '2000-01-31'],\n",
            "              dtype='datetime64[ns]', freq='D')\n",
            "2000-01-31 00:00:00\n",
            "2000-01-01 00:00:00\n"
          ]
        }
      ]
    },
    {
      "cell_type": "code",
      "source": [
        "# 10. Write a Pandas program to create a time series using three months\n",
        "# frequency.\n",
        "\n",
        "start_date = '2000-01-01'\n",
        "interval = 10\n",
        "\n",
        "print(\"month range in days\")\n",
        "series = pd.date_range(start = start_date, periods = interval,freq='3ME')\n",
        "print(series)"
      ],
      "metadata": {
        "colab": {
          "base_uri": "https://localhost:8080/"
        },
        "id": "3m1k8vpZ09uL",
        "outputId": "d5e07009-9daf-44be-d4fa-fa1d738fbfdb"
      },
      "execution_count": 97,
      "outputs": [
        {
          "output_type": "stream",
          "name": "stdout",
          "text": [
            "month range in days\n",
            "DatetimeIndex(['2000-01-31', '2000-04-30', '2000-07-31', '2000-10-31',\n",
            "               '2001-01-31', '2001-04-30', '2001-07-31', '2001-10-31',\n",
            "               '2002-01-31', '2002-04-30'],\n",
            "              dtype='datetime64[ns]', freq='3ME')\n"
          ]
        }
      ]
    },
    {
      "cell_type": "code",
      "source": [
        "# 11. Write a Pandas program to create a sequence of durations increasing by an\n",
        "# hour.\n",
        "\n",
        "s = pd.timedelta_range(0, periods = 10, freq = 'h')\n",
        "print(s)"
      ],
      "metadata": {
        "colab": {
          "base_uri": "https://localhost:8080/"
        },
        "id": "hm3_hCZX09ru",
        "outputId": "46bda18a-be42-40d7-8c22-6f9210a418c4"
      },
      "execution_count": 98,
      "outputs": [
        {
          "output_type": "stream",
          "name": "stdout",
          "text": [
            "TimedeltaIndex(['0 days 00:00:00', '0 days 01:00:00', '0 days 02:00:00',\n",
            "                '0 days 03:00:00', '0 days 04:00:00', '0 days 05:00:00',\n",
            "                '0 days 06:00:00', '0 days 07:00:00', '0 days 08:00:00',\n",
            "                '0 days 09:00:00'],\n",
            "               dtype='timedelta64[ns]', freq='h')\n"
          ]
        }
      ]
    },
    {
      "cell_type": "code",
      "source": [
        "# 12. Write a Pandas program to convert year and day of year into a single\n",
        "# datetime column of a dataframe.\n",
        "\n",
        "data = {\\\n",
        "\"year\": [2002, 2003, 2015, 2018],\n",
        "\"day_of_the_year\": [250, 365, 1, 140]\n",
        "}\n",
        "df = pd.DataFrame(data)\n",
        "print(df)\n",
        "df['combined'] = pd.to_datetime(df['year']*1000 + df['day_of_the_year'],format='%Y%j')\n",
        "print(df)"
      ],
      "metadata": {
        "id": "SjttO4zp09pT",
        "colab": {
          "base_uri": "https://localhost:8080/"
        },
        "outputId": "918bb25e-dcaf-4fc9-c2dd-03399b9835a6"
      },
      "execution_count": 99,
      "outputs": [
        {
          "output_type": "stream",
          "name": "stdout",
          "text": [
            "   year  day_of_the_year\n",
            "0  2002              250\n",
            "1  2003              365\n",
            "2  2015                1\n",
            "3  2018              140\n",
            "   year  day_of_the_year   combined\n",
            "0  2002              250 2002-09-07\n",
            "1  2003              365 2003-12-31\n",
            "2  2015                1 2015-01-01\n",
            "3  2018              140 2018-05-20\n"
          ]
        }
      ]
    },
    {
      "cell_type": "code",
      "source": [
        "# 13. Write a Pandas program to create a series of Timestamps from a DataFrame\n",
        "# of integer or string columns. Also create a series of Timestamps using specified\n",
        "# columns.\n",
        "\n",
        "df = pd.DataFrame({\n",
        "    'year':[2018,2019,2020,2022],\n",
        "    'month':[1,2,3,4],\n",
        "    'day':[4,5,6,7],\n",
        "    'hour':[1,2,3,4]})\n",
        "\n",
        "print(pd.to_datetime(df[['year','month','day']]))\n"
      ],
      "metadata": {
        "id": "hBv9MHOz09nM",
        "colab": {
          "base_uri": "https://localhost:8080/"
        },
        "outputId": "a0eaef6e-6491-499c-9a18-62780089addf"
      },
      "execution_count": 100,
      "outputs": [
        {
          "output_type": "stream",
          "name": "stdout",
          "text": [
            "0   2018-01-04\n",
            "1   2019-02-05\n",
            "2   2020-03-06\n",
            "3   2022-04-07\n",
            "dtype: datetime64[ns]\n"
          ]
        }
      ]
    },
    {
      "cell_type": "code",
      "source": [
        "# 14. Write a Pandas program to check if a day is a business day (weekday) or not.\n",
        "\n",
        "s =  pd.to_datetime('2012, 1,15')\n",
        "\n",
        "if s.weekday() <5:\n",
        "  print(\"its a weekday\")\n",
        "else:\n",
        "  print(\"its weekend\")"
      ],
      "metadata": {
        "id": "Krdsx1Pw09kk",
        "colab": {
          "base_uri": "https://localhost:8080/"
        },
        "outputId": "cd5875c9-d0ac-4206-f95a-dc4d934dda49"
      },
      "execution_count": 101,
      "outputs": [
        {
          "output_type": "stream",
          "name": "stdout",
          "text": [
            "its weekend\n"
          ]
        }
      ]
    },
    {
      "cell_type": "code",
      "source": [
        "# 15. Write a Pandas program to get a time series with the last working days of\n",
        "# each month of a specific year.\n",
        "\n",
        "d = pd.date_range('2020-01-01', periods = 12, freq = 'BME')\n",
        "d"
      ],
      "metadata": {
        "id": "FhP2W7iD09hz",
        "colab": {
          "base_uri": "https://localhost:8080/"
        },
        "outputId": "e1e6508e-1406-48cc-f3f3-4495b985d9b6"
      },
      "execution_count": 102,
      "outputs": [
        {
          "output_type": "execute_result",
          "data": {
            "text/plain": [
              "DatetimeIndex(['2020-01-31', '2020-02-28', '2020-03-31', '2020-04-30',\n",
              "               '2020-05-29', '2020-06-30', '2020-07-31', '2020-08-31',\n",
              "               '2020-09-30', '2020-10-30', '2020-11-30', '2020-12-31'],\n",
              "              dtype='datetime64[ns]', freq='BME')"
            ]
          },
          "metadata": {},
          "execution_count": 102
        }
      ]
    },
    {
      "cell_type": "code",
      "source": [
        "# 16. Write a Pandas program to create a time series combining hour and minute.\n",
        "\n",
        "h = pd.timedelta_range(0,periods = 12, freq = '1h40min')\n",
        "h"
      ],
      "metadata": {
        "id": "TFmQi-fW09fe",
        "colab": {
          "base_uri": "https://localhost:8080/"
        },
        "outputId": "40ffd8af-8d34-4380-eac1-71afa4b8bb45"
      },
      "execution_count": 103,
      "outputs": [
        {
          "output_type": "execute_result",
          "data": {
            "text/plain": [
              "TimedeltaIndex(['0 days 00:00:00', '0 days 01:40:00', '0 days 03:20:00',\n",
              "                '0 days 05:00:00', '0 days 06:40:00', '0 days 08:20:00',\n",
              "                '0 days 10:00:00', '0 days 11:40:00', '0 days 13:20:00',\n",
              "                '0 days 15:00:00', '0 days 16:40:00', '0 days 18:20:00'],\n",
              "               dtype='timedelta64[ns]', freq='100min')"
            ]
          },
          "metadata": {},
          "execution_count": 103
        }
      ]
    },
    {
      "cell_type": "code",
      "source": [
        "# 17. Write a Pandas program to convert unix/epoch time to a regular time stamp\n",
        "# in UTC. Also convert the said timestamp in to a given time zone.\n",
        "\n",
        "d1 = 1634896245\n",
        "d2 = pd.to_datetime(d1,unit = 's')\n",
        "d3 = int(d2.timestamp())\n",
        "d4 = pd.to_datetime(d3,unit = 's')\n",
        "d5 = d4.tz_localize('America/New_York')\n",
        "d5"
      ],
      "metadata": {
        "id": "2va-X7tg09db",
        "colab": {
          "base_uri": "https://localhost:8080/"
        },
        "outputId": "1af312c4-ad90-485c-df69-665df14f04f6"
      },
      "execution_count": 104,
      "outputs": [
        {
          "output_type": "execute_result",
          "data": {
            "text/plain": [
              "Timestamp('2021-10-22 09:50:45-0400', tz='America/New_York')"
            ]
          },
          "metadata": {},
          "execution_count": 104
        }
      ]
    },
    {
      "cell_type": "code",
      "source": [
        "# 18. Write a Pandas program to create a time series object with a time zone.\n",
        "\n",
        "d = pd.Series(pd.date_range('2000', periods = 3, tz = 'Asia/Calcutta'))\n",
        "d"
      ],
      "metadata": {
        "id": "JRL9oMSa09bL",
        "colab": {
          "base_uri": "https://localhost:8080/",
          "height": 178
        },
        "outputId": "c168c126-8bd7-4dd4-a182-c466da7c32bc"
      },
      "execution_count": 105,
      "outputs": [
        {
          "output_type": "execute_result",
          "data": {
            "text/plain": [
              "0   2000-01-01 00:00:00+05:30\n",
              "1   2000-01-02 00:00:00+05:30\n",
              "2   2000-01-03 00:00:00+05:30\n",
              "dtype: datetime64[ns, Asia/Calcutta]"
            ],
            "text/html": [
              "<div>\n",
              "<style scoped>\n",
              "    .dataframe tbody tr th:only-of-type {\n",
              "        vertical-align: middle;\n",
              "    }\n",
              "\n",
              "    .dataframe tbody tr th {\n",
              "        vertical-align: top;\n",
              "    }\n",
              "\n",
              "    .dataframe thead th {\n",
              "        text-align: right;\n",
              "    }\n",
              "</style>\n",
              "<table border=\"1\" class=\"dataframe\">\n",
              "  <thead>\n",
              "    <tr style=\"text-align: right;\">\n",
              "      <th></th>\n",
              "      <th>0</th>\n",
              "    </tr>\n",
              "  </thead>\n",
              "  <tbody>\n",
              "    <tr>\n",
              "      <th>0</th>\n",
              "      <td>2000-01-01 00:00:00+05:30</td>\n",
              "    </tr>\n",
              "    <tr>\n",
              "      <th>1</th>\n",
              "      <td>2000-01-02 00:00:00+05:30</td>\n",
              "    </tr>\n",
              "    <tr>\n",
              "      <th>2</th>\n",
              "      <td>2000-01-03 00:00:00+05:30</td>\n",
              "    </tr>\n",
              "  </tbody>\n",
              "</table>\n",
              "</div><br><label><b>dtype:</b> datetime64[ns, Asia/Calcutta]</label>"
            ]
          },
          "metadata": {},
          "execution_count": 105
        }
      ]
    },
    {
      "cell_type": "code",
      "source": [
        "# 19. Write a Pandas program to remove the time zone information from a Time\n",
        "# series data.\n",
        "\n",
        "d = pd.Series(pd.date_range('2000', periods = 3, tz = 'Asia/Calcutta'))\n",
        "d1 = d.dt.tz_localize(None)\n",
        "print(d1)"
      ],
      "metadata": {
        "id": "pFfUDG_F09Yj",
        "colab": {
          "base_uri": "https://localhost:8080/"
        },
        "outputId": "73959ff8-a104-4886-ec81-61d0648f93a9"
      },
      "execution_count": 106,
      "outputs": [
        {
          "output_type": "stream",
          "name": "stdout",
          "text": [
            "0   2000-01-01\n",
            "1   2000-01-02\n",
            "2   2000-01-03\n",
            "dtype: datetime64[ns]\n"
          ]
        }
      ]
    },
    {
      "cell_type": "code",
      "source": [
        "# 20. Write a Pandas program to subtract two timestamps of same time zone or\n",
        "# different time zone.\n",
        "\n",
        "d1 = pd.Timestamp('2020-01-10 12:00', tz = 'Asia/Kolkata')\n",
        "d2 = pd.Timestamp('2020-01-01 7:00', tz = 'Asia/Kolkata')\n",
        "print(\"Diff: \", d2-d1)\n",
        "\n",
        "d3 = pd.Timestamp('2020-01-10 12:00', tz = 'Asia/Kolkata')\n",
        "d4 = pd.Timestamp('2020-01-01 7:00', tz = 'America/New_York')\n",
        "print(\"Diff: \", d4-d3)"
      ],
      "metadata": {
        "id": "QckL8v9l09Wu",
        "colab": {
          "base_uri": "https://localhost:8080/"
        },
        "outputId": "61481dfe-f5c5-476d-f600-b478606203e4"
      },
      "execution_count": 107,
      "outputs": [
        {
          "output_type": "stream",
          "name": "stdout",
          "text": [
            "Diff:  -10 days +19:00:00\n",
            "Diff:  -9 days +05:30:00\n"
          ]
        }
      ]
    },
    {
      "cell_type": "code",
      "source": [
        "# 21. Write a Pandas program to calculate all Thursdays between two given days.\n",
        "\n",
        "d= pd.date_range('2020-01-01', '2020-11-01', freq = 'W-THU')\n",
        "d"
      ],
      "metadata": {
        "colab": {
          "base_uri": "https://localhost:8080/"
        },
        "id": "6Cq5qISHz8nq",
        "outputId": "72cd30a6-0783-499e-d72f-e914239a30e4"
      },
      "execution_count": 108,
      "outputs": [
        {
          "output_type": "execute_result",
          "data": {
            "text/plain": [
              "DatetimeIndex(['2020-01-02', '2020-01-09', '2020-01-16', '2020-01-23',\n",
              "               '2020-01-30', '2020-02-06', '2020-02-13', '2020-02-20',\n",
              "               '2020-02-27', '2020-03-05', '2020-03-12', '2020-03-19',\n",
              "               '2020-03-26', '2020-04-02', '2020-04-09', '2020-04-16',\n",
              "               '2020-04-23', '2020-04-30', '2020-05-07', '2020-05-14',\n",
              "               '2020-05-21', '2020-05-28', '2020-06-04', '2020-06-11',\n",
              "               '2020-06-18', '2020-06-25', '2020-07-02', '2020-07-09',\n",
              "               '2020-07-16', '2020-07-23', '2020-07-30', '2020-08-06',\n",
              "               '2020-08-13', '2020-08-20', '2020-08-27', '2020-09-03',\n",
              "               '2020-09-10', '2020-09-17', '2020-09-24', '2020-10-01',\n",
              "               '2020-10-08', '2020-10-15', '2020-10-22', '2020-10-29'],\n",
              "              dtype='datetime64[ns]', freq='W-THU')"
            ]
          },
          "metadata": {},
          "execution_count": 108
        }
      ]
    },
    {
      "cell_type": "code",
      "source": [
        "# 22. Write a Pandas program to find the all the business quarterly begin and end\n",
        "# dates of a specified year.\n",
        "\n",
        "s= pd.date_range('2000','2001', freq = 'BQS')\n",
        "print(s)\n",
        "e= pd.date_range('2000','2001', freq = 'BQE')\n",
        "print(e)"
      ],
      "metadata": {
        "colab": {
          "base_uri": "https://localhost:8080/"
        },
        "id": "Hl5k5M0qz8lC",
        "outputId": "97af257e-cecb-4d17-ef03-e5386fcd83e5"
      },
      "execution_count": 109,
      "outputs": [
        {
          "output_type": "stream",
          "name": "stdout",
          "text": [
            "DatetimeIndex(['2000-01-03', '2000-04-03', '2000-07-03', '2000-10-02',\n",
            "               '2001-01-01'],\n",
            "              dtype='datetime64[ns]', freq='BQS-JAN')\n",
            "DatetimeIndex(['2000-03-31', '2000-06-30', '2000-09-29', '2000-12-29'], dtype='datetime64[ns]', freq='BQE-DEC')\n"
          ]
        }
      ]
    },
    {
      "cell_type": "code",
      "source": [
        "# 23. Write a Pandas program to generate sequences of fixed-frequency dates and\n",
        "# time spans intervals.\n",
        "\n",
        "e= pd.date_range('2000-01-01',periods = 10 , freq = 'h')\n",
        "print(e)\n",
        "h= pd.date_range('2000-01-01',periods = 10 , freq = '3h')\n",
        "print(h)"
      ],
      "metadata": {
        "colab": {
          "base_uri": "https://localhost:8080/"
        },
        "id": "myfsqM6Ez8iv",
        "outputId": "a55efed1-9010-49e0-8b9d-cacdf1518f56"
      },
      "execution_count": 110,
      "outputs": [
        {
          "output_type": "stream",
          "name": "stdout",
          "text": [
            "DatetimeIndex(['2000-01-01 00:00:00', '2000-01-01 01:00:00',\n",
            "               '2000-01-01 02:00:00', '2000-01-01 03:00:00',\n",
            "               '2000-01-01 04:00:00', '2000-01-01 05:00:00',\n",
            "               '2000-01-01 06:00:00', '2000-01-01 07:00:00',\n",
            "               '2000-01-01 08:00:00', '2000-01-01 09:00:00'],\n",
            "              dtype='datetime64[ns]', freq='h')\n",
            "DatetimeIndex(['2000-01-01 00:00:00', '2000-01-01 03:00:00',\n",
            "               '2000-01-01 06:00:00', '2000-01-01 09:00:00',\n",
            "               '2000-01-01 12:00:00', '2000-01-01 15:00:00',\n",
            "               '2000-01-01 18:00:00', '2000-01-01 21:00:00',\n",
            "               '2000-01-02 00:00:00', '2000-01-02 03:00:00'],\n",
            "              dtype='datetime64[ns]', freq='3h')\n"
          ]
        }
      ]
    },
    {
      "cell_type": "code",
      "source": [
        "# 24. Write a Pandas program to generate time series combining day and intraday\n",
        "# offsets intervals.\n",
        "\n",
        "e= pd.date_range('2000-01-01',periods = 10 , freq = '3h10min')\n",
        "print(e)\n",
        "h= pd.date_range('2000-01-01',periods = 10 , freq = '1d3h10min')\n",
        "print(h)"
      ],
      "metadata": {
        "colab": {
          "base_uri": "https://localhost:8080/"
        },
        "id": "Qoeqq4Dmz8gP",
        "outputId": "37af9650-1274-4f9e-b025-2ed85b76c653"
      },
      "execution_count": 111,
      "outputs": [
        {
          "output_type": "stream",
          "name": "stdout",
          "text": [
            "DatetimeIndex(['2000-01-01 00:00:00', '2000-01-01 03:10:00',\n",
            "               '2000-01-01 06:20:00', '2000-01-01 09:30:00',\n",
            "               '2000-01-01 12:40:00', '2000-01-01 15:50:00',\n",
            "               '2000-01-01 19:00:00', '2000-01-01 22:10:00',\n",
            "               '2000-01-02 01:20:00', '2000-01-02 04:30:00'],\n",
            "              dtype='datetime64[ns]', freq='190min')\n",
            "DatetimeIndex(['2000-01-01 00:00:00', '2000-01-02 03:10:00',\n",
            "               '2000-01-03 06:20:00', '2000-01-04 09:30:00',\n",
            "               '2000-01-05 12:40:00', '2000-01-06 15:50:00',\n",
            "               '2000-01-07 19:00:00', '2000-01-08 22:10:00',\n",
            "               '2000-01-10 01:20:00', '2000-01-11 04:30:00'],\n",
            "              dtype='datetime64[ns]', freq='1630min')\n"
          ]
        }
      ]
    },
    {
      "cell_type": "code",
      "source": [
        "# 25. Write a Pandas program to extract the day name from a specified date. Add 2\n",
        "# days and 1 business day with the specified date.\n",
        "\n",
        "a = pd.Timestamp('2020-01-01')\n",
        "print(a.day_name())\n",
        "\n",
        "print( a +pd.Timedelta(days = 2))\n",
        "print(a + pd.offsets.BDay(1))"
      ],
      "metadata": {
        "id": "0b3ZjOFmz8d4",
        "colab": {
          "base_uri": "https://localhost:8080/"
        },
        "outputId": "f5273fa7-89e2-4cc4-e7b0-493a1c3bd9bd"
      },
      "execution_count": 112,
      "outputs": [
        {
          "output_type": "stream",
          "name": "stdout",
          "text": [
            "Wednesday\n",
            "2020-01-03 00:00:00\n",
            "2020-01-02 00:00:00\n"
          ]
        }
      ]
    },
    {
      "cell_type": "code",
      "source": [
        "# 25. Write a Pandas program to extract the day name from a specified date. Add 2\n",
        "# days and 1 business day with the specified date.\n",
        "\n"
      ],
      "metadata": {
        "id": "OR4StAbwz8bU"
      },
      "execution_count": 113,
      "outputs": []
    },
    {
      "cell_type": "code",
      "source": [],
      "metadata": {
        "id": "uqbf0nkgz8Yo"
      },
      "execution_count": 113,
      "outputs": []
    },
    {
      "cell_type": "code",
      "source": [],
      "metadata": {
        "id": "AX5Ptisqz8WI"
      },
      "execution_count": 113,
      "outputs": []
    },
    {
      "cell_type": "code",
      "source": [],
      "metadata": {
        "id": "49o9qMYDz8T4"
      },
      "execution_count": 113,
      "outputs": []
    },
    {
      "cell_type": "code",
      "source": [],
      "metadata": {
        "id": "MK4p7gd4z8Rg"
      },
      "execution_count": 113,
      "outputs": []
    },
    {
      "cell_type": "code",
      "source": [],
      "metadata": {
        "id": "d3AEmYF_z8PW"
      },
      "execution_count": 113,
      "outputs": []
    },
    {
      "cell_type": "code",
      "source": [],
      "metadata": {
        "id": "Axdqi8K2z8NA"
      },
      "execution_count": 113,
      "outputs": []
    },
    {
      "cell_type": "code",
      "source": [],
      "metadata": {
        "id": "x7E0HCb8z8Kg"
      },
      "execution_count": 113,
      "outputs": []
    },
    {
      "cell_type": "code",
      "source": [],
      "metadata": {
        "id": "fH22mLYwz8IA"
      },
      "execution_count": 113,
      "outputs": []
    }
  ]
}