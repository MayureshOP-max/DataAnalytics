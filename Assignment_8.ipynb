{
  "nbformat": 4,
  "nbformat_minor": 0,
  "metadata": {
    "colab": {
      "provenance": [],
      "authorship_tag": "ABX9TyOmP1nGvxEa+w6EX7qqwNKs",
      "include_colab_link": true
    },
    "kernelspec": {
      "name": "python3",
      "display_name": "Python 3"
    },
    "language_info": {
      "name": "python"
    }
  },
  "cells": [
    {
      "cell_type": "markdown",
      "metadata": {
        "id": "view-in-github",
        "colab_type": "text"
      },
      "source": [
        "<a href=\"https://colab.research.google.com/github/MayureshOP-max/DataAnalytics/blob/main/Assignment_8.ipynb\" target=\"_parent\"><img src=\"https://colab.research.google.com/assets/colab-badge.svg\" alt=\"Open In Colab\"/></a>"
      ]
    },
    {
      "cell_type": "code",
      "source": [
        "import pandas as pd\n",
        "import numpy as np\n",
        "import datetime\n",
        "from datetime import datetime, date, time, timedelta"
      ],
      "metadata": {
        "id": "-DiBd9NP1VFJ"
      },
      "execution_count": 2,
      "outputs": []
    },
    {
      "cell_type": "code",
      "execution_count": 3,
      "metadata": {
        "colab": {
          "base_uri": "https://localhost:8080/"
        },
        "id": "P4MTjvJv045x",
        "outputId": "046565cb-5eb7-4d42-cf9c-ca7b5d58e602"
      },
      "outputs": [
        {
          "output_type": "stream",
          "name": "stdout",
          "text": [
            "2012-01-15 00:00:00\n",
            "2012-01-15 21:20:00\n",
            "2024-10-24 08:17:56.328425\n",
            "2012-01-15\n",
            "2024-10-24\n",
            "21:20:00\n",
            "2024-10-24 08:17:56.329090\n"
          ]
        }
      ],
      "source": [
        "# 1. Write a Pandas program to create\n",
        "# a) Datetime object for Jan 15 2012.\n",
        "# b) Specific date and time of 9:20 pm.\n",
        "# c) Local date and time.\n",
        "# d) A date without time.\n",
        "# e) Current date.\n",
        "# f) Time from a datetime.\n",
        "# g) Current local time.\n",
        "\n",
        "datetime_obj = datetime(2012, 1,15)\n",
        "print(datetime_obj)\n",
        "\n",
        "spec_dt_time = datetime(2012,1,15,21,20)\n",
        "print(spec_dt_time)\n",
        "\n",
        "loc_date_time = datetime.now()\n",
        "print(loc_date_time)\n",
        "\n",
        "date_obj = date(2012, 1,15)\n",
        "print(date_obj)\n",
        "\n",
        "date_today = date.today()\n",
        "print(date_today)\n",
        "\n",
        "time_from = spec_dt_time.time()\n",
        "print(time_from)\n",
        "\n",
        "time_now = datetime.now()\n",
        "print(time_now)"
      ]
    },
    {
      "cell_type": "code",
      "source": [
        "# 2. Write a Pandas program to create\n",
        "# a) a specific date using timestamp.\n",
        "# b) date and time using timestamp.\n",
        "# c) a time adds in the current local date using timestamp.\n",
        "# d) current date and time using timestamp.\n",
        "\n",
        "tsd = pd.Timestamp(\"2022-10-12\")\n",
        "print(tsd)\n",
        "\n",
        "tst = pd.Timestamp(\"2022-10-12 11:58:12\")\n",
        "print(tst)\n",
        "\n",
        "tslocal = pd.Timestamp.now()\n",
        "print(tslocal)\n",
        "tslocal = pd.Timestamp('11:30')\n",
        "print(tslocal)\n",
        "\n",
        "tsnow = pd.Timestamp(\"now\")\n",
        "print(tsnow)"
      ],
      "metadata": {
        "colab": {
          "base_uri": "https://localhost:8080/"
        },
        "id": "82enSiAW0-A9",
        "outputId": "3c0f6900-1662-4563-e9b8-464545de4fd5"
      },
      "execution_count": 4,
      "outputs": [
        {
          "output_type": "stream",
          "name": "stdout",
          "text": [
            "2022-10-12 00:00:00\n",
            "2022-10-12 11:58:12\n",
            "2024-10-24 08:17:56.352158\n",
            "2024-10-24 11:30:00\n",
            "2024-10-24 08:17:56.352842\n"
          ]
        }
      ]
    },
    {
      "cell_type": "code",
      "source": [
        "# 3. Write a Pandas program to create a date from a given year, month, day and\n",
        "# another date from a given string formats.\n",
        "\n",
        "year = 2020\n",
        "month = 5\n",
        "day = 23\n",
        "date = '2021-4-23'\n",
        "date1 =pd.to_datetime(f\"{year}-{month}-{day}\")\n",
        "print(date1)\n",
        "\n",
        "df = pd.DataFrame({'date_str': ['2023-01-01']})\n",
        "print(pd.to_datetime(df['date_str'], format='%Y-%m-%d'))"
      ],
      "metadata": {
        "colab": {
          "base_uri": "https://localhost:8080/"
        },
        "id": "3RXnqs7t09-m",
        "outputId": "622be421-70dc-4b3f-dda1-2ef4b3669980"
      },
      "execution_count": 5,
      "outputs": [
        {
          "output_type": "stream",
          "name": "stdout",
          "text": [
            "2020-05-23 00:00:00\n",
            "0   2023-01-01\n",
            "Name: date_str, dtype: datetime64[ns]\n"
          ]
        }
      ]
    },
    {
      "cell_type": "code",
      "source": [
        "# 4. Write a Pandas program to print the day after and before a specified date. Also\n",
        "# print the days between two given dates.\n",
        "\n",
        "dt = datetime(2012, 1,15)\n",
        "print(dt)\n",
        "\n",
        "date_before = dt - timedelta(1)\n",
        "print(date_before)\n",
        "date_after = dt + timedelta(1)\n",
        "print(date_after)"
      ],
      "metadata": {
        "colab": {
          "base_uri": "https://localhost:8080/"
        },
        "id": "6xK3N439098M",
        "outputId": "0483ce66-2c5a-4f12-9c8f-17f1b671b7a6"
      },
      "execution_count": 6,
      "outputs": [
        {
          "output_type": "stream",
          "name": "stdout",
          "text": [
            "2012-01-15 00:00:00\n",
            "2012-01-14 00:00:00\n",
            "2012-01-16 00:00:00\n"
          ]
        }
      ]
    },
    {
      "cell_type": "code",
      "source": [
        "# 5. Write a Pandas program to create a time-series with two index labels and\n",
        "# random values. Also print the type of the index.\n",
        "\n",
        "dates = [datetime(2020, 12,3), datetime(2012,2,4)]\n",
        "timeseries = pd.Series(np.random.randn(2), dates)\n",
        "\n",
        "print(timeseries)"
      ],
      "metadata": {
        "colab": {
          "base_uri": "https://localhost:8080/"
        },
        "id": "vrgqOiDa0950",
        "outputId": "84fb80e6-a70c-4db4-fc68-99423a7bd448"
      },
      "execution_count": 7,
      "outputs": [
        {
          "output_type": "stream",
          "name": "stdout",
          "text": [
            "2020-12-03    0.320161\n",
            "2012-02-04    1.668107\n",
            "dtype: float64\n"
          ]
        }
      ]
    },
    {
      "cell_type": "code",
      "source": [
        "# 6. Write a Pandas program to create a time-series from a given list of dates as\n",
        "# strings.\n",
        "\n",
        "dates = ['2020-1-23', '2023-1-30', '2013-2-5', '2345-2-4']\n",
        "timeseries = pd.Series(np.random.randn(4),dates)\n",
        "timeseries\n"
      ],
      "metadata": {
        "colab": {
          "base_uri": "https://localhost:8080/",
          "height": 209
        },
        "id": "TQC9gXqc093g",
        "outputId": "ee447f68-c3b9-4c49-8d33-af81c5495b9b"
      },
      "execution_count": 8,
      "outputs": [
        {
          "output_type": "execute_result",
          "data": {
            "text/plain": [
              "2020-1-23    0.831940\n",
              "2023-1-30   -1.235287\n",
              "2013-2-5    -0.504545\n",
              "2345-2-4     1.024798\n",
              "dtype: float64"
            ],
            "text/html": [
              "<div>\n",
              "<style scoped>\n",
              "    .dataframe tbody tr th:only-of-type {\n",
              "        vertical-align: middle;\n",
              "    }\n",
              "\n",
              "    .dataframe tbody tr th {\n",
              "        vertical-align: top;\n",
              "    }\n",
              "\n",
              "    .dataframe thead th {\n",
              "        text-align: right;\n",
              "    }\n",
              "</style>\n",
              "<table border=\"1\" class=\"dataframe\">\n",
              "  <thead>\n",
              "    <tr style=\"text-align: right;\">\n",
              "      <th></th>\n",
              "      <th>0</th>\n",
              "    </tr>\n",
              "  </thead>\n",
              "  <tbody>\n",
              "    <tr>\n",
              "      <th>2020-1-23</th>\n",
              "      <td>0.831940</td>\n",
              "    </tr>\n",
              "    <tr>\n",
              "      <th>2023-1-30</th>\n",
              "      <td>-1.235287</td>\n",
              "    </tr>\n",
              "    <tr>\n",
              "      <th>2013-2-5</th>\n",
              "      <td>-0.504545</td>\n",
              "    </tr>\n",
              "    <tr>\n",
              "      <th>2345-2-4</th>\n",
              "      <td>1.024798</td>\n",
              "    </tr>\n",
              "  </tbody>\n",
              "</table>\n",
              "</div><br><label><b>dtype:</b> float64</label>"
            ]
          },
          "metadata": {},
          "execution_count": 8
        }
      ]
    },
    {
      "cell_type": "code",
      "source": [
        "# 7. Write a Pandas program to create a time series object that has time indexed\n",
        "# data. Also select the dates of same year and select the dates between certain\n",
        "# dates.\n",
        "\n",
        "index = pd.DatetimeIndex(['2011-09-02', '2012-08-04',\n",
        "                          '2015-09-03', '2010-08-04',\n",
        "                          '2015-03-03', '2011-08-04',\n",
        "                          '2015-04-03', '2012-08-04'])\n",
        "aindex = pd.Series([0,1,2,3,4,5,6,7],index = index)\n",
        "print(aindex)\n",
        "print(aindex['2012'])\n",
        "print(aindex.loc[pd.Timestamp('2010-08-04'):pd.Timestamp('2015-04-03')])"
      ],
      "metadata": {
        "colab": {
          "base_uri": "https://localhost:8080/"
        },
        "id": "PwdMZiH7091L",
        "outputId": "771d8031-60aa-4384-9ec9-65476a33d14c"
      },
      "execution_count": 9,
      "outputs": [
        {
          "output_type": "stream",
          "name": "stdout",
          "text": [
            "2011-09-02    0\n",
            "2012-08-04    1\n",
            "2015-09-03    2\n",
            "2010-08-04    3\n",
            "2015-03-03    4\n",
            "2011-08-04    5\n",
            "2015-04-03    6\n",
            "2012-08-04    7\n",
            "dtype: int64\n",
            "2012-08-04    1\n",
            "2012-08-04    7\n",
            "dtype: int64\n",
            "2010-08-04    3\n",
            "2015-03-03    4\n",
            "2011-08-04    5\n",
            "2015-04-03    6\n",
            "dtype: int64\n"
          ]
        }
      ]
    },
    {
      "cell_type": "code",
      "source": [
        "# 8. Write a Pandas program to create a date range using a startpoint date and a\n",
        "# number of periods.\n",
        "\n",
        "start_date = '2010-01-01'\n",
        "interval = 10\n",
        "print(\"range in days\")\n",
        "series = pd.date_range(start = start_date, periods = interval)\n",
        "print(series)\n",
        "print(\"range in months\")\n",
        "series = pd.date_range(start = start_date, periods = interval, freq = 'ME')\n",
        "print(series)\n"
      ],
      "metadata": {
        "colab": {
          "base_uri": "https://localhost:8080/"
        },
        "id": "zQ_4xedB09y2",
        "outputId": "c419cd98-3016-40f8-fd7b-48e98a21e8f0"
      },
      "execution_count": 10,
      "outputs": [
        {
          "output_type": "stream",
          "name": "stdout",
          "text": [
            "range in days\n",
            "DatetimeIndex(['2010-01-01', '2010-01-02', '2010-01-03', '2010-01-04',\n",
            "               '2010-01-05', '2010-01-06', '2010-01-07', '2010-01-08',\n",
            "               '2010-01-09', '2010-01-10'],\n",
            "              dtype='datetime64[ns]', freq='D')\n",
            "range in months\n",
            "DatetimeIndex(['2010-01-31', '2010-02-28', '2010-03-31', '2010-04-30',\n",
            "               '2010-05-31', '2010-06-30', '2010-07-31', '2010-08-31',\n",
            "               '2010-09-30', '2010-10-31'],\n",
            "              dtype='datetime64[ns]', freq='ME')\n"
          ]
        }
      ]
    },
    {
      "cell_type": "code",
      "source": [
        "# 9. Write a Pandas program to create a whole month of dates in daily frequencies.\n",
        "# Also find the maximum, minimum timestamp and indexs.\n",
        "\n",
        "start_date = '2000-01-01'\n",
        "interval = 31\n",
        "\n",
        "print(\"month range in days\")\n",
        "series = pd.date_range(start = start_date, periods = interval)\n",
        "print(series)\n",
        "\n",
        "print(series.max())\n",
        "print(series.min())\n"
      ],
      "metadata": {
        "colab": {
          "base_uri": "https://localhost:8080/"
        },
        "id": "4skaN5Yh09wa",
        "outputId": "7284fffe-3b4c-46fb-b994-27d3b8972b57"
      },
      "execution_count": 11,
      "outputs": [
        {
          "output_type": "stream",
          "name": "stdout",
          "text": [
            "month range in days\n",
            "DatetimeIndex(['2000-01-01', '2000-01-02', '2000-01-03', '2000-01-04',\n",
            "               '2000-01-05', '2000-01-06', '2000-01-07', '2000-01-08',\n",
            "               '2000-01-09', '2000-01-10', '2000-01-11', '2000-01-12',\n",
            "               '2000-01-13', '2000-01-14', '2000-01-15', '2000-01-16',\n",
            "               '2000-01-17', '2000-01-18', '2000-01-19', '2000-01-20',\n",
            "               '2000-01-21', '2000-01-22', '2000-01-23', '2000-01-24',\n",
            "               '2000-01-25', '2000-01-26', '2000-01-27', '2000-01-28',\n",
            "               '2000-01-29', '2000-01-30', '2000-01-31'],\n",
            "              dtype='datetime64[ns]', freq='D')\n",
            "2000-01-31 00:00:00\n",
            "2000-01-01 00:00:00\n"
          ]
        }
      ]
    },
    {
      "cell_type": "code",
      "source": [
        "# 10. Write a Pandas program to create a time series using three months\n",
        "# frequency.\n",
        "\n",
        "start_date = '2000-01-01'\n",
        "interval = 10\n",
        "\n",
        "print(\"month range in days\")\n",
        "series = pd.date_range(start = start_date, periods = interval,freq='3ME')\n",
        "print(series)"
      ],
      "metadata": {
        "colab": {
          "base_uri": "https://localhost:8080/"
        },
        "id": "3m1k8vpZ09uL",
        "outputId": "42c95812-ec70-4702-8937-311c1074dd5b"
      },
      "execution_count": 12,
      "outputs": [
        {
          "output_type": "stream",
          "name": "stdout",
          "text": [
            "month range in days\n",
            "DatetimeIndex(['2000-01-31', '2000-04-30', '2000-07-31', '2000-10-31',\n",
            "               '2001-01-31', '2001-04-30', '2001-07-31', '2001-10-31',\n",
            "               '2002-01-31', '2002-04-30'],\n",
            "              dtype='datetime64[ns]', freq='3ME')\n"
          ]
        }
      ]
    },
    {
      "cell_type": "code",
      "source": [
        "# 11. Write a Pandas program to create a sequence of durations increasing by an\n",
        "# hour.\n",
        "\n",
        "s = pd.timedelta_range(0, periods = 10, freq = 'h')\n",
        "print(s)"
      ],
      "metadata": {
        "colab": {
          "base_uri": "https://localhost:8080/"
        },
        "id": "hm3_hCZX09ru",
        "outputId": "5518f4ed-b36e-4a7d-ca18-2d503fded3c9"
      },
      "execution_count": 13,
      "outputs": [
        {
          "output_type": "stream",
          "name": "stdout",
          "text": [
            "TimedeltaIndex(['0 days 00:00:00', '0 days 01:00:00', '0 days 02:00:00',\n",
            "                '0 days 03:00:00', '0 days 04:00:00', '0 days 05:00:00',\n",
            "                '0 days 06:00:00', '0 days 07:00:00', '0 days 08:00:00',\n",
            "                '0 days 09:00:00'],\n",
            "               dtype='timedelta64[ns]', freq='h')\n"
          ]
        }
      ]
    },
    {
      "cell_type": "code",
      "source": [
        "# 12. Write a Pandas program to convert year and day of year into a single\n",
        "# datetime column of a dataframe.\n",
        "\n",
        "data = {\\\n",
        "\"year\": [2002, 2003, 2015, 2018],\n",
        "\"day_of_the_year\": [250, 365, 1, 140]\n",
        "}\n",
        "df = pd.DataFrame(data)\n",
        "print(df)\n",
        "df['combined'] = pd.to_datetime(df['year']*1000 + df['day_of_the_year'],format='%Y%j')\n",
        "print(df)"
      ],
      "metadata": {
        "id": "SjttO4zp09pT",
        "colab": {
          "base_uri": "https://localhost:8080/"
        },
        "outputId": "bc1010cc-c403-43c8-d037-614aec19d8d8"
      },
      "execution_count": 14,
      "outputs": [
        {
          "output_type": "stream",
          "name": "stdout",
          "text": [
            "   year  day_of_the_year\n",
            "0  2002              250\n",
            "1  2003              365\n",
            "2  2015                1\n",
            "3  2018              140\n",
            "   year  day_of_the_year   combined\n",
            "0  2002              250 2002-09-07\n",
            "1  2003              365 2003-12-31\n",
            "2  2015                1 2015-01-01\n",
            "3  2018              140 2018-05-20\n"
          ]
        }
      ]
    },
    {
      "cell_type": "code",
      "source": [
        "# 13. Write a Pandas program to create a series of Timestamps from a DataFrame\n",
        "# of integer or string columns. Also create a series of Timestamps using specified\n",
        "# columns.\n",
        "\n",
        "df = pd.DataFrame({\n",
        "    'year':[2018,2019,2020,2022],\n",
        "    'month':[1,2,3,4],\n",
        "    'day':[4,5,6,7],\n",
        "    'hour':[1,2,3,4]})\n",
        "\n",
        "print(pd.to_datetime(df[['year','month','day']]))\n"
      ],
      "metadata": {
        "id": "hBv9MHOz09nM",
        "colab": {
          "base_uri": "https://localhost:8080/"
        },
        "outputId": "ca6b6ecb-ccf1-4289-d0f1-3c5014ccedc3"
      },
      "execution_count": 15,
      "outputs": [
        {
          "output_type": "stream",
          "name": "stdout",
          "text": [
            "0   2018-01-04\n",
            "1   2019-02-05\n",
            "2   2020-03-06\n",
            "3   2022-04-07\n",
            "dtype: datetime64[ns]\n"
          ]
        }
      ]
    },
    {
      "cell_type": "code",
      "source": [
        "# 14. Write a Pandas program to check if a day is a business day (weekday) or not.\n",
        "\n",
        "s =  pd.to_datetime('2012, 1,15')\n",
        "\n",
        "if s.weekday() <5:\n",
        "  print(\"its a weekday\")\n",
        "else:\n",
        "  print(\"its weekend\")"
      ],
      "metadata": {
        "id": "Krdsx1Pw09kk",
        "colab": {
          "base_uri": "https://localhost:8080/"
        },
        "outputId": "f2bbfb7e-5d87-43a7-bfd6-4e633058981b"
      },
      "execution_count": 16,
      "outputs": [
        {
          "output_type": "stream",
          "name": "stdout",
          "text": [
            "its weekend\n"
          ]
        }
      ]
    },
    {
      "cell_type": "code",
      "source": [
        "# 15. Write a Pandas program to get a time series with the last working days of\n",
        "# each month of a specific year.\n",
        "\n",
        "d = pd.date_range('2020-01-01', periods = 12, freq = 'BME')\n",
        "d"
      ],
      "metadata": {
        "id": "FhP2W7iD09hz",
        "colab": {
          "base_uri": "https://localhost:8080/"
        },
        "outputId": "ad0373c8-24e2-438a-ba47-a52983ce5caf"
      },
      "execution_count": 17,
      "outputs": [
        {
          "output_type": "execute_result",
          "data": {
            "text/plain": [
              "DatetimeIndex(['2020-01-31', '2020-02-28', '2020-03-31', '2020-04-30',\n",
              "               '2020-05-29', '2020-06-30', '2020-07-31', '2020-08-31',\n",
              "               '2020-09-30', '2020-10-30', '2020-11-30', '2020-12-31'],\n",
              "              dtype='datetime64[ns]', freq='BME')"
            ]
          },
          "metadata": {},
          "execution_count": 17
        }
      ]
    },
    {
      "cell_type": "code",
      "source": [
        "# 16. Write a Pandas program to create a time series combining hour and minute.\n",
        "\n",
        "h = pd.timedelta_range(0,periods = 12, freq = '1h40min')\n",
        "h"
      ],
      "metadata": {
        "id": "TFmQi-fW09fe",
        "colab": {
          "base_uri": "https://localhost:8080/"
        },
        "outputId": "efe219c2-cf5a-4518-c18a-1a86057624f2"
      },
      "execution_count": 18,
      "outputs": [
        {
          "output_type": "execute_result",
          "data": {
            "text/plain": [
              "TimedeltaIndex(['0 days 00:00:00', '0 days 01:40:00', '0 days 03:20:00',\n",
              "                '0 days 05:00:00', '0 days 06:40:00', '0 days 08:20:00',\n",
              "                '0 days 10:00:00', '0 days 11:40:00', '0 days 13:20:00',\n",
              "                '0 days 15:00:00', '0 days 16:40:00', '0 days 18:20:00'],\n",
              "               dtype='timedelta64[ns]', freq='100min')"
            ]
          },
          "metadata": {},
          "execution_count": 18
        }
      ]
    },
    {
      "cell_type": "code",
      "source": [
        "# 17. Write a Pandas program to convert unix/epoch time to a regular time stamp\n",
        "# in UTC. Also convert the said timestamp in to a given time zone.\n",
        "\n",
        "d1 = 1634896245\n",
        "d2 = pd.to_datetime(d1,unit = 's')\n",
        "d3 = int(d2.timestamp())\n",
        "d4 = pd.to_datetime(d3,unit = 's')\n",
        "d5 = d4.tz_localize('America/New_York')\n",
        "d5"
      ],
      "metadata": {
        "id": "2va-X7tg09db",
        "colab": {
          "base_uri": "https://localhost:8080/"
        },
        "outputId": "c5b78b83-ac20-428a-882a-d0e1296dc4b3"
      },
      "execution_count": 19,
      "outputs": [
        {
          "output_type": "execute_result",
          "data": {
            "text/plain": [
              "Timestamp('2021-10-22 09:50:45-0400', tz='America/New_York')"
            ]
          },
          "metadata": {},
          "execution_count": 19
        }
      ]
    },
    {
      "cell_type": "code",
      "source": [
        "# 18. Write a Pandas program to create a time series object with a time zone.\n",
        "\n",
        "d = pd.Series(pd.date_range('2000', periods = 3, tz = 'Asia/Calcutta'))\n",
        "d"
      ],
      "metadata": {
        "id": "JRL9oMSa09bL",
        "colab": {
          "base_uri": "https://localhost:8080/",
          "height": 178
        },
        "outputId": "0dd5d0bc-787a-46a6-dbe8-35d10c1d223b"
      },
      "execution_count": 20,
      "outputs": [
        {
          "output_type": "execute_result",
          "data": {
            "text/plain": [
              "0   2000-01-01 00:00:00+05:30\n",
              "1   2000-01-02 00:00:00+05:30\n",
              "2   2000-01-03 00:00:00+05:30\n",
              "dtype: datetime64[ns, Asia/Calcutta]"
            ],
            "text/html": [
              "<div>\n",
              "<style scoped>\n",
              "    .dataframe tbody tr th:only-of-type {\n",
              "        vertical-align: middle;\n",
              "    }\n",
              "\n",
              "    .dataframe tbody tr th {\n",
              "        vertical-align: top;\n",
              "    }\n",
              "\n",
              "    .dataframe thead th {\n",
              "        text-align: right;\n",
              "    }\n",
              "</style>\n",
              "<table border=\"1\" class=\"dataframe\">\n",
              "  <thead>\n",
              "    <tr style=\"text-align: right;\">\n",
              "      <th></th>\n",
              "      <th>0</th>\n",
              "    </tr>\n",
              "  </thead>\n",
              "  <tbody>\n",
              "    <tr>\n",
              "      <th>0</th>\n",
              "      <td>2000-01-01 00:00:00+05:30</td>\n",
              "    </tr>\n",
              "    <tr>\n",
              "      <th>1</th>\n",
              "      <td>2000-01-02 00:00:00+05:30</td>\n",
              "    </tr>\n",
              "    <tr>\n",
              "      <th>2</th>\n",
              "      <td>2000-01-03 00:00:00+05:30</td>\n",
              "    </tr>\n",
              "  </tbody>\n",
              "</table>\n",
              "</div><br><label><b>dtype:</b> datetime64[ns, Asia/Calcutta]</label>"
            ]
          },
          "metadata": {},
          "execution_count": 20
        }
      ]
    },
    {
      "cell_type": "code",
      "source": [
        "# 19. Write a Pandas program to remove the time zone information from a Time\n",
        "# series data.\n",
        "\n",
        "d = pd.Series(pd.date_range('2000', periods = 3, tz = 'Asia/Calcutta'))\n",
        "d1 = d.dt.tz_localize(None)\n",
        "print(d1)"
      ],
      "metadata": {
        "id": "pFfUDG_F09Yj",
        "colab": {
          "base_uri": "https://localhost:8080/"
        },
        "outputId": "be05805c-2a98-4b71-9ff7-5a09cc93b504"
      },
      "execution_count": 21,
      "outputs": [
        {
          "output_type": "stream",
          "name": "stdout",
          "text": [
            "0   2000-01-01\n",
            "1   2000-01-02\n",
            "2   2000-01-03\n",
            "dtype: datetime64[ns]\n"
          ]
        }
      ]
    },
    {
      "cell_type": "code",
      "source": [
        "# 20. Write a Pandas program to subtract two timestamps of same time zone or\n",
        "# different time zone.\n",
        "\n",
        "d1 = pd.Timestamp('2020-01-10 12:00', tz = 'Asia/Kolkata')\n",
        "d2 = pd.Timestamp('2020-01-01 7:00', tz = 'Asia/Kolkata')\n",
        "print(\"Diff: \", d2-d1)\n",
        "\n",
        "d3 = pd.Timestamp('2020-01-10 12:00', tz = 'Asia/Kolkata')\n",
        "d4 = pd.Timestamp('2020-01-01 7:00', tz = 'America/New_York')\n",
        "print(\"Diff: \", d4-d3)"
      ],
      "metadata": {
        "id": "QckL8v9l09Wu",
        "colab": {
          "base_uri": "https://localhost:8080/"
        },
        "outputId": "ff192dc5-462c-4d41-9f69-78f5bc9acfe9"
      },
      "execution_count": 22,
      "outputs": [
        {
          "output_type": "stream",
          "name": "stdout",
          "text": [
            "Diff:  -10 days +19:00:00\n",
            "Diff:  -9 days +05:30:00\n"
          ]
        }
      ]
    },
    {
      "cell_type": "code",
      "source": [
        "# 21. Write a Pandas program to calculate all Thursdays between two given days.\n",
        "\n",
        "d= pd.date_range('2020-01-01', '2020-11-01', freq = 'W-THU')\n",
        "d"
      ],
      "metadata": {
        "colab": {
          "base_uri": "https://localhost:8080/"
        },
        "id": "6Cq5qISHz8nq",
        "outputId": "0c2ab68c-1adf-4428-fd6e-04b8422dc256"
      },
      "execution_count": 23,
      "outputs": [
        {
          "output_type": "execute_result",
          "data": {
            "text/plain": [
              "DatetimeIndex(['2020-01-02', '2020-01-09', '2020-01-16', '2020-01-23',\n",
              "               '2020-01-30', '2020-02-06', '2020-02-13', '2020-02-20',\n",
              "               '2020-02-27', '2020-03-05', '2020-03-12', '2020-03-19',\n",
              "               '2020-03-26', '2020-04-02', '2020-04-09', '2020-04-16',\n",
              "               '2020-04-23', '2020-04-30', '2020-05-07', '2020-05-14',\n",
              "               '2020-05-21', '2020-05-28', '2020-06-04', '2020-06-11',\n",
              "               '2020-06-18', '2020-06-25', '2020-07-02', '2020-07-09',\n",
              "               '2020-07-16', '2020-07-23', '2020-07-30', '2020-08-06',\n",
              "               '2020-08-13', '2020-08-20', '2020-08-27', '2020-09-03',\n",
              "               '2020-09-10', '2020-09-17', '2020-09-24', '2020-10-01',\n",
              "               '2020-10-08', '2020-10-15', '2020-10-22', '2020-10-29'],\n",
              "              dtype='datetime64[ns]', freq='W-THU')"
            ]
          },
          "metadata": {},
          "execution_count": 23
        }
      ]
    },
    {
      "cell_type": "code",
      "source": [
        "# 22. Write a Pandas program to find the all the business quarterly begin and end\n",
        "# dates of a specified year.\n",
        "\n",
        "s= pd.date_range('2000','2001', freq = 'BQS')\n",
        "print(s)\n",
        "e= pd.date_range('2000','2001', freq = 'BQE')\n",
        "print(e)"
      ],
      "metadata": {
        "colab": {
          "base_uri": "https://localhost:8080/"
        },
        "id": "Hl5k5M0qz8lC",
        "outputId": "f0b6aaa7-3637-411d-81ce-85289e7502aa"
      },
      "execution_count": 24,
      "outputs": [
        {
          "output_type": "stream",
          "name": "stdout",
          "text": [
            "DatetimeIndex(['2000-01-03', '2000-04-03', '2000-07-03', '2000-10-02',\n",
            "               '2001-01-01'],\n",
            "              dtype='datetime64[ns]', freq='BQS-JAN')\n",
            "DatetimeIndex(['2000-03-31', '2000-06-30', '2000-09-29', '2000-12-29'], dtype='datetime64[ns]', freq='BQE-DEC')\n"
          ]
        }
      ]
    },
    {
      "cell_type": "code",
      "source": [
        "# 23. Write a Pandas program to generate sequences of fixed-frequency dates and\n",
        "# time spans intervals.\n",
        "\n",
        "e= pd.date_range('2000-01-01',periods = 10 , freq = 'h')\n",
        "print(e)\n",
        "h= pd.date_range('2000-01-01',periods = 10 , freq = '3h')\n",
        "print(h)"
      ],
      "metadata": {
        "colab": {
          "base_uri": "https://localhost:8080/"
        },
        "id": "myfsqM6Ez8iv",
        "outputId": "c41da6ad-5f82-46f1-b911-b9a7ac6c2960"
      },
      "execution_count": 25,
      "outputs": [
        {
          "output_type": "stream",
          "name": "stdout",
          "text": [
            "DatetimeIndex(['2000-01-01 00:00:00', '2000-01-01 01:00:00',\n",
            "               '2000-01-01 02:00:00', '2000-01-01 03:00:00',\n",
            "               '2000-01-01 04:00:00', '2000-01-01 05:00:00',\n",
            "               '2000-01-01 06:00:00', '2000-01-01 07:00:00',\n",
            "               '2000-01-01 08:00:00', '2000-01-01 09:00:00'],\n",
            "              dtype='datetime64[ns]', freq='h')\n",
            "DatetimeIndex(['2000-01-01 00:00:00', '2000-01-01 03:00:00',\n",
            "               '2000-01-01 06:00:00', '2000-01-01 09:00:00',\n",
            "               '2000-01-01 12:00:00', '2000-01-01 15:00:00',\n",
            "               '2000-01-01 18:00:00', '2000-01-01 21:00:00',\n",
            "               '2000-01-02 00:00:00', '2000-01-02 03:00:00'],\n",
            "              dtype='datetime64[ns]', freq='3h')\n"
          ]
        }
      ]
    },
    {
      "cell_type": "code",
      "source": [
        "# 24. Write a Pandas program to generate time series combining day and intraday\n",
        "# offsets intervals.\n",
        "\n",
        "e= pd.date_range('2000-01-01',periods = 10 , freq = '3h10min')\n",
        "print(e)\n",
        "h= pd.date_range('2000-01-01',periods = 10 , freq = '1d3h10min')\n",
        "print(h)"
      ],
      "metadata": {
        "colab": {
          "base_uri": "https://localhost:8080/"
        },
        "id": "Qoeqq4Dmz8gP",
        "outputId": "50bfffcf-d181-44c9-e29c-ee4a725d17e8"
      },
      "execution_count": 26,
      "outputs": [
        {
          "output_type": "stream",
          "name": "stdout",
          "text": [
            "DatetimeIndex(['2000-01-01 00:00:00', '2000-01-01 03:10:00',\n",
            "               '2000-01-01 06:20:00', '2000-01-01 09:30:00',\n",
            "               '2000-01-01 12:40:00', '2000-01-01 15:50:00',\n",
            "               '2000-01-01 19:00:00', '2000-01-01 22:10:00',\n",
            "               '2000-01-02 01:20:00', '2000-01-02 04:30:00'],\n",
            "              dtype='datetime64[ns]', freq='190min')\n",
            "DatetimeIndex(['2000-01-01 00:00:00', '2000-01-02 03:10:00',\n",
            "               '2000-01-03 06:20:00', '2000-01-04 09:30:00',\n",
            "               '2000-01-05 12:40:00', '2000-01-06 15:50:00',\n",
            "               '2000-01-07 19:00:00', '2000-01-08 22:10:00',\n",
            "               '2000-01-10 01:20:00', '2000-01-11 04:30:00'],\n",
            "              dtype='datetime64[ns]', freq='1630min')\n"
          ]
        }
      ]
    },
    {
      "cell_type": "code",
      "source": [
        "# 25. Write a Pandas program to extract the day name from a specified date. Add 2\n",
        "# days and 1 business day with the specified date.\n",
        "\n",
        "a = pd.Timestamp('2020-01-01')\n",
        "print(a.day_name())\n",
        "\n",
        "print( a +pd.Timedelta(days = 2))\n",
        "print(a + pd.offsets.BDay(1))"
      ],
      "metadata": {
        "id": "0b3ZjOFmz8d4",
        "colab": {
          "base_uri": "https://localhost:8080/"
        },
        "outputId": "242e3198-da8b-4c2f-a6dd-94f7fa79f8a6"
      },
      "execution_count": 27,
      "outputs": [
        {
          "output_type": "stream",
          "name": "stdout",
          "text": [
            "Wednesday\n",
            "2020-01-03 00:00:00\n",
            "2020-01-02 00:00:00\n"
          ]
        }
      ]
    },
    {
      "cell_type": "code",
      "source": [
        "# 26. Write a Pandas program to convert integer or float epoch times to Timestamp\n",
        "# and DatetimeIndex.\n",
        "\n",
        "d = pd.to_datetime([1329806505, 129806505, 1249892905,\n",
        "                1249979305, 1250065705], unit = 's')\n",
        "print(d)\n",
        "e = pd.to_datetime([1329806505, 129806505, 1249892905,\n",
        "                1249979305, 1250065705], unit = 'ms')\n",
        "print(e)"
      ],
      "metadata": {
        "id": "OR4StAbwz8bU",
        "colab": {
          "base_uri": "https://localhost:8080/"
        },
        "outputId": "214db350-6741-48cb-f262-a937e42cb31e"
      },
      "execution_count": 28,
      "outputs": [
        {
          "output_type": "stream",
          "name": "stdout",
          "text": [
            "DatetimeIndex(['2012-02-21 06:41:45', '1974-02-11 09:21:45',\n",
            "               '2009-08-10 08:28:25', '2009-08-11 08:28:25',\n",
            "               '2009-08-12 08:28:25'],\n",
            "              dtype='datetime64[ns]', freq=None)\n",
            "DatetimeIndex(['1970-01-16 09:23:26.505000', '1970-01-02 12:03:26.505000',\n",
            "               '1970-01-15 11:11:32.905000', '1970-01-15 11:12:59.305000',\n",
            "               '1970-01-15 11:14:25.705000'],\n",
            "              dtype='datetime64[ns]', freq=None)\n"
          ]
        }
      ]
    },
    {
      "cell_type": "code",
      "source": [
        "# 27. Write a Pandas program to calculate one, two, three business day(s) from a\n",
        "# specified date. Also find the next business month end from a specific date.\n",
        "\n",
        "a = pd.Timestamp('2020-01-01')\n",
        "b = a + pd.offsets.BDay(1)\n",
        "c = a + pd.offsets.BDay(2)\n",
        "d = a + pd.offsets.BDay(3)\n",
        "print(b)\n",
        "print(c)\n",
        "print(d)\n",
        "\n",
        "e = a + pd.offsets.BMonthEnd(1)\n",
        "print(e)"
      ],
      "metadata": {
        "id": "uqbf0nkgz8Yo",
        "colab": {
          "base_uri": "https://localhost:8080/"
        },
        "outputId": "a5db0229-bce1-4a8d-9815-4e4544d19a18"
      },
      "execution_count": 29,
      "outputs": [
        {
          "output_type": "stream",
          "name": "stdout",
          "text": [
            "2020-01-02 00:00:00\n",
            "2020-01-03 00:00:00\n",
            "2020-01-06 00:00:00\n",
            "2020-01-31 00:00:00\n"
          ]
        }
      ]
    },
    {
      "cell_type": "code",
      "source": [
        "# 28. Write a Pandas program to create a period index represent all monthly\n",
        "# boundaries of a given year. Also print start and end time for each period object in\n",
        "# the said index.\n",
        "\n",
        "sd = datetime(2020,1,1)\n",
        "ed = datetime(2020,12,31)\n",
        "\n",
        "a = pd.period_range(sd,ed,freq ='M')\n",
        "for i in a:\n",
        "  print (\"{0} {1}\".format(a.start_time, a.end_time))"
      ],
      "metadata": {
        "id": "AX5Ptisqz8WI",
        "colab": {
          "base_uri": "https://localhost:8080/"
        },
        "outputId": "db94facd-7edd-4bbe-db40-135076476fcf"
      },
      "execution_count": 30,
      "outputs": [
        {
          "output_type": "stream",
          "name": "stdout",
          "text": [
            "DatetimeIndex(['2020-01-01', '2020-02-01', '2020-03-01', '2020-04-01',\n",
            "               '2020-05-01', '2020-06-01', '2020-07-01', '2020-08-01',\n",
            "               '2020-09-01', '2020-10-01', '2020-11-01', '2020-12-01'],\n",
            "              dtype='datetime64[ns]', freq='MS') DatetimeIndex(['2020-01-31 23:59:59.999999999',\n",
            "               '2020-02-29 23:59:59.999999999',\n",
            "               '2020-03-31 23:59:59.999999999',\n",
            "               '2020-04-30 23:59:59.999999999',\n",
            "               '2020-05-31 23:59:59.999999999',\n",
            "               '2020-06-30 23:59:59.999999999',\n",
            "               '2020-07-31 23:59:59.999999999',\n",
            "               '2020-08-31 23:59:59.999999999',\n",
            "               '2020-09-30 23:59:59.999999999',\n",
            "               '2020-10-31 23:59:59.999999999',\n",
            "               '2020-11-30 23:59:59.999999999',\n",
            "               '2020-12-31 23:59:59.999999999'],\n",
            "              dtype='datetime64[ns]', freq=None)\n",
            "DatetimeIndex(['2020-01-01', '2020-02-01', '2020-03-01', '2020-04-01',\n",
            "               '2020-05-01', '2020-06-01', '2020-07-01', '2020-08-01',\n",
            "               '2020-09-01', '2020-10-01', '2020-11-01', '2020-12-01'],\n",
            "              dtype='datetime64[ns]', freq='MS') DatetimeIndex(['2020-01-31 23:59:59.999999999',\n",
            "               '2020-02-29 23:59:59.999999999',\n",
            "               '2020-03-31 23:59:59.999999999',\n",
            "               '2020-04-30 23:59:59.999999999',\n",
            "               '2020-05-31 23:59:59.999999999',\n",
            "               '2020-06-30 23:59:59.999999999',\n",
            "               '2020-07-31 23:59:59.999999999',\n",
            "               '2020-08-31 23:59:59.999999999',\n",
            "               '2020-09-30 23:59:59.999999999',\n",
            "               '2020-10-31 23:59:59.999999999',\n",
            "               '2020-11-30 23:59:59.999999999',\n",
            "               '2020-12-31 23:59:59.999999999'],\n",
            "              dtype='datetime64[ns]', freq=None)\n",
            "DatetimeIndex(['2020-01-01', '2020-02-01', '2020-03-01', '2020-04-01',\n",
            "               '2020-05-01', '2020-06-01', '2020-07-01', '2020-08-01',\n",
            "               '2020-09-01', '2020-10-01', '2020-11-01', '2020-12-01'],\n",
            "              dtype='datetime64[ns]', freq='MS') DatetimeIndex(['2020-01-31 23:59:59.999999999',\n",
            "               '2020-02-29 23:59:59.999999999',\n",
            "               '2020-03-31 23:59:59.999999999',\n",
            "               '2020-04-30 23:59:59.999999999',\n",
            "               '2020-05-31 23:59:59.999999999',\n",
            "               '2020-06-30 23:59:59.999999999',\n",
            "               '2020-07-31 23:59:59.999999999',\n",
            "               '2020-08-31 23:59:59.999999999',\n",
            "               '2020-09-30 23:59:59.999999999',\n",
            "               '2020-10-31 23:59:59.999999999',\n",
            "               '2020-11-30 23:59:59.999999999',\n",
            "               '2020-12-31 23:59:59.999999999'],\n",
            "              dtype='datetime64[ns]', freq=None)\n",
            "DatetimeIndex(['2020-01-01', '2020-02-01', '2020-03-01', '2020-04-01',\n",
            "               '2020-05-01', '2020-06-01', '2020-07-01', '2020-08-01',\n",
            "               '2020-09-01', '2020-10-01', '2020-11-01', '2020-12-01'],\n",
            "              dtype='datetime64[ns]', freq='MS') DatetimeIndex(['2020-01-31 23:59:59.999999999',\n",
            "               '2020-02-29 23:59:59.999999999',\n",
            "               '2020-03-31 23:59:59.999999999',\n",
            "               '2020-04-30 23:59:59.999999999',\n",
            "               '2020-05-31 23:59:59.999999999',\n",
            "               '2020-06-30 23:59:59.999999999',\n",
            "               '2020-07-31 23:59:59.999999999',\n",
            "               '2020-08-31 23:59:59.999999999',\n",
            "               '2020-09-30 23:59:59.999999999',\n",
            "               '2020-10-31 23:59:59.999999999',\n",
            "               '2020-11-30 23:59:59.999999999',\n",
            "               '2020-12-31 23:59:59.999999999'],\n",
            "              dtype='datetime64[ns]', freq=None)\n",
            "DatetimeIndex(['2020-01-01', '2020-02-01', '2020-03-01', '2020-04-01',\n",
            "               '2020-05-01', '2020-06-01', '2020-07-01', '2020-08-01',\n",
            "               '2020-09-01', '2020-10-01', '2020-11-01', '2020-12-01'],\n",
            "              dtype='datetime64[ns]', freq='MS') DatetimeIndex(['2020-01-31 23:59:59.999999999',\n",
            "               '2020-02-29 23:59:59.999999999',\n",
            "               '2020-03-31 23:59:59.999999999',\n",
            "               '2020-04-30 23:59:59.999999999',\n",
            "               '2020-05-31 23:59:59.999999999',\n",
            "               '2020-06-30 23:59:59.999999999',\n",
            "               '2020-07-31 23:59:59.999999999',\n",
            "               '2020-08-31 23:59:59.999999999',\n",
            "               '2020-09-30 23:59:59.999999999',\n",
            "               '2020-10-31 23:59:59.999999999',\n",
            "               '2020-11-30 23:59:59.999999999',\n",
            "               '2020-12-31 23:59:59.999999999'],\n",
            "              dtype='datetime64[ns]', freq=None)\n",
            "DatetimeIndex(['2020-01-01', '2020-02-01', '2020-03-01', '2020-04-01',\n",
            "               '2020-05-01', '2020-06-01', '2020-07-01', '2020-08-01',\n",
            "               '2020-09-01', '2020-10-01', '2020-11-01', '2020-12-01'],\n",
            "              dtype='datetime64[ns]', freq='MS') DatetimeIndex(['2020-01-31 23:59:59.999999999',\n",
            "               '2020-02-29 23:59:59.999999999',\n",
            "               '2020-03-31 23:59:59.999999999',\n",
            "               '2020-04-30 23:59:59.999999999',\n",
            "               '2020-05-31 23:59:59.999999999',\n",
            "               '2020-06-30 23:59:59.999999999',\n",
            "               '2020-07-31 23:59:59.999999999',\n",
            "               '2020-08-31 23:59:59.999999999',\n",
            "               '2020-09-30 23:59:59.999999999',\n",
            "               '2020-10-31 23:59:59.999999999',\n",
            "               '2020-11-30 23:59:59.999999999',\n",
            "               '2020-12-31 23:59:59.999999999'],\n",
            "              dtype='datetime64[ns]', freq=None)\n",
            "DatetimeIndex(['2020-01-01', '2020-02-01', '2020-03-01', '2020-04-01',\n",
            "               '2020-05-01', '2020-06-01', '2020-07-01', '2020-08-01',\n",
            "               '2020-09-01', '2020-10-01', '2020-11-01', '2020-12-01'],\n",
            "              dtype='datetime64[ns]', freq='MS') DatetimeIndex(['2020-01-31 23:59:59.999999999',\n",
            "               '2020-02-29 23:59:59.999999999',\n",
            "               '2020-03-31 23:59:59.999999999',\n",
            "               '2020-04-30 23:59:59.999999999',\n",
            "               '2020-05-31 23:59:59.999999999',\n",
            "               '2020-06-30 23:59:59.999999999',\n",
            "               '2020-07-31 23:59:59.999999999',\n",
            "               '2020-08-31 23:59:59.999999999',\n",
            "               '2020-09-30 23:59:59.999999999',\n",
            "               '2020-10-31 23:59:59.999999999',\n",
            "               '2020-11-30 23:59:59.999999999',\n",
            "               '2020-12-31 23:59:59.999999999'],\n",
            "              dtype='datetime64[ns]', freq=None)\n",
            "DatetimeIndex(['2020-01-01', '2020-02-01', '2020-03-01', '2020-04-01',\n",
            "               '2020-05-01', '2020-06-01', '2020-07-01', '2020-08-01',\n",
            "               '2020-09-01', '2020-10-01', '2020-11-01', '2020-12-01'],\n",
            "              dtype='datetime64[ns]', freq='MS') DatetimeIndex(['2020-01-31 23:59:59.999999999',\n",
            "               '2020-02-29 23:59:59.999999999',\n",
            "               '2020-03-31 23:59:59.999999999',\n",
            "               '2020-04-30 23:59:59.999999999',\n",
            "               '2020-05-31 23:59:59.999999999',\n",
            "               '2020-06-30 23:59:59.999999999',\n",
            "               '2020-07-31 23:59:59.999999999',\n",
            "               '2020-08-31 23:59:59.999999999',\n",
            "               '2020-09-30 23:59:59.999999999',\n",
            "               '2020-10-31 23:59:59.999999999',\n",
            "               '2020-11-30 23:59:59.999999999',\n",
            "               '2020-12-31 23:59:59.999999999'],\n",
            "              dtype='datetime64[ns]', freq=None)\n",
            "DatetimeIndex(['2020-01-01', '2020-02-01', '2020-03-01', '2020-04-01',\n",
            "               '2020-05-01', '2020-06-01', '2020-07-01', '2020-08-01',\n",
            "               '2020-09-01', '2020-10-01', '2020-11-01', '2020-12-01'],\n",
            "              dtype='datetime64[ns]', freq='MS') DatetimeIndex(['2020-01-31 23:59:59.999999999',\n",
            "               '2020-02-29 23:59:59.999999999',\n",
            "               '2020-03-31 23:59:59.999999999',\n",
            "               '2020-04-30 23:59:59.999999999',\n",
            "               '2020-05-31 23:59:59.999999999',\n",
            "               '2020-06-30 23:59:59.999999999',\n",
            "               '2020-07-31 23:59:59.999999999',\n",
            "               '2020-08-31 23:59:59.999999999',\n",
            "               '2020-09-30 23:59:59.999999999',\n",
            "               '2020-10-31 23:59:59.999999999',\n",
            "               '2020-11-30 23:59:59.999999999',\n",
            "               '2020-12-31 23:59:59.999999999'],\n",
            "              dtype='datetime64[ns]', freq=None)\n",
            "DatetimeIndex(['2020-01-01', '2020-02-01', '2020-03-01', '2020-04-01',\n",
            "               '2020-05-01', '2020-06-01', '2020-07-01', '2020-08-01',\n",
            "               '2020-09-01', '2020-10-01', '2020-11-01', '2020-12-01'],\n",
            "              dtype='datetime64[ns]', freq='MS') DatetimeIndex(['2020-01-31 23:59:59.999999999',\n",
            "               '2020-02-29 23:59:59.999999999',\n",
            "               '2020-03-31 23:59:59.999999999',\n",
            "               '2020-04-30 23:59:59.999999999',\n",
            "               '2020-05-31 23:59:59.999999999',\n",
            "               '2020-06-30 23:59:59.999999999',\n",
            "               '2020-07-31 23:59:59.999999999',\n",
            "               '2020-08-31 23:59:59.999999999',\n",
            "               '2020-09-30 23:59:59.999999999',\n",
            "               '2020-10-31 23:59:59.999999999',\n",
            "               '2020-11-30 23:59:59.999999999',\n",
            "               '2020-12-31 23:59:59.999999999'],\n",
            "              dtype='datetime64[ns]', freq=None)\n",
            "DatetimeIndex(['2020-01-01', '2020-02-01', '2020-03-01', '2020-04-01',\n",
            "               '2020-05-01', '2020-06-01', '2020-07-01', '2020-08-01',\n",
            "               '2020-09-01', '2020-10-01', '2020-11-01', '2020-12-01'],\n",
            "              dtype='datetime64[ns]', freq='MS') DatetimeIndex(['2020-01-31 23:59:59.999999999',\n",
            "               '2020-02-29 23:59:59.999999999',\n",
            "               '2020-03-31 23:59:59.999999999',\n",
            "               '2020-04-30 23:59:59.999999999',\n",
            "               '2020-05-31 23:59:59.999999999',\n",
            "               '2020-06-30 23:59:59.999999999',\n",
            "               '2020-07-31 23:59:59.999999999',\n",
            "               '2020-08-31 23:59:59.999999999',\n",
            "               '2020-09-30 23:59:59.999999999',\n",
            "               '2020-10-31 23:59:59.999999999',\n",
            "               '2020-11-30 23:59:59.999999999',\n",
            "               '2020-12-31 23:59:59.999999999'],\n",
            "              dtype='datetime64[ns]', freq=None)\n",
            "DatetimeIndex(['2020-01-01', '2020-02-01', '2020-03-01', '2020-04-01',\n",
            "               '2020-05-01', '2020-06-01', '2020-07-01', '2020-08-01',\n",
            "               '2020-09-01', '2020-10-01', '2020-11-01', '2020-12-01'],\n",
            "              dtype='datetime64[ns]', freq='MS') DatetimeIndex(['2020-01-31 23:59:59.999999999',\n",
            "               '2020-02-29 23:59:59.999999999',\n",
            "               '2020-03-31 23:59:59.999999999',\n",
            "               '2020-04-30 23:59:59.999999999',\n",
            "               '2020-05-31 23:59:59.999999999',\n",
            "               '2020-06-30 23:59:59.999999999',\n",
            "               '2020-07-31 23:59:59.999999999',\n",
            "               '2020-08-31 23:59:59.999999999',\n",
            "               '2020-09-30 23:59:59.999999999',\n",
            "               '2020-10-31 23:59:59.999999999',\n",
            "               '2020-11-30 23:59:59.999999999',\n",
            "               '2020-12-31 23:59:59.999999999'],\n",
            "              dtype='datetime64[ns]', freq=None)\n"
          ]
        }
      ]
    },
    {
      "cell_type": "code",
      "source": [
        "# 29. Write a Pandas program create a series with a PeriodIndex which represents\n",
        "# all the calendar month periods in 2029 and 2031. Also print the values for all\n",
        "# periods in 2030.\n",
        "# Note: PeriodIndex is an immutable ndarray holding ordinal values indicating\n",
        "# regular periods in time such as particular years, quarters, months, etc.\n",
        "\n",
        "p = pd.Series(np.random.randn(36),\n",
        "              pd.period_range('1/1/2029',\n",
        "                              '12/31/2031',\n",
        "                              freq = 'M'))\n",
        "print(p)\n",
        "print(p['2030'])"
      ],
      "metadata": {
        "id": "49o9qMYDz8T4",
        "colab": {
          "base_uri": "https://localhost:8080/"
        },
        "outputId": "2efcabcd-02db-45d8-9195-7810a542fdc0"
      },
      "execution_count": 31,
      "outputs": [
        {
          "output_type": "stream",
          "name": "stdout",
          "text": [
            "2029-01    1.277893\n",
            "2029-02   -1.217302\n",
            "2029-03   -0.578709\n",
            "2029-04   -0.708400\n",
            "2029-05    1.079434\n",
            "2029-06    0.356785\n",
            "2029-07   -0.597403\n",
            "2029-08    0.215678\n",
            "2029-09   -2.382309\n",
            "2029-10    0.188465\n",
            "2029-11   -1.975524\n",
            "2029-12   -0.934552\n",
            "2030-01   -0.993349\n",
            "2030-02    1.693739\n",
            "2030-03    0.720506\n",
            "2030-04   -0.377711\n",
            "2030-05   -0.948796\n",
            "2030-06   -1.368228\n",
            "2030-07   -1.003289\n",
            "2030-08   -0.680841\n",
            "2030-09   -1.112528\n",
            "2030-10    0.367282\n",
            "2030-11    0.160401\n",
            "2030-12    0.418778\n",
            "2031-01    0.614442\n",
            "2031-02   -0.066286\n",
            "2031-03    0.012299\n",
            "2031-04    0.622886\n",
            "2031-05   -0.909121\n",
            "2031-06    1.503393\n",
            "2031-07   -0.081123\n",
            "2031-08    1.663226\n",
            "2031-09    1.599986\n",
            "2031-10    1.931104\n",
            "2031-11    1.145052\n",
            "2031-12    1.120200\n",
            "Freq: M, dtype: float64\n",
            "2030-01   -0.993349\n",
            "2030-02    1.693739\n",
            "2030-03    0.720506\n",
            "2030-04   -0.377711\n",
            "2030-05   -0.948796\n",
            "2030-06   -1.368228\n",
            "2030-07   -1.003289\n",
            "2030-08   -0.680841\n",
            "2030-09   -1.112528\n",
            "2030-10    0.367282\n",
            "2030-11    0.160401\n",
            "2030-12    0.418778\n",
            "Freq: M, dtype: float64\n"
          ]
        }
      ]
    },
    {
      "cell_type": "code",
      "source": [
        "# 30. Write a Pandas program to generate holidays between two dates using the\n",
        "# US federal holiday calendar.\n",
        "\n",
        "from pandas.tseries.holiday import USFederalHolidayCalendar\n",
        "sd = datetime(2020,1,1)\n",
        "ed = datetime(2020,12,31)\n",
        "cal = USFederalHolidayCalendar()\n",
        "\n",
        "for i in cal.holidays(start = sd, end = ed):\n",
        "  print(i)\n"
      ],
      "metadata": {
        "id": "MK4p7gd4z8Rg",
        "colab": {
          "base_uri": "https://localhost:8080/"
        },
        "outputId": "e73aea1e-9988-46db-99dc-6f3d11e9cb72"
      },
      "execution_count": 32,
      "outputs": [
        {
          "output_type": "stream",
          "name": "stdout",
          "text": [
            "2020-01-01 00:00:00\n",
            "2020-01-20 00:00:00\n",
            "2020-02-17 00:00:00\n",
            "2020-05-25 00:00:00\n",
            "2020-07-03 00:00:00\n",
            "2020-09-07 00:00:00\n",
            "2020-10-12 00:00:00\n",
            "2020-11-11 00:00:00\n",
            "2020-11-26 00:00:00\n",
            "2020-12-25 00:00:00\n"
          ]
        }
      ]
    },
    {
      "cell_type": "code",
      "source": [
        "# 31. Write a Pandas program to create a monthly time period and display the list\n",
        "# of names in the current local scope.\n",
        "\n",
        "a = pd.Period('2020-11','m')\n",
        "print(a)\n",
        "print(dir(a))"
      ],
      "metadata": {
        "id": "d3AEmYF_z8PW",
        "colab": {
          "base_uri": "https://localhost:8080/"
        },
        "outputId": "4960bdd1-e5f2-425e-a6fa-ae3ea94ff146"
      },
      "execution_count": 34,
      "outputs": [
        {
          "output_type": "stream",
          "name": "stdout",
          "text": [
            "2020-11\n",
            "['__add__', '__array_priority__', '__class__', '__delattr__', '__dict__', '__dir__', '__doc__', '__eq__', '__format__', '__ge__', '__getattribute__', '__gt__', '__hash__', '__init__', '__init_subclass__', '__le__', '__lt__', '__module__', '__ne__', '__new__', '__radd__', '__reduce__', '__reduce_cython__', '__reduce_ex__', '__repr__', '__rsub__', '__setattr__', '__setstate__', '__setstate_cython__', '__sizeof__', '__str__', '__sub__', '__subclasshook__', '__weakref__', '_add_offset', '_add_timedeltalike_scalar', '_dtype', '_from_ordinal', '_maybe_convert_freq', '_require_matching_freq', 'asfreq', 'day', 'day_of_week', 'day_of_year', 'dayofweek', 'dayofyear', 'days_in_month', 'daysinmonth', 'end_time', 'freq', 'freqstr', 'hour', 'is_leap_year', 'minute', 'month', 'now', 'ordinal', 'quarter', 'qyear', 'second', 'start_time', 'strftime', 'to_timestamp', 'week', 'weekday', 'weekofyear', 'year']\n"
          ]
        },
        {
          "output_type": "stream",
          "name": "stderr",
          "text": [
            "<ipython-input-34-715527a75fae>:4: FutureWarning: 'm' is deprecated and will be removed in a future version, please use 'M' instead.\n",
            "  a = pd.Period('2020-11','m')\n"
          ]
        }
      ]
    },
    {
      "cell_type": "code",
      "source": [
        "# 32. Write a Pandas program to create a yearly time period from a specified year\n",
        "# and display the properties of this period.\n",
        "\n",
        "a = pd.Period('2020','A-DEC')\n",
        "print(a)\n",
        "print(dir(a))"
      ],
      "metadata": {
        "id": "Axdqi8K2z8NA",
        "colab": {
          "base_uri": "https://localhost:8080/"
        },
        "outputId": "fbea7f83-473b-4fd1-e3c4-941fa552abf4"
      },
      "execution_count": 35,
      "outputs": [
        {
          "output_type": "stream",
          "name": "stdout",
          "text": [
            "2020\n",
            "['__add__', '__array_priority__', '__class__', '__delattr__', '__dict__', '__dir__', '__doc__', '__eq__', '__format__', '__ge__', '__getattribute__', '__gt__', '__hash__', '__init__', '__init_subclass__', '__le__', '__lt__', '__module__', '__ne__', '__new__', '__radd__', '__reduce__', '__reduce_cython__', '__reduce_ex__', '__repr__', '__rsub__', '__setattr__', '__setstate__', '__setstate_cython__', '__sizeof__', '__str__', '__sub__', '__subclasshook__', '__weakref__', '_add_offset', '_add_timedeltalike_scalar', '_dtype', '_from_ordinal', '_maybe_convert_freq', '_require_matching_freq', 'asfreq', 'day', 'day_of_week', 'day_of_year', 'dayofweek', 'dayofyear', 'days_in_month', 'daysinmonth', 'end_time', 'freq', 'freqstr', 'hour', 'is_leap_year', 'minute', 'month', 'now', 'ordinal', 'quarter', 'qyear', 'second', 'start_time', 'strftime', 'to_timestamp', 'week', 'weekday', 'weekofyear', 'year']\n"
          ]
        },
        {
          "output_type": "stream",
          "name": "stderr",
          "text": [
            "<ipython-input-35-eccee02550ad>:4: FutureWarning: 'A-DEC' is deprecated and will be removed in a future version, please use 'Y-DEC' instead.\n",
            "  a = pd.Period('2020','A-DEC')\n"
          ]
        }
      ]
    },
    {
      "cell_type": "code",
      "source": [],
      "metadata": {
        "id": "x7E0HCb8z8Kg"
      },
      "execution_count": 32,
      "outputs": []
    },
    {
      "cell_type": "code",
      "source": [],
      "metadata": {
        "id": "fH22mLYwz8IA"
      },
      "execution_count": 32,
      "outputs": []
    }
  ]
}