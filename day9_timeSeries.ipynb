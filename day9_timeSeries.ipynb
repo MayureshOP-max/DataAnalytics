{
  "nbformat": 4,
  "nbformat_minor": 0,
  "metadata": {
    "colab": {
      "provenance": [],
      "authorship_tag": "ABX9TyNmGJAOZs1+cOfs7BqCSzDv",
      "include_colab_link": true
    },
    "kernelspec": {
      "name": "python3",
      "display_name": "Python 3"
    },
    "language_info": {
      "name": "python"
    }
  },
  "cells": [
    {
      "cell_type": "markdown",
      "metadata": {
        "id": "view-in-github",
        "colab_type": "text"
      },
      "source": [
        "<a href=\"https://colab.research.google.com/github/MayureshOP-max/DataAnalytics/blob/main/day9_timeSeries.ipynb\" target=\"_parent\"><img src=\"https://colab.research.google.com/assets/colab-badge.svg\" alt=\"Open In Colab\"/></a>"
      ]
    },
    {
      "cell_type": "code",
      "execution_count": 1,
      "metadata": {
        "id": "r5ipaj7bjEaX"
      },
      "outputs": [],
      "source": [
        "import pandas as pd\n",
        "import numpy as np\n",
        "import matplotlib.pyplot as plt\n",
        "import seaborn as sns"
      ]
    },
    {
      "cell_type": "code",
      "source": [
        "#Find available dataset names in seaborn\n",
        "print(sns.get_dataset_names())"
      ],
      "metadata": {
        "colab": {
          "base_uri": "https://localhost:8080/"
        },
        "id": "md4Uq2HFjKBV",
        "outputId": "4c88258f-5d4b-46b9-ea26-a9bef0b67328"
      },
      "execution_count": 2,
      "outputs": [
        {
          "output_type": "stream",
          "name": "stdout",
          "text": [
            "['anagrams', 'anscombe', 'attention', 'brain_networks', 'car_crashes', 'diamonds', 'dots', 'dowjones', 'exercise', 'flights', 'fmri', 'geyser', 'glue', 'healthexp', 'iris', 'mpg', 'penguins', 'planets', 'seaice', 'taxis', 'tips', 'titanic']\n"
          ]
        }
      ]
    },
    {
      "cell_type": "code",
      "source": [
        "df = sns.load_dataset('flights')\n",
        "print(df.head())"
      ],
      "metadata": {
        "colab": {
          "base_uri": "https://localhost:8080/"
        },
        "id": "AyCwW0LvjJ_T",
        "outputId": "e9d93b9f-75f2-42a4-9bdf-ca1a5fc4b5b6"
      },
      "execution_count": 3,
      "outputs": [
        {
          "output_type": "stream",
          "name": "stdout",
          "text": [
            "   year month  passengers\n",
            "0  1949   Jan         112\n",
            "1  1949   Feb         118\n",
            "2  1949   Mar         132\n",
            "3  1949   Apr         129\n",
            "4  1949   May         121\n"
          ]
        }
      ]
    },
    {
      "cell_type": "code",
      "source": [
        "#Convert the date to a yyyy-mm-d format in a new column named yearMonth\n",
        "df['yearMonth'] = \"01-\" + df['month'].astype(str) + \"-\" + df['year'].astype(str)\n",
        "print(df.info())"
      ],
      "metadata": {
        "colab": {
          "base_uri": "https://localhost:8080/"
        },
        "id": "Fg672f9yjJ87",
        "outputId": "baa29e76-1697-4d5c-ddfd-c14c3923bb56"
      },
      "execution_count": 5,
      "outputs": [
        {
          "output_type": "stream",
          "name": "stdout",
          "text": [
            "<class 'pandas.core.frame.DataFrame'>\n",
            "RangeIndex: 144 entries, 0 to 143\n",
            "Data columns (total 4 columns):\n",
            " #   Column      Non-Null Count  Dtype   \n",
            "---  ------      --------------  -----   \n",
            " 0   year        144 non-null    int64   \n",
            " 1   month       144 non-null    category\n",
            " 2   passengers  144 non-null    int64   \n",
            " 3   yearMonth   144 non-null    object  \n",
            "dtypes: category(1), int64(2), object(1)\n",
            "memory usage: 4.0+ KB\n",
            "None\n"
          ]
        }
      ]
    },
    {
      "cell_type": "code",
      "source": [
        "#yearMonth is a type of object - we may have problems later, so convert it into datetime\n",
        "df['yearMonth'] = pd.to_datetime(df['yearMonth'])\n",
        "print(df.info())\n",
        "print(df.head())"
      ],
      "metadata": {
        "colab": {
          "base_uri": "https://localhost:8080/"
        },
        "id": "TzcjOCnljJ6s",
        "outputId": "19d1948f-a0fd-43ee-83f4-e8d6459a1fd7"
      },
      "execution_count": 6,
      "outputs": [
        {
          "output_type": "stream",
          "name": "stdout",
          "text": [
            "<class 'pandas.core.frame.DataFrame'>\n",
            "RangeIndex: 144 entries, 0 to 143\n",
            "Data columns (total 4 columns):\n",
            " #   Column      Non-Null Count  Dtype         \n",
            "---  ------      --------------  -----         \n",
            " 0   year        144 non-null    int64         \n",
            " 1   month       144 non-null    category      \n",
            " 2   passengers  144 non-null    int64         \n",
            " 3   yearMonth   144 non-null    datetime64[ns]\n",
            "dtypes: category(1), datetime64[ns](1), int64(2)\n",
            "memory usage: 4.0 KB\n",
            "None\n",
            "   year month  passengers  yearMonth\n",
            "0  1949   Jan         112 1949-01-01\n",
            "1  1949   Feb         118 1949-02-01\n",
            "2  1949   Mar         132 1949-03-01\n",
            "3  1949   Apr         129 1949-04-01\n",
            "4  1949   May         121 1949-05-01\n"
          ]
        }
      ]
    },
    {
      "cell_type": "code",
      "source": [
        "# Make yearMonth column as the dateframe index\n",
        "df = df.set_index('yearMonth')\n",
        "print(df.head())"
      ],
      "metadata": {
        "colab": {
          "base_uri": "https://localhost:8080/"
        },
        "id": "j5dr7y5LkEBP",
        "outputId": "8fd57288-e3e1-4bad-a7d2-fc114a738672"
      },
      "execution_count": 7,
      "outputs": [
        {
          "output_type": "stream",
          "name": "stdout",
          "text": [
            "            year month  passengers\n",
            "yearMonth                         \n",
            "1949-01-01  1949   Jan         112\n",
            "1949-02-01  1949   Feb         118\n",
            "1949-03-01  1949   Mar         132\n",
            "1949-04-01  1949   Apr         129\n",
            "1949-05-01  1949   May         121\n"
          ]
        }
      ]
    },
    {
      "cell_type": "code",
      "source": [],
      "metadata": {
        "id": "7KxkV5S9jJ4b"
      },
      "execution_count": null,
      "outputs": []
    },
    {
      "cell_type": "code",
      "source": [],
      "metadata": {
        "id": "pF2Nleu1jJ2O"
      },
      "execution_count": null,
      "outputs": []
    },
    {
      "cell_type": "code",
      "source": [],
      "metadata": {
        "id": "TXVrFPmcjJz7"
      },
      "execution_count": null,
      "outputs": []
    },
    {
      "cell_type": "code",
      "source": [],
      "metadata": {
        "id": "BvOS0Pt8jJxl"
      },
      "execution_count": null,
      "outputs": []
    },
    {
      "cell_type": "code",
      "source": [],
      "metadata": {
        "id": "8kyngbHVjJvq"
      },
      "execution_count": null,
      "outputs": []
    },
    {
      "cell_type": "code",
      "source": [],
      "metadata": {
        "id": "UGAWRVZHjJto"
      },
      "execution_count": null,
      "outputs": []
    },
    {
      "cell_type": "code",
      "source": [],
      "metadata": {
        "id": "oixmdEqMjJrM"
      },
      "execution_count": null,
      "outputs": []
    },
    {
      "cell_type": "code",
      "source": [],
      "metadata": {
        "id": "DGX1abxGjJo9"
      },
      "execution_count": null,
      "outputs": []
    }
  ]
}