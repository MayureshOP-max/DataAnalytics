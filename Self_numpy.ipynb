{
  "nbformat": 4,
  "nbformat_minor": 0,
  "metadata": {
    "colab": {
      "provenance": [],
      "authorship_tag": "ABX9TyOG6KcsPLefyGh0s7fElwgO",
      "include_colab_link": true
    },
    "kernelspec": {
      "name": "python3",
      "display_name": "Python 3"
    },
    "language_info": {
      "name": "python"
    }
  },
  "cells": [
    {
      "cell_type": "markdown",
      "metadata": {
        "id": "view-in-github",
        "colab_type": "text"
      },
      "source": [
        "<a href=\"https://colab.research.google.com/github/MayureshOP-max/DataAnalytics/blob/main/Self_numpy.ipynb\" target=\"_parent\"><img src=\"https://colab.research.google.com/assets/colab-badge.svg\" alt=\"Open In Colab\"/></a>"
      ]
    },
    {
      "cell_type": "markdown",
      "source": [
        "*NumPy is the fundamental library for scientific computing with Python. NumPy is centered around a powerful N-dimensional array object, and it also contains useful linear algebra, Fourier transform, and random number functions.*"
      ],
      "metadata": {
        "id": "1_mNi0WQ8i1B"
      }
    },
    {
      "cell_type": "code",
      "execution_count": null,
      "metadata": {
        "id": "hOadatXA7wJp"
      },
      "outputs": [],
      "source": [
        "#IMPORTING THE LIBRARY\n",
        "import numpy as np"
      ]
    },
    {
      "cell_type": "code",
      "source": [
        "#The zeros function creates an array containing any number of zeros:\n",
        "np.zeros(5)   #5 is size of array to be created: 5 times zeros"
      ],
      "metadata": {
        "colab": {
          "base_uri": "https://localhost:8080/"
        },
        "id": "vvFV_GEJ8t6P",
        "outputId": "93079a65-1324-4284-9d16-3768016fcc54"
      },
      "execution_count": null,
      "outputs": [
        {
          "output_type": "execute_result",
          "data": {
            "text/plain": [
              "array([0., 0., 0., 0., 0.])"
            ]
          },
          "metadata": {},
          "execution_count": 2
        }
      ]
    },
    {
      "cell_type": "code",
      "source": [
        "#It's just as easy to create a 2D array (ie. a matrix) by providing a tuple with the\n",
        "#desired number of rows and columns. For example, here's a 3x4 matrix:\n",
        "np.zeros((3,4))   #3 rows and 4 columns"
      ],
      "metadata": {
        "colab": {
          "base_uri": "https://localhost:8080/"
        },
        "id": "4gp1hALu8t3i",
        "outputId": "19b1b65e-140a-486a-a518-55e743b84036"
      },
      "execution_count": null,
      "outputs": [
        {
          "output_type": "execute_result",
          "data": {
            "text/plain": [
              "array([[0., 0., 0., 0.],\n",
              "       [0., 0., 0., 0.],\n",
              "       [0., 0., 0., 0.]])"
            ]
          },
          "metadata": {},
          "execution_count": 4
        }
      ]
    },
    {
      "cell_type": "markdown",
      "metadata": {
        "id": "bl2ats5WAxxm"
      },
      "source": [
        "## Some vocabulary\n",
        "\n",
        "* In NumPy, each dimension is called an **axis**.\n",
        "* The number of axes is called the **rank**.\n",
        "    * For example, the above 3x4 matrix is an array of rank 2 (it is 2-dimensional).\n",
        "    * The first axis has length 3, the second has length 4.\n",
        "* An array's list of axis lengths is called the **shape** of the array.\n",
        "    * For example, the above matrix's shape is `(3, 4)`.\n",
        "    * The rank is equal to the shape's length.\n",
        "* The **size** of an array is the total number of elements, which is the product of all axis lengths (eg. 3*4=12)"
      ]
    },
    {
      "cell_type": "code",
      "source": [
        "#more functions\n",
        "a = np.zeros((3,4)) #storing a matrix of 3x4 zeros into variable named \"a\"\n",
        "a   #same as : print(a)   ,   however if used multiple times only last used is compiled"
      ],
      "metadata": {
        "colab": {
          "base_uri": "https://localhost:8080/"
        },
        "id": "tTw80f6w8ty-",
        "outputId": "88589d35-8252-43f0-d0f0-f60a6578b85a"
      },
      "execution_count": null,
      "outputs": [
        {
          "output_type": "execute_result",
          "data": {
            "text/plain": [
              "array([[0., 0., 0., 0.],\n",
              "       [0., 0., 0., 0.],\n",
              "       [0., 0., 0., 0.]])"
            ]
          },
          "metadata": {},
          "execution_count": 5
        }
      ]
    },
    {
      "cell_type": "code",
      "source": [
        "a.shape  #gives shape of the matrix: colums by rows"
      ],
      "metadata": {
        "colab": {
          "base_uri": "https://localhost:8080/"
        },
        "id": "tpR1pFiA8twX",
        "outputId": "3ecad493-e9ac-4a90-ff30-1ac150bc5c08"
      },
      "execution_count": null,
      "outputs": [
        {
          "output_type": "execute_result",
          "data": {
            "text/plain": [
              "(3, 4)"
            ]
          },
          "metadata": {},
          "execution_count": 6
        }
      ]
    },
    {
      "cell_type": "code",
      "source": [
        "a.ndim   #same as len(a.shape)"
      ],
      "metadata": {
        "colab": {
          "base_uri": "https://localhost:8080/"
        },
        "id": "cI1Oy99_8tt2",
        "outputId": "ae26b0ac-b0e9-4e7a-b867-a8e39a897603"
      },
      "execution_count": null,
      "outputs": [
        {
          "output_type": "execute_result",
          "data": {
            "text/plain": [
              "2"
            ]
          },
          "metadata": {},
          "execution_count": 7
        }
      ]
    },
    {
      "cell_type": "code",
      "source": [
        "a.size  #size of array/ matrix"
      ],
      "metadata": {
        "colab": {
          "base_uri": "https://localhost:8080/"
        },
        "id": "bx2HEihg8trH",
        "outputId": "6de43934-b70d-4530-d3e8-1604e5db73b0"
      },
      "execution_count": null,
      "outputs": [
        {
          "output_type": "execute_result",
          "data": {
            "text/plain": [
              "12"
            ]
          },
          "metadata": {},
          "execution_count": 8
        }
      ]
    },
    {
      "cell_type": "markdown",
      "metadata": {
        "id": "B9vMGFFtAxxn"
      },
      "source": [
        "## N-dimensional arrays\n",
        "You can also create an N-dimensional array of arbitrary rank. For example, here's a 3D array (rank=3), with shape `(2,3,4)`:"
      ]
    },
    {
      "cell_type": "code",
      "source": [
        "np.zeros((2,3,4))"
      ],
      "metadata": {
        "colab": {
          "base_uri": "https://localhost:8080/"
        },
        "id": "zndqH2ni8tom",
        "outputId": "5b1c4531-56ea-4639-a7c6-ebc40c1fdd7d"
      },
      "execution_count": null,
      "outputs": [
        {
          "output_type": "execute_result",
          "data": {
            "text/plain": [
              "array([[[0., 0., 0., 0.],\n",
              "        [0., 0., 0., 0.],\n",
              "        [0., 0., 0., 0.]],\n",
              "\n",
              "       [[0., 0., 0., 0.],\n",
              "        [0., 0., 0., 0.],\n",
              "        [0., 0., 0., 0.]]])"
            ]
          },
          "metadata": {},
          "execution_count": 9
        }
      ]
    },
    {
      "cell_type": "markdown",
      "metadata": {
        "id": "n433vtGeAxxn"
      },
      "source": [
        "## Array type\n",
        "NumPy arrays have the type `ndarray`s:"
      ]
    },
    {
      "cell_type": "code",
      "source": [
        "type(np.zeros((3,4)))"
      ],
      "metadata": {
        "colab": {
          "base_uri": "https://localhost:8080/"
        },
        "id": "oy_WtwXV8tl_",
        "outputId": "168e9a73-41de-4f28-8163-a312bd41430b"
      },
      "execution_count": null,
      "outputs": [
        {
          "output_type": "execute_result",
          "data": {
            "text/plain": [
              "numpy.ndarray"
            ]
          },
          "metadata": {},
          "execution_count": 10
        }
      ]
    },
    {
      "cell_type": "markdown",
      "metadata": {
        "id": "CDaiE_jQAxxo"
      },
      "source": [
        "## `np.ones`\n",
        "Many other NumPy functions create `ndarrays`.\n",
        "\n",
        "Here's a 3x4 matrix full of ones:"
      ]
    },
    {
      "cell_type": "code",
      "source": [
        "#Many other NumPy functions create ndarrays.\n",
        "np.ones((3,4))"
      ],
      "metadata": {
        "colab": {
          "base_uri": "https://localhost:8080/"
        },
        "id": "858Hbjeo8tjl",
        "outputId": "6e78195e-2e11-4688-a240-a6dfde9df479"
      },
      "execution_count": null,
      "outputs": [
        {
          "output_type": "execute_result",
          "data": {
            "text/plain": [
              "array([[1., 1., 1., 1.],\n",
              "       [1., 1., 1., 1.],\n",
              "       [1., 1., 1., 1.]])"
            ]
          },
          "metadata": {},
          "execution_count": 11
        }
      ]
    },
    {
      "cell_type": "markdown",
      "metadata": {
        "id": "JbHLCwetAxxo"
      },
      "source": [
        "## `np.full`\n",
        "Creates an array of the given shape initialized with the given value. Here's a 3x4 matrix full of `π`."
      ]
    },
    {
      "cell_type": "code",
      "source": [
        "np.full((3,4),1)  #,1 is value you want to be in the matrix\n",
        "np.full((3,4),np.pi)    #np.pi fills matrix by value of pi"
      ],
      "metadata": {
        "colab": {
          "base_uri": "https://localhost:8080/"
        },
        "id": "WHaceRrS8thG",
        "outputId": "4c826555-3ebd-439f-ed7c-4c6e9bc92130"
      },
      "execution_count": null,
      "outputs": [
        {
          "output_type": "execute_result",
          "data": {
            "text/plain": [
              "array([[3.14159265, 3.14159265, 3.14159265, 3.14159265],\n",
              "       [3.14159265, 3.14159265, 3.14159265, 3.14159265],\n",
              "       [3.14159265, 3.14159265, 3.14159265, 3.14159265]])"
            ]
          },
          "metadata": {},
          "execution_count": 18
        }
      ]
    },
    {
      "cell_type": "markdown",
      "metadata": {
        "id": "R39apNEZAxxp"
      },
      "source": [
        "## `np.empty`\n",
        "An uninitialized 2x3 array (its content is not predictable, as it is whatever is in memory at that point):"
      ]
    },
    {
      "cell_type": "code",
      "source": [
        "np.empty((2,3))"
      ],
      "metadata": {
        "colab": {
          "base_uri": "https://localhost:8080/"
        },
        "id": "8l26-giB8teq",
        "outputId": "dab345db-cf15-4e8d-fa2d-baec03361bd9"
      },
      "execution_count": null,
      "outputs": [
        {
          "output_type": "execute_result",
          "data": {
            "text/plain": [
              "array([[4.87205764e-310, 0.00000000e+000, 4.87089593e-310],\n",
              "       [6.89666518e-310, 1.34394500e+219, 3.28094696e-085]])"
            ]
          },
          "metadata": {},
          "execution_count": 20
        }
      ]
    },
    {
      "cell_type": "markdown",
      "metadata": {
        "id": "imEar-9yAxxp"
      },
      "source": [
        "## np.array\n",
        "Of course you can initialize an `ndarray` using a regular python array. Just call the `array` function:"
      ]
    },
    {
      "cell_type": "code",
      "source": [
        "np.array([[1,2,3,4],[5,6,7,8]])"
      ],
      "metadata": {
        "colab": {
          "base_uri": "https://localhost:8080/"
        },
        "id": "DZpyvJxF8tb3",
        "outputId": "c7a9843f-1895-4ee2-ddbf-27287825be12"
      },
      "execution_count": null,
      "outputs": [
        {
          "output_type": "execute_result",
          "data": {
            "text/plain": [
              "array([[1, 2, 3, 4],\n",
              "       [5, 6, 7, 8]])"
            ]
          },
          "metadata": {},
          "execution_count": 21
        }
      ]
    },
    {
      "cell_type": "markdown",
      "metadata": {
        "id": "ABW2LNPXAxxp"
      },
      "source": [
        "## `np.arange`\n",
        "You can create an `ndarray` using NumPy's `arange` function, which is similar to python's built-in `range` function:"
      ]
    },
    {
      "cell_type": "code",
      "source": [
        "np.arange(1,5)  #creates array of 1 to 4 : 5 is excluded : last value is excluded and always used value+1"
      ],
      "metadata": {
        "colab": {
          "base_uri": "https://localhost:8080/"
        },
        "id": "C7XCo5qE8tVj",
        "outputId": "f8acd0b3-f147-4de7-f686-04ef73b41f2b"
      },
      "execution_count": null,
      "outputs": [
        {
          "output_type": "execute_result",
          "data": {
            "text/plain": [
              "array([1, 2, 3, 4])"
            ]
          },
          "metadata": {},
          "execution_count": 22
        }
      ]
    },
    {
      "cell_type": "code",
      "source": [
        "#works with floats as well\n",
        "np.arange(0.5,5.5)"
      ],
      "metadata": {
        "colab": {
          "base_uri": "https://localhost:8080/"
        },
        "id": "1kONG2YF8tTA",
        "outputId": "de5e14b3-41c2-483b-9313-c6d1ecbee1e5"
      },
      "execution_count": null,
      "outputs": [
        {
          "output_type": "execute_result",
          "data": {
            "text/plain": [
              "array([0.5, 1.5, 2.5, 3.5, 4.5])"
            ]
          },
          "metadata": {},
          "execution_count": 24
        }
      ]
    },
    {
      "cell_type": "code",
      "source": [
        "#you can provide a step parameter\n",
        "np.arange(1,5,0.5)"
      ],
      "metadata": {
        "colab": {
          "base_uri": "https://localhost:8080/"
        },
        "id": "Fy8NLoPyARXg",
        "outputId": "b3409af0-d84b-4c1f-8967-bb62fef9ba7e"
      },
      "execution_count": null,
      "outputs": [
        {
          "output_type": "execute_result",
          "data": {
            "text/plain": [
              "array([1. , 1.5, 2. , 2.5, 3. , 3.5, 4. , 4.5])"
            ]
          },
          "metadata": {},
          "execution_count": 25
        }
      ]
    },
    {
      "cell_type": "code",
      "source": [
        "# However, when dealing with floats, the exact number of elements in the array is not always predictible\n",
        "print(np.arange(0,5/3,1/3))\n",
        "print(np.arange(0,5/3,0.333333333))\n",
        "print(np.arange(0,5/3,0.333333334))"
      ],
      "metadata": {
        "colab": {
          "base_uri": "https://localhost:8080/"
        },
        "id": "qAQ9wpukARSn",
        "outputId": "9d5402a2-ef83-4539-f54d-a37d6ba45227"
      },
      "execution_count": null,
      "outputs": [
        {
          "output_type": "stream",
          "name": "stdout",
          "text": [
            "[0.         0.33333333 0.66666667 1.         1.33333333 1.66666667]\n",
            "[0.         0.33333333 0.66666667 1.         1.33333333 1.66666667]\n",
            "[0.         0.33333333 0.66666667 1.         1.33333334]\n"
          ]
        }
      ]
    },
    {
      "cell_type": "markdown",
      "metadata": {
        "id": "HOPt8-FoAxxq"
      },
      "source": [
        "## `np.linspace`\n",
        "For this reason, it is generally preferable to use the `linspace` function instead of `arange` when working with floats. The `linspace` function returns an array containing a specific number of points evenly distributed between two values (note that the maximum value is *included*, contrary to `arange`):"
      ]
    },
    {
      "cell_type": "code",
      "source": [
        "print(np.linspace(0,5/3,6))"
      ],
      "metadata": {
        "colab": {
          "base_uri": "https://localhost:8080/"
        },
        "id": "oTbmoYliARQX",
        "outputId": "515d58ab-0ad0-48eb-d9e1-a0c792009a27"
      },
      "execution_count": null,
      "outputs": [
        {
          "output_type": "stream",
          "name": "stdout",
          "text": [
            "[0.         0.33333333 0.66666667 1.         1.33333333 1.66666667]\n"
          ]
        }
      ]
    },
    {
      "cell_type": "markdown",
      "metadata": {
        "id": "yX9BN_yXAxxs"
      },
      "source": [
        "# Array data\n",
        "## `dtype`\n",
        "NumPy's `ndarray`s are also efficient in part because all their elements must have the same type (usually numbers).\n",
        "You can check what the data type is by looking at the `dtype` attribute:"
      ]
    },
    {
      "cell_type": "code",
      "source": [
        "c =np.arange(1,5)\n",
        "c.dtype"
      ],
      "metadata": {
        "colab": {
          "base_uri": "https://localhost:8080/"
        },
        "id": "B5ZnWQygARNx",
        "outputId": "4ff8f7a5-592e-423b-952b-22b20c85cbb1"
      },
      "execution_count": null,
      "outputs": [
        {
          "output_type": "execute_result",
          "data": {
            "text/plain": [
              "dtype('int64')"
            ]
          },
          "metadata": {},
          "execution_count": 29
        }
      ]
    },
    {
      "cell_type": "code",
      "source": [
        "c =np.arange(1.0,5.0)\n",
        "c.dtype"
      ],
      "metadata": {
        "colab": {
          "base_uri": "https://localhost:8080/"
        },
        "id": "cpC_UbaiARLh",
        "outputId": "5319dafd-23b2-4124-b8aa-eaabb7204167"
      },
      "execution_count": null,
      "outputs": [
        {
          "output_type": "execute_result",
          "data": {
            "text/plain": [
              "dtype('float64')"
            ]
          },
          "metadata": {},
          "execution_count": 30
        }
      ]
    },
    {
      "cell_type": "code",
      "source": [
        "# Instead of letting NumPy guess what data type to use,\n",
        "#  you can set it explicitly when creating an array by setting the dtype parameter:\n",
        "d = np.arange(1,5, dtype =np.complex64)\n",
        "print(d.dtype , d)"
      ],
      "metadata": {
        "colab": {
          "base_uri": "https://localhost:8080/"
        },
        "id": "Qu2soyyyARJA",
        "outputId": "c9c98cc9-4fc8-47af-c64e-ecf99f67308f"
      },
      "execution_count": null,
      "outputs": [
        {
          "output_type": "stream",
          "name": "stdout",
          "text": [
            "complex64 [1.+0.j 2.+0.j 3.+0.j 4.+0.j]\n"
          ]
        }
      ]
    },
    {
      "cell_type": "markdown",
      "metadata": {
        "id": "r78POYtyAxxt"
      },
      "source": [
        "Available data types include `int8`, `int16`, `int32`, `int64`, `uint8`|`16`|`32`|`64`, `float16`|`32`|`64` and `complex64`|`128`. Check out [the documentation](http://docs.scipy.org/doc/numpy-1.10.1/user/basics.types.html) for the full list.\n",
        "\n",
        "## `itemsize`\n",
        "The `itemsize` attribute returns the size (in bytes) of each item:"
      ]
    },
    {
      "cell_type": "code",
      "source": [
        "e = np.arange(1,5)\n",
        "e.itemsize"
      ],
      "metadata": {
        "colab": {
          "base_uri": "https://localhost:8080/"
        },
        "id": "LelujCgQARGP",
        "outputId": "e2be540a-5282-4f5f-e4dc-65409bc1571f"
      },
      "execution_count": null,
      "outputs": [
        {
          "output_type": "execute_result",
          "data": {
            "text/plain": [
              "8"
            ]
          },
          "metadata": {},
          "execution_count": 32
        }
      ]
    },
    {
      "cell_type": "markdown",
      "metadata": {
        "id": "_pWqzARcAxxt"
      },
      "source": [
        "## `data` buffer\n",
        "An array's data is actually stored in memory as a flat (one dimensional) byte buffer. It is available *via* the `data` attribute (you will rarely need it, though)."
      ]
    },
    {
      "cell_type": "code",
      "source": [
        "f = np.array([[1,2],[1000, 2000]], dtype=np.int32)\n",
        "f.data"
      ],
      "metadata": {
        "colab": {
          "base_uri": "https://localhost:8080/"
        },
        "id": "jDQDhToLCeGh",
        "outputId": "cfaa9165-bdb5-4637-910c-285d597467dd"
      },
      "execution_count": null,
      "outputs": [
        {
          "output_type": "execute_result",
          "data": {
            "text/plain": [
              "<memory at 0x7ef4880d1220>"
            ]
          },
          "metadata": {},
          "execution_count": 33
        }
      ]
    },
    {
      "cell_type": "markdown",
      "metadata": {
        "id": "iW6_D7EVAxxt"
      },
      "source": [
        "# Reshaping an array\n",
        "## In place\n",
        "Changing the shape of an `ndarray` is as simple as setting its `shape` attribute. However, the array's size must remain the same."
      ]
    },
    {
      "cell_type": "code",
      "source": [
        "g = np.arange(24)\n",
        "print(g)\n",
        "print(\"Rank: \", g.ndim)"
      ],
      "metadata": {
        "colab": {
          "base_uri": "https://localhost:8080/"
        },
        "id": "gBxKNH3mCeED",
        "outputId": "f19164dc-03ae-4d9c-9c98-a6eb21c4997d"
      },
      "execution_count": null,
      "outputs": [
        {
          "output_type": "stream",
          "name": "stdout",
          "text": [
            "[ 0  1  2  3  4  5  6  7  8  9 10 11 12 13 14 15 16 17 18 19 20 21 22 23]\n",
            "Rank:  1\n"
          ]
        }
      ]
    },
    {
      "cell_type": "code",
      "source": [
        "g.shape = (6, 4)\n",
        "print(g)\n",
        "print(\"Rank: \", g.ndim)"
      ],
      "metadata": {
        "colab": {
          "base_uri": "https://localhost:8080/"
        },
        "id": "VhS8OHobCeBh",
        "outputId": "c1e9cca7-311c-4032-db0c-7b66a598915e"
      },
      "execution_count": null,
      "outputs": [
        {
          "output_type": "stream",
          "name": "stdout",
          "text": [
            "[[ 0  1  2  3]\n",
            " [ 4  5  6  7]\n",
            " [ 8  9 10 11]\n",
            " [12 13 14 15]\n",
            " [16 17 18 19]\n",
            " [20 21 22 23]]\n",
            "Rank:  2\n"
          ]
        }
      ]
    },
    {
      "cell_type": "code",
      "source": [
        "g.shape = (2,3,4)\n",
        "print(g)\n",
        "print(\"Rank: \", g.ndim)"
      ],
      "metadata": {
        "colab": {
          "base_uri": "https://localhost:8080/"
        },
        "id": "ndS05AmXCd-6",
        "outputId": "a997f7a9-6134-4841-dc94-683ad105f7d8"
      },
      "execution_count": null,
      "outputs": [
        {
          "output_type": "stream",
          "name": "stdout",
          "text": [
            "[[[ 0  1  2  3]\n",
            "  [ 4  5  6  7]\n",
            "  [ 8  9 10 11]]\n",
            "\n",
            " [[12 13 14 15]\n",
            "  [16 17 18 19]\n",
            "  [20 21 22 23]]]\n",
            "Rank:  3\n"
          ]
        }
      ]
    },
    {
      "cell_type": "markdown",
      "metadata": {
        "id": "v_VW0ocOAxxu"
      },
      "source": [
        "## `reshape`\n",
        "The `reshape` function returns a new `ndarray` object pointing at the *same* data. This means that modifying one array will also modify the other."
      ]
    },
    {
      "cell_type": "code",
      "source": [
        "g2 = g.reshape(4,6)\n",
        "print(g2)\n",
        "print(\"Rank: \", g2.ndim)"
      ],
      "metadata": {
        "colab": {
          "base_uri": "https://localhost:8080/"
        },
        "id": "I19nlssbCd8j",
        "outputId": "8b100e9d-8d32-437f-f7bf-b451ed0a2d55"
      },
      "execution_count": null,
      "outputs": [
        {
          "output_type": "stream",
          "name": "stdout",
          "text": [
            "[[ 0  1  2  3  4  5]\n",
            " [ 6  7  8  9 10 11]\n",
            " [12 13 14 15 16 17]\n",
            " [18 19 20 21 22 23]]\n",
            "Rank:  2\n"
          ]
        }
      ]
    },
    {
      "cell_type": "code",
      "source": [
        "#Set item at row 1, col 2 to 999 (more about indexing below).\n",
        "\n",
        "g2[1,2] = 999\n",
        "g2"
      ],
      "metadata": {
        "colab": {
          "base_uri": "https://localhost:8080/"
        },
        "id": "t9dJg-XyCd6B",
        "outputId": "a400e28d-5f35-4da1-c733-3d58ea670ea6"
      },
      "execution_count": null,
      "outputs": [
        {
          "output_type": "execute_result",
          "data": {
            "text/plain": [
              "array([[  0,   1,   2,   3,   4,   5],\n",
              "       [  6,   7, 999,   9,  10,  11],\n",
              "       [ 12,  13,  14,  15,  16,  17],\n",
              "       [ 18,  19,  20,  21,  22,  23]])"
            ]
          },
          "metadata": {},
          "execution_count": 41
        }
      ]
    },
    {
      "cell_type": "code",
      "source": [
        "#The corresponding element in g has been modified.\n",
        "g"
      ],
      "metadata": {
        "colab": {
          "base_uri": "https://localhost:8080/"
        },
        "id": "hAqavZZmCd3i",
        "outputId": "59d749c4-4647-4ef9-91da-c95c355543b1"
      },
      "execution_count": null,
      "outputs": [
        {
          "output_type": "execute_result",
          "data": {
            "text/plain": [
              "array([[[  0,   1,   2,   3],\n",
              "        [  4,   5,   6,   7],\n",
              "        [999,   9,  10,  11]],\n",
              "\n",
              "       [[ 12,  13,  14,  15],\n",
              "        [ 16,  17,  18,  19],\n",
              "        [ 20,  21,  22,  23]]])"
            ]
          },
          "metadata": {},
          "execution_count": 42
        }
      ]
    },
    {
      "cell_type": "markdown",
      "metadata": {
        "id": "SeUGrylPAxxv"
      },
      "source": [
        "## `ravel`\n",
        "Finally, the `ravel` function returns a new one-dimensional `ndarray` that also points to the same data:"
      ]
    },
    {
      "cell_type": "code",
      "source": [
        "g.ravel()"
      ],
      "metadata": {
        "colab": {
          "base_uri": "https://localhost:8080/"
        },
        "id": "9tWFjxX3Cd1K",
        "outputId": "454d48c1-4da5-49e3-ff15-4266144b34ce"
      },
      "execution_count": null,
      "outputs": [
        {
          "output_type": "execute_result",
          "data": {
            "text/plain": [
              "array([  0,   1,   2,   3,   4,   5,   6,   7, 999,   9,  10,  11,  12,\n",
              "        13,  14,  15,  16,  17,  18,  19,  20,  21,  22,  23])"
            ]
          },
          "metadata": {},
          "execution_count": 43
        }
      ]
    },
    {
      "cell_type": "markdown",
      "metadata": {
        "id": "AHaXfQCgAxxv"
      },
      "source": [
        "# Arithmetic operations\n",
        "All the usual arithmetic operators (`+`, `-`, `*`, `/`, `//`, `**`, etc.) can be used with `ndarray`s. They apply *elementwise*:"
      ]
    },
    {
      "cell_type": "code",
      "source": [
        "a = np.array([12,45,75,23,87])\n",
        "b = np.array([5,4,2,3,1])\n",
        "\n",
        "print(\"a+b = \",a+b)\n",
        "print(\"a-b = \",a-b)\n",
        "print(\"a*b = \",a*b)\n",
        "print(\"a/b = \",a/b)\n",
        "print(\"a//b = \",a//b)\n",
        "print(\"a%b = \",a%b)\n",
        "print(\"a**b = \",a**b)"
      ],
      "metadata": {
        "colab": {
          "base_uri": "https://localhost:8080/"
        },
        "id": "xfiSvXKyCdyi",
        "outputId": "714dbe1d-0676-443b-a0dc-f96afce3664a"
      },
      "execution_count": null,
      "outputs": [
        {
          "output_type": "stream",
          "name": "stdout",
          "text": [
            "a+b =  [17 49 77 26 88]\n",
            "a-b =  [ 7 41 73 20 86]\n",
            "a*b =  [ 60 180 150  69  87]\n",
            "a/b =  [ 2.4        11.25       37.5         7.66666667 87.        ]\n",
            "a//b =  [ 2 11 37  7 87]\n",
            "a%b =  [2 1 1 2 0]\n",
            "a**b =  [ 248832 4100625    5625   12167      87]\n"
          ]
        }
      ]
    },
    {
      "cell_type": "markdown",
      "metadata": {
        "id": "zQiyZWHRAxxv"
      },
      "source": [
        "Note that the multiplication is *not* a matrix multiplication. We will discuss matrix operations below.\n",
        "\n",
        "The arrays must have the same shape. If they do not, NumPy will apply the *broadcasting rules*."
      ]
    },
    {
      "cell_type": "markdown",
      "metadata": {
        "id": "GH7t4eMsAxxv"
      },
      "source": [
        "# Broadcasting"
      ]
    },
    {
      "cell_type": "markdown",
      "metadata": {
        "id": "PlsPZbZHAxxw"
      },
      "source": [
        "In general, when NumPy expects arrays of the same shape but finds that this is not the case, it applies the so-called *broadcasting* rules:\n",
        "\n",
        "## First rule\n",
        "*If the arrays do not have the same rank, then a 1 will be prepended to the smaller ranking arrays until their ranks match.*"
      ]
    },
    {
      "cell_type": "code",
      "source": [
        "h = np.arange(5).reshape(1,1,5)\n",
        "h"
      ],
      "metadata": {
        "colab": {
          "base_uri": "https://localhost:8080/"
        },
        "id": "OaawqsTvDw1h",
        "outputId": "64635bec-e6ba-4510-8c4a-8762f2061d94"
      },
      "execution_count": null,
      "outputs": [
        {
          "output_type": "execute_result",
          "data": {
            "text/plain": [
              "array([[[0, 1, 2, 3, 4]]])"
            ]
          },
          "metadata": {},
          "execution_count": 45
        }
      ]
    },
    {
      "cell_type": "code",
      "source": [
        "#Now let's try to add a 1D array of shape (5,) to this 3D array of shape (1,1,5).\n",
        "#  Applying the first rule of broadcasting!\n",
        "h + [10,20,30,40,50] # same as: h + [[[10, 20, 30, 40, 50]]]"
      ],
      "metadata": {
        "colab": {
          "base_uri": "https://localhost:8080/"
        },
        "id": "OPIdcceKDwyp",
        "outputId": "7c13dfa9-858b-4bad-80e0-f64d45934f15"
      },
      "execution_count": null,
      "outputs": [
        {
          "output_type": "execute_result",
          "data": {
            "text/plain": [
              "array([[[10, 21, 32, 43, 54]]])"
            ]
          },
          "metadata": {},
          "execution_count": 46
        }
      ]
    },
    {
      "cell_type": "markdown",
      "metadata": {
        "id": "8Gj3b3bJAxxw"
      },
      "source": [
        "## Second rule\n",
        "*Arrays with a 1 along a particular dimension act as if they had the size of the array with the largest shape along that dimension. The value of the array element is repeated along that dimension.*"
      ]
    },
    {
      "cell_type": "code",
      "source": [
        "k = np.arange(6).reshape(2, 3)\n",
        "k"
      ],
      "metadata": {
        "colab": {
          "base_uri": "https://localhost:8080/"
        },
        "id": "P56RcZ9yDwwT",
        "outputId": "eff6f738-2643-4504-c286-e0ea567d045c"
      },
      "execution_count": null,
      "outputs": [
        {
          "output_type": "execute_result",
          "data": {
            "text/plain": [
              "array([[0, 1, 2],\n",
              "       [3, 4, 5]])"
            ]
          },
          "metadata": {},
          "execution_count": 47
        }
      ]
    },
    {
      "cell_type": "code",
      "source": [
        "# Let's try to add a 2D array of shape (2,1) to this 2D ndarray of shape (2, 3).\n",
        "#  NumPy will apply the second rule of broadcasting:\n",
        "\n",
        "k+[[100],[200]]  # same as: k + [[100, 100, 100], [200, 200, 200]]"
      ],
      "metadata": {
        "colab": {
          "base_uri": "https://localhost:8080/"
        },
        "id": "TTrJbDCTDwt-",
        "outputId": "b9278aa8-aa08-484a-8161-fc275d7b95a6"
      },
      "execution_count": null,
      "outputs": [
        {
          "output_type": "execute_result",
          "data": {
            "text/plain": [
              "array([[100, 101, 102],\n",
              "       [203, 204, 205]])"
            ]
          },
          "metadata": {},
          "execution_count": 48
        }
      ]
    },
    {
      "cell_type": "code",
      "source": [
        "# Combining rules 1 & 2, we can do this:\n",
        "k + [100,200,300] # after rule 1: [[100, 200, 300]], and after rule 2: [[100, 200, 300], [100, 200, 300]]"
      ],
      "metadata": {
        "colab": {
          "base_uri": "https://localhost:8080/"
        },
        "id": "bB1G3sfxDwrU",
        "outputId": "b3c4fd85-87a7-46f4-88c8-d3e76d85ab46"
      },
      "execution_count": null,
      "outputs": [
        {
          "output_type": "execute_result",
          "data": {
            "text/plain": [
              "array([[100, 201, 302],\n",
              "       [103, 204, 305]])"
            ]
          },
          "metadata": {},
          "execution_count": 49
        }
      ]
    },
    {
      "cell_type": "code",
      "source": [
        "k + 1000  # same as: k + [[1000, 1000, 1000], [1000, 1000, 1000]]"
      ],
      "metadata": {
        "colab": {
          "base_uri": "https://localhost:8080/"
        },
        "id": "1maog3g4DwpA",
        "outputId": "a60e0946-1bf8-462e-a55a-b91429e75233"
      },
      "execution_count": null,
      "outputs": [
        {
          "output_type": "execute_result",
          "data": {
            "text/plain": [
              "array([[1000, 1001, 1002],\n",
              "       [1003, 1004, 1005]])"
            ]
          },
          "metadata": {},
          "execution_count": 50
        }
      ]
    },
    {
      "cell_type": "markdown",
      "metadata": {
        "id": "Abo4pJmsAxxx"
      },
      "source": [
        "## Third rule\n",
        "*After rules 1 & 2, the sizes of all arrays must match.*"
      ]
    },
    {
      "cell_type": "code",
      "source": [
        "try:\n",
        "  k + [33,44]\n",
        "except ValueError as e:\n",
        "  print(e)"
      ],
      "metadata": {
        "colab": {
          "base_uri": "https://localhost:8080/"
        },
        "id": "fZeJQ3n-Dwmq",
        "outputId": "37688347-31d4-4d72-fdbd-4cde1bb49314"
      },
      "execution_count": null,
      "outputs": [
        {
          "output_type": "stream",
          "name": "stdout",
          "text": [
            "operands could not be broadcast together with shapes (2,3) (2,) \n"
          ]
        }
      ]
    },
    {
      "cell_type": "markdown",
      "metadata": {
        "id": "BJoufTjWAxxx"
      },
      "source": [
        "Broadcasting rules are used in many NumPy operations, not just arithmetic operations, as we will see below.\n",
        "For more details about broadcasting, check out [the documentation](https://docs.scipy.org/doc/numpy-dev/user/basics.broadcasting.html)."
      ]
    },
    {
      "cell_type": "markdown",
      "metadata": {
        "id": "dQ6DdYHjAxxx"
      },
      "source": [
        "## Upcasting\n",
        "When trying to combine arrays with different `dtype`s, NumPy will *upcast* to a type capable of handling all possible values (regardless of what the *actual* values are)."
      ]
    },
    {
      "cell_type": "code",
      "source": [
        "k1 = np.arange(0,5,dtype = np.uint8)\n",
        "print(k1.dtype,k1)"
      ],
      "metadata": {
        "colab": {
          "base_uri": "https://localhost:8080/"
        },
        "id": "nZbUoQirDwkL",
        "outputId": "3d88d062-be26-4622-980a-1d16ed81ca4f"
      },
      "execution_count": null,
      "outputs": [
        {
          "output_type": "stream",
          "name": "stdout",
          "text": [
            "uint8 [0 1 2 3 4]\n"
          ]
        }
      ]
    },
    {
      "cell_type": "code",
      "source": [
        "k2 = k1+ np.array([5,6,7,8,9], dtype = np.int8)\n",
        "print(k2.dtype, k2)"
      ],
      "metadata": {
        "colab": {
          "base_uri": "https://localhost:8080/"
        },
        "id": "W5lket80DwiB",
        "outputId": "55a1e813-9828-478b-f668-4aca42186355"
      },
      "execution_count": null,
      "outputs": [
        {
          "output_type": "stream",
          "name": "stdout",
          "text": [
            "int16 [ 5  7  9 11 13]\n"
          ]
        }
      ]
    },
    {
      "cell_type": "code",
      "source": [
        "# Note that int16 is required to represent all possible int8 and uint8 values (from -128 to 255),\n",
        "# even though in this case a uint8 would have sufficed.\n",
        "k3 = k1+1.5\n",
        "print(k3.dtype,k3)"
      ],
      "metadata": {
        "colab": {
          "base_uri": "https://localhost:8080/"
        },
        "id": "rjxV0GdgDwfx",
        "outputId": "23864853-5ed1-4fae-8bf4-649cda19e373"
      },
      "execution_count": null,
      "outputs": [
        {
          "output_type": "stream",
          "name": "stdout",
          "text": [
            "float64 [1.5 2.5 3.5 4.5 5.5]\n"
          ]
        }
      ]
    },
    {
      "cell_type": "markdown",
      "metadata": {
        "id": "R_uZU869Axxy"
      },
      "source": [
        "# Conditional operators"
      ]
    },
    {
      "cell_type": "code",
      "source": [
        "#The conditional operators also apply elementwise:\n",
        "\n",
        "m = np.array([20,-5,34,57])\n",
        "m<[12,34,2,567]"
      ],
      "metadata": {
        "colab": {
          "base_uri": "https://localhost:8080/"
        },
        "id": "-xpddxGaDwdP",
        "outputId": "525bd0ea-9a38-43a4-f9ec-7965feca29c4"
      },
      "execution_count": null,
      "outputs": [
        {
          "output_type": "execute_result",
          "data": {
            "text/plain": [
              "array([False,  True, False,  True])"
            ]
          },
          "metadata": {},
          "execution_count": 55
        }
      ]
    },
    {
      "cell_type": "code",
      "source": [
        "#And using broadcasting\n",
        "m<25 #same as m<[25,25,25,25]"
      ],
      "metadata": {
        "colab": {
          "base_uri": "https://localhost:8080/"
        },
        "id": "At-taiyvDwa4",
        "outputId": "5a7cf8da-9b60-4994-d561-de882917b44c"
      },
      "execution_count": null,
      "outputs": [
        {
          "output_type": "execute_result",
          "data": {
            "text/plain": [
              "array([ True,  True, False, False])"
            ]
          },
          "metadata": {},
          "execution_count": 56
        }
      ]
    },
    {
      "cell_type": "code",
      "source": [
        "#This is most useful in conjunction with boolean indexing (discussed below).\n",
        "\n",
        "m[m<25]"
      ],
      "metadata": {
        "colab": {
          "base_uri": "https://localhost:8080/"
        },
        "id": "I3c48J73DwYI",
        "outputId": "492aaa85-b57a-4ddc-96a0-990d81dd7dbc"
      },
      "execution_count": null,
      "outputs": [
        {
          "output_type": "execute_result",
          "data": {
            "text/plain": [
              "array([20, -5])"
            ]
          },
          "metadata": {},
          "execution_count": 57
        }
      ]
    },
    {
      "cell_type": "markdown",
      "metadata": {
        "id": "cxBEjyCZAxxz"
      },
      "source": [
        "# Mathematical and statistical functions"
      ]
    },
    {
      "cell_type": "markdown",
      "metadata": {
        "id": "LpaPwe6zAxxz"
      },
      "source": [
        "Many mathematical and statistical functions are available for `ndarray`s.\n",
        "\n",
        "## `ndarray` methods\n",
        "Some functions are simply `ndarray` methods, for example:"
      ]
    },
    {
      "cell_type": "code",
      "source": [
        "a = np.array([[-2.5, 3.1, 7], [10, 11, 12]])\n",
        "print(a)\n",
        "print(\"mean: \", a.mean())"
      ],
      "metadata": {
        "colab": {
          "base_uri": "https://localhost:8080/"
        },
        "id": "3M3uoNBiDwVY",
        "outputId": "444f4e97-73c8-423c-e584-c401c6ecd031"
      },
      "execution_count": null,
      "outputs": [
        {
          "output_type": "stream",
          "name": "stdout",
          "text": [
            "[[-2.5  3.1  7. ]\n",
            " [10.  11.  12. ]]\n",
            "mean:  6.766666666666667\n"
          ]
        }
      ]
    },
    {
      "cell_type": "code",
      "source": [
        "#Note that this computes the mean of all elements in the ndarray, regardless of its shape.\n",
        "# Here are a few more useful ndarray methods:\n",
        "\n",
        "for func in (a.min, a.max, a.sum, a.prod, a.std, a.var):\n",
        "    print(func.__name__, \"=\", func())"
      ],
      "metadata": {
        "id": "FzopeLSfDwS-"
      },
      "execution_count": null,
      "outputs": []
    },
    {
      "cell_type": "code",
      "source": [
        "#These functions accept an optional argument axis which lets you ask for the operation to be\n",
        "# performed on elements along the given axis. For example:\n",
        "\n",
        "c = np.arange(24).reshape(2,3,4)\n",
        "c"
      ],
      "metadata": {
        "colab": {
          "base_uri": "https://localhost:8080/"
        },
        "id": "384H_XIiDwQr",
        "outputId": "f3ba4238-5854-402c-c2b8-c7b180301f8c"
      },
      "execution_count": null,
      "outputs": [
        {
          "output_type": "execute_result",
          "data": {
            "text/plain": [
              "array([[[ 0,  1,  2,  3],\n",
              "        [ 4,  5,  6,  7],\n",
              "        [ 8,  9, 10, 11]],\n",
              "\n",
              "       [[12, 13, 14, 15],\n",
              "        [16, 17, 18, 19],\n",
              "        [20, 21, 22, 23]]])"
            ]
          },
          "metadata": {},
          "execution_count": 59
        }
      ]
    },
    {
      "cell_type": "code",
      "source": [
        "c.sum(axis=0)  #sum across matrices"
      ],
      "metadata": {
        "colab": {
          "base_uri": "https://localhost:8080/"
        },
        "id": "4tcL7nJiDwOQ",
        "outputId": "75d7d6a9-ba34-4f6a-945a-bb51aa9645fa"
      },
      "execution_count": null,
      "outputs": [
        {
          "output_type": "execute_result",
          "data": {
            "text/plain": [
              "array([[12, 14, 16, 18],\n",
              "       [20, 22, 24, 26],\n",
              "       [28, 30, 32, 34]])"
            ]
          },
          "metadata": {},
          "execution_count": 60
        }
      ]
    },
    {
      "cell_type": "code",
      "source": [
        "c.sum(axis=1)  #sum across rows"
      ],
      "metadata": {
        "colab": {
          "base_uri": "https://localhost:8080/"
        },
        "id": "g7R9P6NgDwLy",
        "outputId": "8992c4e2-bdfd-4a91-e41d-47176a9e1898"
      },
      "execution_count": null,
      "outputs": [
        {
          "output_type": "execute_result",
          "data": {
            "text/plain": [
              "array([[12, 15, 18, 21],\n",
              "       [48, 51, 54, 57]])"
            ]
          },
          "metadata": {},
          "execution_count": 61
        }
      ]
    },
    {
      "cell_type": "code",
      "source": [
        "#You can also sum over multiple axes:\n",
        "c.sum(axis =(0,2))"
      ],
      "metadata": {
        "colab": {
          "base_uri": "https://localhost:8080/"
        },
        "id": "Iz8-ZYJ6DwJo",
        "outputId": "9f369356-75d7-4068-ebda-6b338587f9d8"
      },
      "execution_count": null,
      "outputs": [
        {
          "output_type": "execute_result",
          "data": {
            "text/plain": [
              "array([ 60,  92, 124])"
            ]
          },
          "metadata": {},
          "execution_count": 62
        }
      ]
    },
    {
      "cell_type": "code",
      "source": [
        "0+1+2+3 + 12+13+14+15, 4+5+6+7 + 16+17+18+19, 8+9+10+11 + 20+21+22+23"
      ],
      "metadata": {
        "colab": {
          "base_uri": "https://localhost:8080/"
        },
        "id": "sljXFT5PDwHG",
        "outputId": "94d24448-218d-4a03-d457-29a390e9b218"
      },
      "execution_count": null,
      "outputs": [
        {
          "output_type": "execute_result",
          "data": {
            "text/plain": [
              "(60, 92, 124)"
            ]
          },
          "metadata": {},
          "execution_count": 63
        }
      ]
    },
    {
      "cell_type": "markdown",
      "metadata": {
        "id": "UnSRTLLvAxx0"
      },
      "source": [
        "## Universal functions\n",
        "NumPy also provides fast elementwise functions called *universal functions*, or **ufunc**. They are vectorized wrappers of simple functions. For example `square` returns a new `ndarray` which is a copy of the original `ndarray` except that each element is squared:"
      ]
    },
    {
      "cell_type": "code",
      "source": [
        "a = np.array([[-2.5, 3.1, 7], [10, 11, 12]])\n",
        "np.square(a)"
      ],
      "metadata": {
        "colab": {
          "base_uri": "https://localhost:8080/"
        },
        "id": "g-9UQmp0DwEg",
        "outputId": "46e9b318-e51f-446d-dabf-2f174e322cc2"
      },
      "execution_count": null,
      "outputs": [
        {
          "output_type": "execute_result",
          "data": {
            "text/plain": [
              "array([[  6.25,   9.61,  49.  ],\n",
              "       [100.  , 121.  , 144.  ]])"
            ]
          },
          "metadata": {},
          "execution_count": 64
        }
      ]
    },
    {
      "cell_type": "code",
      "source": [
        "#Here are a few more useful unary ufuncs:\n",
        "\n",
        "print(\"original ndarray\")\n",
        "print(a)\n",
        "\n",
        "for func in (np.abs,np.sqrt,np.exp,np.log,np.sign,np.ceil,np.modf,np.isnan,np.cos):\n",
        "  print(\"\\n\", func.__name__)\n",
        "  print(func(a))"
      ],
      "metadata": {
        "colab": {
          "base_uri": "https://localhost:8080/"
        },
        "id": "tH4w8ewYDwCI",
        "outputId": "f23426b8-5334-4d5f-fb04-b521249196a9"
      },
      "execution_count": null,
      "outputs": [
        {
          "output_type": "stream",
          "name": "stdout",
          "text": [
            "original ndarray\n",
            "[[-2.5  3.1  7. ]\n",
            " [10.  11.  12. ]]\n",
            "\n",
            " absolute\n",
            "[[ 2.5  3.1  7. ]\n",
            " [10.  11.  12. ]]\n",
            "\n",
            " sqrt\n",
            "[[       nan 1.76068169 2.64575131]\n",
            " [3.16227766 3.31662479 3.46410162]]\n",
            "\n",
            " exp\n",
            "[[8.20849986e-02 2.21979513e+01 1.09663316e+03]\n",
            " [2.20264658e+04 5.98741417e+04 1.62754791e+05]]\n",
            "\n",
            " log\n",
            "[[       nan 1.13140211 1.94591015]\n",
            " [2.30258509 2.39789527 2.48490665]]\n",
            "\n",
            " sign\n",
            "[[-1.  1.  1.]\n",
            " [ 1.  1.  1.]]\n",
            "\n",
            " ceil\n",
            "[[-2.  4.  7.]\n",
            " [10. 11. 12.]]\n",
            "\n",
            " modf\n",
            "(array([[-0.5,  0.1,  0. ],\n",
            "       [ 0. ,  0. ,  0. ]]), array([[-2.,  3.,  7.],\n",
            "       [10., 11., 12.]]))\n",
            "\n",
            " isnan\n",
            "[[False False False]\n",
            " [False False False]]\n",
            "\n",
            " cos\n",
            "[[-0.80114362 -0.99913515  0.75390225]\n",
            " [-0.83907153  0.0044257   0.84385396]]\n"
          ]
        },
        {
          "output_type": "stream",
          "name": "stderr",
          "text": [
            "<ipython-input-66-d05ce60cd33a>:8: RuntimeWarning: invalid value encountered in sqrt\n",
            "  print(func(a))\n",
            "<ipython-input-66-d05ce60cd33a>:8: RuntimeWarning: invalid value encountered in log\n",
            "  print(func(a))\n"
          ]
        }
      ]
    },
    {
      "cell_type": "markdown",
      "metadata": {
        "id": "_xaESYsgAxx1"
      },
      "source": [
        "## Binary ufuncs\n",
        "There are also many binary ufuncs, that apply elementwise on two `ndarray`s.  Broadcasting rules are applied if the arrays do not have the same shape:"
      ]
    },
    {
      "cell_type": "code",
      "source": [
        "a = np.array([1, -2, 3, 4])\n",
        "b = np.array([2, 8, -1, 7])\n",
        "np.add(a,b)  #same as : a + b"
      ],
      "metadata": {
        "colab": {
          "base_uri": "https://localhost:8080/"
        },
        "id": "EHdyPNf0Dv_v",
        "outputId": "2be7fccb-a7ae-4244-cc90-96880e8f3a39"
      },
      "execution_count": null,
      "outputs": [
        {
          "output_type": "execute_result",
          "data": {
            "text/plain": [
              "array([ 3,  6,  2, 11])"
            ]
          },
          "metadata": {},
          "execution_count": 68
        }
      ]
    },
    {
      "cell_type": "code",
      "source": [
        "np.greater(a,b)"
      ],
      "metadata": {
        "colab": {
          "base_uri": "https://localhost:8080/"
        },
        "id": "IYvxYu4tDv9Z",
        "outputId": "bbf978c1-fc2a-4f72-9cbf-ca04ccfe220e"
      },
      "execution_count": null,
      "outputs": [
        {
          "output_type": "execute_result",
          "data": {
            "text/plain": [
              "array([False, False,  True, False])"
            ]
          },
          "metadata": {},
          "execution_count": 69
        }
      ]
    },
    {
      "cell_type": "code",
      "source": [
        "np.maximum(a,b)"
      ],
      "metadata": {
        "colab": {
          "base_uri": "https://localhost:8080/"
        },
        "id": "BCg8lqlGDv7J",
        "outputId": "a16c4718-3dc1-456e-ba43-27d92324344e"
      },
      "execution_count": null,
      "outputs": [
        {
          "output_type": "execute_result",
          "data": {
            "text/plain": [
              "array([2, 8, 3, 7])"
            ]
          },
          "metadata": {},
          "execution_count": 70
        }
      ]
    },
    {
      "cell_type": "code",
      "source": [
        "np.copysign(a,b)"
      ],
      "metadata": {
        "colab": {
          "base_uri": "https://localhost:8080/"
        },
        "id": "Kjs1d4bjDv4_",
        "outputId": "c69243e9-7080-4284-a8f2-fa5ae54a735a"
      },
      "execution_count": null,
      "outputs": [
        {
          "output_type": "execute_result",
          "data": {
            "text/plain": [
              "array([ 1.,  2., -3.,  4.])"
            ]
          },
          "metadata": {},
          "execution_count": 71
        }
      ]
    },
    {
      "cell_type": "markdown",
      "metadata": {
        "id": "KhL0ewGEAxx1"
      },
      "source": [
        "# Array indexing\n",
        "## One-dimensional arrays\n",
        "One-dimensional NumPy arrays can be accessed more or less like regular python arrays:"
      ]
    },
    {
      "cell_type": "code",
      "source": [],
      "metadata": {
        "id": "L8sEY8_3JFAa"
      },
      "execution_count": null,
      "outputs": []
    },
    {
      "cell_type": "code",
      "source": [],
      "metadata": {
        "id": "ZIpan_hiJE91"
      },
      "execution_count": null,
      "outputs": []
    },
    {
      "cell_type": "code",
      "source": [],
      "metadata": {
        "id": "O-9uYUByJE6U"
      },
      "execution_count": null,
      "outputs": []
    },
    {
      "cell_type": "code",
      "source": [],
      "metadata": {
        "id": "RaeEOApwJE2o"
      },
      "execution_count": null,
      "outputs": []
    },
    {
      "cell_type": "code",
      "source": [],
      "metadata": {
        "id": "dJZV9w_oJE0L"
      },
      "execution_count": null,
      "outputs": []
    },
    {
      "cell_type": "code",
      "source": [],
      "metadata": {
        "id": "jipTpHxUJEyM"
      },
      "execution_count": null,
      "outputs": []
    },
    {
      "cell_type": "code",
      "source": [],
      "metadata": {
        "id": "-qXL6HDHJEv0"
      },
      "execution_count": null,
      "outputs": []
    },
    {
      "cell_type": "code",
      "source": [],
      "metadata": {
        "id": "i2mwPR6eJEs7"
      },
      "execution_count": null,
      "outputs": []
    },
    {
      "cell_type": "code",
      "source": [],
      "metadata": {
        "id": "fxOfHtZhJEqu"
      },
      "execution_count": null,
      "outputs": []
    },
    {
      "cell_type": "code",
      "source": [],
      "metadata": {
        "id": "H3t1MzzfJEoc"
      },
      "execution_count": null,
      "outputs": []
    },
    {
      "cell_type": "code",
      "source": [],
      "metadata": {
        "id": "18OBKFoSJEmE"
      },
      "execution_count": null,
      "outputs": []
    },
    {
      "cell_type": "code",
      "source": [],
      "metadata": {
        "id": "Fyurg-sCJEjj"
      },
      "execution_count": null,
      "outputs": []
    }
  ]
}